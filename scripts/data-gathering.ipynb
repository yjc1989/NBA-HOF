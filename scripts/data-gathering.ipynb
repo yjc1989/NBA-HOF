{
 "cells": [
  {
   "cell_type": "markdown",
   "metadata": {},
   "source": [
    "# Introduction"
   ]
  },
  {
   "cell_type": "markdown",
   "metadata": {},
   "source": [
    "In this notebook, we present how we scraped data from the websites, specifically for list of Hall of Fame inductees, and seasonal awards. The section Web-Scrape is divided into two parts. The first part, we use package lxml.html, while we use the package BeautifulSoup in the second."
   ]
  },
  {
   "cell_type": "markdown",
   "metadata": {},
   "source": [
    "# Web-Scrape"
   ]
  },
  {
   "cell_type": "markdown",
   "metadata": {},
   "source": [
    "## First Part: Using lxml.html"
   ]
  },
  {
   "cell_type": "markdown",
   "metadata": {},
   "source": [
    "In this subsection, we show how we scrape the data from the websites using package lxml.html. This method is modified from the webpage https://towardsdatascience.com/web-scraping-html-tables-with-python-c9baba21059"
   ]
  },
  {
   "cell_type": "markdown",
   "metadata": {},
   "source": [
    "### Import"
   ]
  },
  {
   "cell_type": "code",
   "execution_count": 1,
   "metadata": {},
   "outputs": [],
   "source": [
    "import numpy as np\n",
    "import requests\n",
    "import lxml.html as lh\n",
    "import pandas as pd\n",
    "import re"
   ]
  },
  {
   "cell_type": "markdown",
   "metadata": {},
   "source": [
    "### Hall of Fame Inductees"
   ]
  },
  {
   "cell_type": "markdown",
   "metadata": {},
   "source": [
    "We first scrape the content of the wekipedia page and then extract the elements of the table for Hall of Fame inductees."
   ]
  },
  {
   "cell_type": "code",
   "execution_count": 2,
   "metadata": {},
   "outputs": [],
   "source": [
    "# Scrape the list of Hall of Fame inductees from wikipedia\n",
    "url = 'https://en.wikipedia.org/wiki/List_of_players_in_the_Naismith_Memorial_Basketball_Hall_of_Fame'\n",
    "page = requests.get(url)\n",
    "doc = lh.fromstring(page.content)\n",
    "tr_elements = doc.xpath('//tr')"
   ]
  },
  {
   "cell_type": "markdown",
   "metadata": {},
   "source": [
    "We then use the length of the elements in each row to identify the part we want."
   ]
  },
  {
   "cell_type": "code",
   "execution_count": 3,
   "metadata": {
    "scrolled": true
   },
   "outputs": [
    {
     "data": {
      "text/plain": [
       "201"
      ]
     },
     "execution_count": 3,
     "metadata": {},
     "output_type": "execute_result"
    }
   ],
   "source": [
    "# total number of rows in the table is 201\n",
    "len(tr_elements)"
   ]
  },
  {
   "cell_type": "code",
   "execution_count": 4,
   "metadata": {},
   "outputs": [
    {
     "name": "stdout",
     "output_type": "stream",
     "text": [
      "[192, 193, 194, 195, 196, 197, 198, 199, 200] are not in the table!\n"
     ]
    }
   ],
   "source": [
    "# there should be 5 elements in each row\n",
    "list_outside = []\n",
    "for i in range(0,201):\n",
    "    if len(tr_elements[i]) != 5:\n",
    "        list_outside = list_outside + [i]\n",
    "\n",
    "print(str(list_outside)+' are not in the table!')\n",
    "    "
   ]
  },
  {
   "cell_type": "code",
   "execution_count": 5,
   "metadata": {},
   "outputs": [
    {
     "data": {
      "text/plain": [
       "'\\n2018\\nCharlie Scott\\nG\\nNBA champion (1976)3× NBA All-Star (1973–1975)2× ABA All-Star (1971, 1972)All-ABA First Team (1971)All-ABA Second Team (1972)ABA Rookie of the Year (1971)ABA All-Rookie First Team (1971)ABA All-Time Team2× Consensus second-team All-American (1969, 1970)ACC Athlete of the Year (1970)College Basketball Hall of Fame (2015)Summer Olympics \\xa0Gold: 1968\\n[174]\\n'"
      ]
     },
     "execution_count": 5,
     "metadata": {},
     "output_type": "execute_result"
    }
   ],
   "source": [
    "# this is actually the last row in the table we would like to extract\n",
    "tr_elements[191].text_content()"
   ]
  },
  {
   "cell_type": "code",
   "execution_count": 6,
   "metadata": {},
   "outputs": [],
   "source": [
    "tr_elements = tr_elements[0:192]"
   ]
  },
  {
   "cell_type": "markdown",
   "metadata": {},
   "source": [
    "We now create a dictionary by using the header and table content, in order to create a dataframe in the end"
   ]
  },
  {
   "cell_type": "code",
   "execution_count": 7,
   "metadata": {},
   "outputs": [
    {
     "data": {
      "text/plain": [
       "['Year\\n', 'Inductees\\n', 'Pos.\\n', 'Achievements\\n', 'Ref.\\n']"
      ]
     },
     "execution_count": 7,
     "metadata": {},
     "output_type": "execute_result"
    }
   ],
   "source": [
    "# The first row should be the header\n",
    "[t.text_content() for t in tr_elements[0]]"
   ]
  },
  {
   "cell_type": "code",
   "execution_count": 8,
   "metadata": {},
   "outputs": [
    {
     "name": "stdout",
     "output_type": "stream",
     "text": [
      "1:\"Year\"\n",
      "2:\"Inductees\"\n",
      "3:\"Pos.\"\n",
      "4:\"Achievements\"\n",
      "5:\"Ref.\"\n"
     ]
    }
   ],
   "source": [
    "# Extract the header and create a list\n",
    "col = []\n",
    "i=0\n",
    "for t in tr_elements[0]:\n",
    "    i = i+1\n",
    "    name = t.text_content().replace('\\n','')\n",
    "    print('%d:\"%s\"' %(i,name))\n",
    "    col.append((name,[]))"
   ]
  },
  {
   "cell_type": "code",
   "execution_count": 9,
   "metadata": {},
   "outputs": [
    {
     "data": {
      "text/plain": [
       "[('Year', []),\n",
       " ('Inductees', []),\n",
       " ('Pos.', []),\n",
       " ('Achievements', []),\n",
       " ('Ref.', [])]"
      ]
     },
     "execution_count": 9,
     "metadata": {},
     "output_type": "execute_result"
    }
   ],
   "source": [
    "# check list 'col,' the first item in each tuple is the column name and the rest is the data\n",
    "col"
   ]
  },
  {
   "cell_type": "code",
   "execution_count": 10,
   "metadata": {},
   "outputs": [],
   "source": [
    "# collect the content of the table in the dictionary\n",
    "for j in range(1,len(tr_elements)):\n",
    "    T = tr_elements[j]\n",
    "    i=0\n",
    "    for t in T.iterchildren():\n",
    "        data = t.text_content()\n",
    "        col[i][1].append(data)\n",
    "        i = i+1\n",
    "        "
   ]
  },
  {
   "cell_type": "code",
   "execution_count": 11,
   "metadata": {},
   "outputs": [
    {
     "data": {
      "text/plain": [
       "list"
      ]
     },
     "execution_count": 11,
     "metadata": {},
     "output_type": "execute_result"
    }
   ],
   "source": [
    "type(col)"
   ]
  },
  {
   "cell_type": "code",
   "execution_count": 12,
   "metadata": {},
   "outputs": [],
   "source": [
    "# create the dictionary out of the list of tuple, 'col'\n",
    "Dict={title:column for (title,column) in col}\n",
    "df=pd.DataFrame(Dict)"
   ]
  },
  {
   "cell_type": "code",
   "execution_count": 13,
   "metadata": {},
   "outputs": [
    {
     "data": {
      "text/html": [
       "<div>\n",
       "<style scoped>\n",
       "    .dataframe tbody tr th:only-of-type {\n",
       "        vertical-align: middle;\n",
       "    }\n",
       "\n",
       "    .dataframe tbody tr th {\n",
       "        vertical-align: top;\n",
       "    }\n",
       "\n",
       "    .dataframe thead th {\n",
       "        text-align: right;\n",
       "    }\n",
       "</style>\n",
       "<table border=\"1\" class=\"dataframe\">\n",
       "  <thead>\n",
       "    <tr style=\"text-align: right;\">\n",
       "      <th></th>\n",
       "      <th>Year</th>\n",
       "      <th>Inductees</th>\n",
       "      <th>Pos.</th>\n",
       "      <th>Achievements</th>\n",
       "      <th>Ref.</th>\n",
       "    </tr>\n",
       "  </thead>\n",
       "  <tbody>\n",
       "    <tr>\n",
       "      <th>0</th>\n",
       "      <td>1959</td>\n",
       "      <td>Chuck Hyatt</td>\n",
       "      <td>G</td>\n",
       "      <td>National championship (Pittsburgh, 1928, 1930)...</td>\n",
       "      <td>[3]\\n</td>\n",
       "    </tr>\n",
       "    <tr>\n",
       "      <th>1</th>\n",
       "      <td>1959</td>\n",
       "      <td>Hank Luisetti</td>\n",
       "      <td>F</td>\n",
       "      <td>3 Pacific Coast Conference championships (Stan...</td>\n",
       "      <td>[4]\\n</td>\n",
       "    </tr>\n",
       "    <tr>\n",
       "      <th>2</th>\n",
       "      <td>1959</td>\n",
       "      <td>George Mikan</td>\n",
       "      <td>C</td>\n",
       "      <td>All-America (DePaul, 1944–45); All-NBA First-T...</td>\n",
       "      <td>[5]\\n</td>\n",
       "    </tr>\n",
       "    <tr>\n",
       "      <th>3</th>\n",
       "      <td>1959</td>\n",
       "      <td>John Schommer</td>\n",
       "      <td>G</td>\n",
       "      <td>Big Ten Championships (Chicago, 1907–09); All-...</td>\n",
       "      <td>[6]\\n</td>\n",
       "    </tr>\n",
       "    <tr>\n",
       "      <th>4</th>\n",
       "      <td>1960</td>\n",
       "      <td>Vic Hanson</td>\n",
       "      <td>G</td>\n",
       "      <td>Helms Foundation Championship (Syracuse, 1926)...</td>\n",
       "      <td>[7]\\n</td>\n",
       "    </tr>\n",
       "  </tbody>\n",
       "</table>\n",
       "</div>"
      ],
      "text/plain": [
       "   Year      Inductees Pos.  \\\n",
       "0  1959    Chuck Hyatt    G   \n",
       "1  1959  Hank Luisetti    F   \n",
       "2  1959   George Mikan    C   \n",
       "3  1959  John Schommer    G   \n",
       "4  1960     Vic Hanson    G   \n",
       "\n",
       "                                        Achievements   Ref.  \n",
       "0  National championship (Pittsburgh, 1928, 1930)...  [3]\\n  \n",
       "1  3 Pacific Coast Conference championships (Stan...  [4]\\n  \n",
       "2  All-America (DePaul, 1944–45); All-NBA First-T...  [5]\\n  \n",
       "3  Big Ten Championships (Chicago, 1907–09); All-...  [6]\\n  \n",
       "4  Helms Foundation Championship (Syracuse, 1926)...  [7]\\n  "
      ]
     },
     "execution_count": 13,
     "metadata": {},
     "output_type": "execute_result"
    }
   ],
   "source": [
    "df.head()"
   ]
  },
  {
   "cell_type": "code",
   "execution_count": 14,
   "metadata": {},
   "outputs": [],
   "source": [
    "export_csv = df.to_csv (r'../data/Hall-of-Fame.csv', index = None, header=True)"
   ]
  },
  {
   "cell_type": "markdown",
   "metadata": {},
   "source": [
    "### NBA Final MVP"
   ]
  },
  {
   "cell_type": "markdown",
   "metadata": {},
   "source": [
    "We scrape the content of the wekipedia page and then extract the elements of the table for NBA Final MVP"
   ]
  },
  {
   "cell_type": "code",
   "execution_count": 15,
   "metadata": {},
   "outputs": [],
   "source": [
    "# Scrape the data from wikipedia\n",
    "url = 'https://en.wikipedia.org/wiki/Bill_Russell_NBA_Finals_Most_Valuable_Player_Award'\n",
    "page = requests.get(url)\n",
    "doc = lh.fromstring(page.content)\n",
    "tr_elements = doc.xpath('//tr')"
   ]
  },
  {
   "cell_type": "markdown",
   "metadata": {},
   "source": [
    "We then use the length of the elements in each row to identify the part we want."
   ]
  },
  {
   "cell_type": "code",
   "execution_count": 16,
   "metadata": {
    "scrolled": false
   },
   "outputs": [
    {
     "data": {
      "text/plain": [
       "114"
      ]
     },
     "execution_count": 16,
     "metadata": {},
     "output_type": "execute_result"
    }
   ],
   "source": [
    "# total number of rows in the table is 114\n",
    "len(tr_elements)"
   ]
  },
  {
   "cell_type": "code",
   "execution_count": 17,
   "metadata": {},
   "outputs": [
    {
     "name": "stdout",
     "output_type": "stream",
     "text": [
      "[0, 1, 2, 3, 4, 5, 6, 7, 8, 9, 10, 11, 12, 13, 14, 15, 67, 68, 69, 70, 71, 72, 73, 74, 75, 76, 77, 78, 79, 80, 81, 82, 83, 84, 85, 86, 87, 88, 89, 90, 91, 92, 93, 94, 95, 96, 97, 98, 99, 100, 101, 102, 103, 104, 105, 106, 107, 108, 109, 110, 111, 112, 113] are not in the table!\n"
     ]
    }
   ],
   "source": [
    "# there should be 5 elements in each row\n",
    "list_outside = []\n",
    "for i in range(0,114):\n",
    "    if len(tr_elements[i]) != 5:\n",
    "        list_outside = list_outside + [i]\n",
    "\n",
    "print(str(list_outside)+' are not in the table!')\n",
    "    "
   ]
  },
  {
   "cell_type": "code",
   "execution_count": 18,
   "metadata": {},
   "outputs": [
    {
     "data": {
      "text/plain": [
       "'\\nYear\\n\\nPlayer\\n\\nPosition\\n\\nNationality\\n\\nTeam\\n'"
      ]
     },
     "execution_count": 18,
     "metadata": {},
     "output_type": "execute_result"
    }
   ],
   "source": [
    "# The header of the table is in row 16\n",
    "tr_elements[16].text_content()"
   ]
  },
  {
   "cell_type": "code",
   "execution_count": 19,
   "metadata": {},
   "outputs": [
    {
     "data": {
      "text/plain": [
       "'\\n2018\\n\\nKevin Durant^ (2)\\n\\nForward\\n\\n\\xa0United States\\n\\nGolden State Warriors (4)\\n'"
      ]
     },
     "execution_count": 19,
     "metadata": {},
     "output_type": "execute_result"
    }
   ],
   "source": [
    "# The last row of the table in in row 66\n",
    "tr_elements[66].text_content()"
   ]
  },
  {
   "cell_type": "code",
   "execution_count": 20,
   "metadata": {},
   "outputs": [],
   "source": [
    "# keep only from 16 to 66\n",
    "tr_elements = tr_elements[16:(67)]"
   ]
  },
  {
   "cell_type": "code",
   "execution_count": 21,
   "metadata": {},
   "outputs": [
    {
     "data": {
      "text/plain": [
       "['Year\\n', 'Player\\n', 'Position\\n', 'Nationality\\n', 'Team\\n']"
      ]
     },
     "execution_count": 21,
     "metadata": {},
     "output_type": "execute_result"
    }
   ],
   "source": [
    "# The first row should be the header\n",
    "[t.text_content() for t in tr_elements[0]]"
   ]
  },
  {
   "cell_type": "code",
   "execution_count": 22,
   "metadata": {},
   "outputs": [
    {
     "name": "stdout",
     "output_type": "stream",
     "text": [
      "1:\"Year\"\n",
      "2:\"Player\"\n",
      "3:\"Position\"\n",
      "4:\"Nationality\"\n",
      "5:\"Team\"\n"
     ]
    }
   ],
   "source": [
    "# Extract the header and create a list\n",
    "col = []\n",
    "i=0\n",
    "for t in tr_elements[0]:\n",
    "    i = i+1\n",
    "    name = t.text_content().replace('\\n','')\n",
    "    print('%d:\"%s\"' %(i,name))\n",
    "    col.append((name,[]))"
   ]
  },
  {
   "cell_type": "code",
   "execution_count": 23,
   "metadata": {},
   "outputs": [],
   "source": [
    "# Store all the data in the list\n",
    "for j in range(1,len(tr_elements)):\n",
    "    T = tr_elements[j]\n",
    "    i=0\n",
    "    for t in T.iterchildren():\n",
    "        data = t.text_content()\n",
    "        col[i][1].append(data)\n",
    "        i = i+1"
   ]
  },
  {
   "cell_type": "code",
   "execution_count": 24,
   "metadata": {},
   "outputs": [],
   "source": [
    "# create the dictionary out of the list of tuple, 'col'\n",
    "Dict={title:column for (title,column) in col}\n",
    "df=pd.DataFrame(Dict)"
   ]
  },
  {
   "cell_type": "code",
   "execution_count": 25,
   "metadata": {},
   "outputs": [
    {
     "data": {
      "text/html": [
       "<div>\n",
       "<style scoped>\n",
       "    .dataframe tbody tr th:only-of-type {\n",
       "        vertical-align: middle;\n",
       "    }\n",
       "\n",
       "    .dataframe tbody tr th {\n",
       "        vertical-align: top;\n",
       "    }\n",
       "\n",
       "    .dataframe thead th {\n",
       "        text-align: right;\n",
       "    }\n",
       "</style>\n",
       "<table border=\"1\" class=\"dataframe\">\n",
       "  <thead>\n",
       "    <tr style=\"text-align: right;\">\n",
       "      <th></th>\n",
       "      <th>Year</th>\n",
       "      <th>Player</th>\n",
       "      <th>Position</th>\n",
       "      <th>Nationality</th>\n",
       "      <th>Team</th>\n",
       "    </tr>\n",
       "  </thead>\n",
       "  <tbody>\n",
       "    <tr>\n",
       "      <th>0</th>\n",
       "      <td>1969\\n</td>\n",
       "      <td>Jerry West*\\n</td>\n",
       "      <td>Guard\\n</td>\n",
       "      <td>United States\\n</td>\n",
       "      <td>Los Angeles Lakers §\\n</td>\n",
       "    </tr>\n",
       "    <tr>\n",
       "      <th>1</th>\n",
       "      <td>1970\\n</td>\n",
       "      <td>Willis Reed*\\n</td>\n",
       "      <td>Center/Forward\\n</td>\n",
       "      <td>United States\\n</td>\n",
       "      <td>New York Knicks\\n</td>\n",
       "    </tr>\n",
       "    <tr>\n",
       "      <th>2</th>\n",
       "      <td>1971\\n</td>\n",
       "      <td>Lew Alcindor*[a]\\n</td>\n",
       "      <td>Center\\n</td>\n",
       "      <td>United States\\n</td>\n",
       "      <td>Milwaukee Bucks\\n</td>\n",
       "    </tr>\n",
       "    <tr>\n",
       "      <th>3</th>\n",
       "      <td>1972\\n</td>\n",
       "      <td>Wilt Chamberlain*\\n</td>\n",
       "      <td>Center\\n</td>\n",
       "      <td>United States\\n</td>\n",
       "      <td>Los Angeles Lakers (2)\\n</td>\n",
       "    </tr>\n",
       "    <tr>\n",
       "      <th>4</th>\n",
       "      <td>1973\\n</td>\n",
       "      <td>Willis Reed* (2)\\n</td>\n",
       "      <td>Center/Forward\\n</td>\n",
       "      <td>United States\\n</td>\n",
       "      <td>New York Knicks (2)\\n</td>\n",
       "    </tr>\n",
       "  </tbody>\n",
       "</table>\n",
       "</div>"
      ],
      "text/plain": [
       "     Year               Player          Position       Nationality  \\\n",
       "0  1969\\n        Jerry West*\\n           Guard\\n   United States\\n   \n",
       "1  1970\\n       Willis Reed*\\n  Center/Forward\\n   United States\\n   \n",
       "2  1971\\n   Lew Alcindor*[a]\\n          Center\\n   United States\\n   \n",
       "3  1972\\n  Wilt Chamberlain*\\n          Center\\n   United States\\n   \n",
       "4  1973\\n   Willis Reed* (2)\\n  Center/Forward\\n   United States\\n   \n",
       "\n",
       "                       Team  \n",
       "0    Los Angeles Lakers §\\n  \n",
       "1         New York Knicks\\n  \n",
       "2         Milwaukee Bucks\\n  \n",
       "3  Los Angeles Lakers (2)\\n  \n",
       "4     New York Knicks (2)\\n  "
      ]
     },
     "execution_count": 25,
     "metadata": {},
     "output_type": "execute_result"
    }
   ],
   "source": [
    "df.head()"
   ]
  },
  {
   "cell_type": "markdown",
   "metadata": {},
   "source": [
    "We now start to clean the data in the dataframe df"
   ]
  },
  {
   "cell_type": "code",
   "execution_count": 26,
   "metadata": {},
   "outputs": [],
   "source": [
    "# for year, take only the integer part\n",
    "regex = re.compile(r'^(\\d{4})$')\n",
    "df['Year'] = df['Year'].apply(lambda x: int(regex.findall(x)[0]))"
   ]
  },
  {
   "cell_type": "code",
   "execution_count": 27,
   "metadata": {},
   "outputs": [],
   "source": [
    "# for the Player, take only the name part\n",
    "df['Player'] = df['Player'].str.replace('*','')\n",
    "df['Player'] = df['Player'].str.replace('^','')\n",
    "df['Player'] = df['Player'].str.replace('\\n','')"
   ]
  },
  {
   "cell_type": "code",
   "execution_count": 28,
   "metadata": {},
   "outputs": [],
   "source": [
    "# get rid of any footnote in the Player column\n",
    "df['Player'] = df['Player'].apply(lambda x: re.findall(r'[a-zA-Z\\s\\'\\-]+',x)[0])"
   ]
  },
  {
   "cell_type": "code",
   "execution_count": 29,
   "metadata": {},
   "outputs": [],
   "source": [
    "# get rid of the space at the end\n",
    "for i in range(0,df.shape[0]):\n",
    "    if df.loc[i,'Player'][-1] == ' ':\n",
    "        df.loc[i,'Player'] = df.loc[i,'Player'][:-1]\n",
    "        "
   ]
  },
  {
   "cell_type": "code",
   "execution_count": 30,
   "metadata": {},
   "outputs": [],
   "source": [
    "# get rid of other column\n",
    "df.drop(['Position','Nationality','Team'],axis=1,inplace=True)"
   ]
  },
  {
   "cell_type": "code",
   "execution_count": 31,
   "metadata": {},
   "outputs": [],
   "source": [
    "Final_MVP = df.groupby('Player').count().reset_index()"
   ]
  },
  {
   "cell_type": "code",
   "execution_count": 32,
   "metadata": {
    "scrolled": true
   },
   "outputs": [],
   "source": [
    "Final_MVP.rename(index=str,columns={'Year':'Final_MVP'},inplace=True)"
   ]
  },
  {
   "cell_type": "code",
   "execution_count": 33,
   "metadata": {},
   "outputs": [
    {
     "data": {
      "text/html": [
       "<div>\n",
       "<style scoped>\n",
       "    .dataframe tbody tr th:only-of-type {\n",
       "        vertical-align: middle;\n",
       "    }\n",
       "\n",
       "    .dataframe tbody tr th {\n",
       "        vertical-align: top;\n",
       "    }\n",
       "\n",
       "    .dataframe thead th {\n",
       "        text-align: right;\n",
       "    }\n",
       "</style>\n",
       "<table border=\"1\" class=\"dataframe\">\n",
       "  <thead>\n",
       "    <tr style=\"text-align: right;\">\n",
       "      <th></th>\n",
       "      <th>Player</th>\n",
       "      <th>Final_MVP</th>\n",
       "    </tr>\n",
       "  </thead>\n",
       "  <tbody>\n",
       "    <tr>\n",
       "      <th>0</th>\n",
       "      <td>Andre Iguodala</td>\n",
       "      <td>1</td>\n",
       "    </tr>\n",
       "    <tr>\n",
       "      <th>1</th>\n",
       "      <td>Bill Walton</td>\n",
       "      <td>1</td>\n",
       "    </tr>\n",
       "    <tr>\n",
       "      <th>2</th>\n",
       "      <td>Cedric Maxwell</td>\n",
       "      <td>1</td>\n",
       "    </tr>\n",
       "    <tr>\n",
       "      <th>3</th>\n",
       "      <td>Chauncey Billups</td>\n",
       "      <td>1</td>\n",
       "    </tr>\n",
       "    <tr>\n",
       "      <th>4</th>\n",
       "      <td>Dennis Johnson</td>\n",
       "      <td>1</td>\n",
       "    </tr>\n",
       "  </tbody>\n",
       "</table>\n",
       "</div>"
      ],
      "text/plain": [
       "             Player  Final_MVP\n",
       "0    Andre Iguodala          1\n",
       "1       Bill Walton          1\n",
       "2    Cedric Maxwell          1\n",
       "3  Chauncey Billups          1\n",
       "4    Dennis Johnson          1"
      ]
     },
     "execution_count": 33,
     "metadata": {},
     "output_type": "execute_result"
    }
   ],
   "source": [
    "# The dataframe include the Player's name and the number of times he is awarded final MVP\n",
    "Final_MVP.head()"
   ]
  },
  {
   "cell_type": "code",
   "execution_count": 34,
   "metadata": {},
   "outputs": [],
   "source": [
    "export_csv = Final_MVP.to_csv (r'../data/Final-MVP.csv', index = None, header=True)"
   ]
  },
  {
   "cell_type": "markdown",
   "metadata": {},
   "source": [
    "### NBA All-Star MVP"
   ]
  },
  {
   "cell_type": "markdown",
   "metadata": {},
   "source": [
    "We scrape the content of the wekipedia page and then extract the elements of the table for NBA All-Star MVP"
   ]
  },
  {
   "cell_type": "code",
   "execution_count": 35,
   "metadata": {},
   "outputs": [],
   "source": [
    "url = 'https://en.wikipedia.org/wiki/NBA_All-Star_Game_Most_Valuable_Player_Award'\n",
    "page = requests.get(url)\n",
    "doc = lh.fromstring(page.content)\n",
    "tr_elements = doc.xpath('//tr')"
   ]
  },
  {
   "cell_type": "markdown",
   "metadata": {},
   "source": [
    "We then use the length of the elements in each row to identify the part we want."
   ]
  },
  {
   "cell_type": "code",
   "execution_count": 36,
   "metadata": {
    "scrolled": false
   },
   "outputs": [
    {
     "data": {
      "text/plain": [
       "139"
      ]
     },
     "execution_count": 36,
     "metadata": {},
     "output_type": "execute_result"
    }
   ],
   "source": [
    "# total number of rows in the table is 137\n",
    "len(tr_elements)"
   ]
  },
  {
   "cell_type": "code",
   "execution_count": 37,
   "metadata": {},
   "outputs": [
    {
     "name": "stdout",
     "output_type": "stream",
     "text": [
      "[0, 1, 2, 3, 4, 5, 6, 7, 8, 9, 10, 11, 12, 13, 14, 25, 60, 66, 68, 78, 89, 90, 91, 92, 93, 94, 95, 96, 97, 98, 99, 100, 101, 102, 103, 104, 105, 106, 107, 108, 109, 110, 111, 112, 113, 114, 115, 116, 117, 118, 119, 120, 121, 122, 123, 124, 125, 126, 127, 128, 129, 130, 131, 132, 133, 134, 135, 136] are not in the table!\n"
     ]
    }
   ],
   "source": [
    "# there should be 5 elements in each row but sometimes 4 (e.g. 2009 and 2000)\n",
    "list_outside = []\n",
    "for i in range(0,137):\n",
    "    if len(tr_elements[i]) != 5:\n",
    "        list_outside = list_outside + [i]\n",
    "\n",
    "print(str(list_outside)+' are not in the table!')\n",
    "    "
   ]
  },
  {
   "cell_type": "code",
   "execution_count": 38,
   "metadata": {},
   "outputs": [
    {
     "data": {
      "text/plain": [
       "'\\nSeason\\n\\nPlayer\\n\\nPosition\\n\\nNationality\\n\\nTeam\\n'"
      ]
     },
     "execution_count": 38,
     "metadata": {},
     "output_type": "execute_result"
    }
   ],
   "source": [
    "# The header of the table is in row 15\n",
    "tr_elements[15].text_content()"
   ]
  },
  {
   "cell_type": "code",
   "execution_count": 39,
   "metadata": {},
   "outputs": [
    {
     "data": {
      "text/plain": [
       "'\\n2018\\n\\nLeBron James^ (3)\\n\\nForward\\n\\n\\xa0United States\\n\\nCleveland Cavaliers (4)\\n'"
      ]
     },
     "execution_count": 39,
     "metadata": {},
     "output_type": "execute_result"
    }
   ],
   "source": [
    "# The last row of the table in in row 65\n",
    "tr_elements[87].text_content()"
   ]
  },
  {
   "cell_type": "code",
   "execution_count": 40,
   "metadata": {},
   "outputs": [
    {
     "name": "stdout",
     "output_type": "stream",
     "text": [
      "['Bob Pettit* (3)\\n', 'Forward/Center\\n', '\\xa0United States\\n', 'St. Louis Hawks (3)\\n']\n",
      "['Karl Malone* (2)\\n', 'Forward\\n', '\\xa0United States\\n', 'Utah Jazz (3)\\n']\n",
      "['1999\\n', \"Not awarded as the game was canceled due to the league's lockout.[3]\\n\"]\n",
      "['Tim Duncan\\n', 'Forward/Center\\n', '\\xa0United States[c]\\n', 'San Antonio Spurs (2)\\n']\n",
      "[\"Shaquille O'Neal* (3) [e]\\n\", 'Center\\n', '\\xa0United States\\n', 'Phoenix Suns\\n']\n"
     ]
    }
   ],
   "source": [
    "# The rows in the table with 4 elements\n",
    "for i in [25,60,66,68,78]:\n",
    "    print([t.text_content() for t in tr_elements[i]])"
   ]
  },
  {
   "cell_type": "code",
   "execution_count": 41,
   "metadata": {},
   "outputs": [],
   "source": [
    "# keep only from 15 to 88\n",
    "tr_elements = tr_elements[15:88]"
   ]
  },
  {
   "cell_type": "code",
   "execution_count": 42,
   "metadata": {},
   "outputs": [
    {
     "name": "stdout",
     "output_type": "stream",
     "text": [
      "1:\"Season\"\n",
      "2:\"Player\"\n",
      "3:\"Position\"\n",
      "4:\"Nationality\"\n",
      "5:\"Team\"\n"
     ]
    }
   ],
   "source": [
    "# Extract the header and create a list\n",
    "col = []\n",
    "i=0\n",
    "\n",
    "for t in tr_elements[0]:\n",
    "    i = i+1\n",
    "    name = t.text_content().replace('\\n','')\n",
    "    print('%d:\"%s\"' %(i,name))\n",
    "    col.append((name,[]))"
   ]
  },
  {
   "cell_type": "code",
   "execution_count": 43,
   "metadata": {},
   "outputs": [],
   "source": [
    "# Store all the data in the list\n",
    "for j in range(1,len(tr_elements)):\n",
    "    T = tr_elements[j]   \n",
    "    if len(T) == 5: # if row is of size 5, this belongs to our table\n",
    "        i=0\n",
    "    elif len(T) == 4: # if row is of size 4, that is the year when there are two all-star MVP      \n",
    "        i=1\n",
    "        col[0][1].append(year)\n",
    "    else: # if row is not of size 5 or 4, the //tr data is not from our table (for year 1999 specifically)\n",
    "        continue\n",
    "    \n",
    "    for t in T.iterchildren():\n",
    "        if i == 0:\n",
    "            year = t.text_content()\n",
    "            \n",
    "        data = t.text_content()\n",
    "        col[i][1].append(data)\n",
    "        i = i+1"
   ]
  },
  {
   "cell_type": "code",
   "execution_count": 44,
   "metadata": {},
   "outputs": [],
   "source": [
    "# create the dictionary out of the list of tuple, 'col'\n",
    "Dict={title:column for (title,column) in col}\n",
    "df=pd.DataFrame(Dict)"
   ]
  },
  {
   "cell_type": "code",
   "execution_count": 45,
   "metadata": {},
   "outputs": [
    {
     "data": {
      "text/html": [
       "<div>\n",
       "<style scoped>\n",
       "    .dataframe tbody tr th:only-of-type {\n",
       "        vertical-align: middle;\n",
       "    }\n",
       "\n",
       "    .dataframe tbody tr th {\n",
       "        vertical-align: top;\n",
       "    }\n",
       "\n",
       "    .dataframe thead th {\n",
       "        text-align: right;\n",
       "    }\n",
       "</style>\n",
       "<table border=\"1\" class=\"dataframe\">\n",
       "  <thead>\n",
       "    <tr style=\"text-align: right;\">\n",
       "      <th></th>\n",
       "      <th>Season</th>\n",
       "      <th>Player</th>\n",
       "      <th>Position</th>\n",
       "      <th>Nationality</th>\n",
       "      <th>Team</th>\n",
       "    </tr>\n",
       "  </thead>\n",
       "  <tbody>\n",
       "    <tr>\n",
       "      <th>0</th>\n",
       "      <td>1951\\n</td>\n",
       "      <td>Ed Macauley*\\n</td>\n",
       "      <td>Center/Forward\\n</td>\n",
       "      <td>United States\\n</td>\n",
       "      <td>Boston Celtics\\n</td>\n",
       "    </tr>\n",
       "    <tr>\n",
       "      <th>1</th>\n",
       "      <td>1952\\n</td>\n",
       "      <td>Paul Arizin*\\n</td>\n",
       "      <td>Forward/Guard\\n</td>\n",
       "      <td>United States\\n</td>\n",
       "      <td>Philadelphia Warriors\\n</td>\n",
       "    </tr>\n",
       "    <tr>\n",
       "      <th>2</th>\n",
       "      <td>1953\\n</td>\n",
       "      <td>George Mikan*\\n</td>\n",
       "      <td>Center\\n</td>\n",
       "      <td>United States\\n</td>\n",
       "      <td>Minneapolis Lakers\\n</td>\n",
       "    </tr>\n",
       "    <tr>\n",
       "      <th>3</th>\n",
       "      <td>1954\\n</td>\n",
       "      <td>Bob Cousy*\\n</td>\n",
       "      <td>Guard\\n</td>\n",
       "      <td>United States\\n</td>\n",
       "      <td>Boston Celtics (2)\\n</td>\n",
       "    </tr>\n",
       "    <tr>\n",
       "      <th>4</th>\n",
       "      <td>1955\\n</td>\n",
       "      <td>Bill Sharman*\\n</td>\n",
       "      <td>Guard\\n</td>\n",
       "      <td>United States\\n</td>\n",
       "      <td>Boston Celtics (3)\\n</td>\n",
       "    </tr>\n",
       "  </tbody>\n",
       "</table>\n",
       "</div>"
      ],
      "text/plain": [
       "   Season           Player          Position       Nationality  \\\n",
       "0  1951\\n   Ed Macauley*\\n  Center/Forward\\n   United States\\n   \n",
       "1  1952\\n   Paul Arizin*\\n   Forward/Guard\\n   United States\\n   \n",
       "2  1953\\n  George Mikan*\\n          Center\\n   United States\\n   \n",
       "3  1954\\n     Bob Cousy*\\n           Guard\\n   United States\\n   \n",
       "4  1955\\n  Bill Sharman*\\n           Guard\\n   United States\\n   \n",
       "\n",
       "                      Team  \n",
       "0         Boston Celtics\\n  \n",
       "1  Philadelphia Warriors\\n  \n",
       "2     Minneapolis Lakers\\n  \n",
       "3     Boston Celtics (2)\\n  \n",
       "4     Boston Celtics (3)\\n  "
      ]
     },
     "execution_count": 45,
     "metadata": {},
     "output_type": "execute_result"
    }
   ],
   "source": [
    "df.head()"
   ]
  },
  {
   "cell_type": "code",
   "execution_count": 46,
   "metadata": {},
   "outputs": [],
   "source": [
    "# for year, take only the integer part\n",
    "regex = re.compile(r'^(\\d{4})\\S*$')\n",
    "df['Season'] = df['Season'].apply(lambda x: int(regex.findall(x)[0]))"
   ]
  },
  {
   "cell_type": "code",
   "execution_count": 47,
   "metadata": {},
   "outputs": [],
   "source": [
    "# for the Player, take only the name part\n",
    "df['Player'] = df['Player'].str.replace('*','')\n",
    "df['Player'] = df['Player'].str.replace('^','')\n",
    "df['Player'] = df['Player'].str.replace('\\n','')"
   ]
  },
  {
   "cell_type": "code",
   "execution_count": 48,
   "metadata": {},
   "outputs": [],
   "source": [
    "# get rid of any footnote\n",
    "df['Player'] = df['Player'].apply(lambda x: re.findall(r'[a-zA-Z\\s\\'\\-]+',x)[0])"
   ]
  },
  {
   "cell_type": "code",
   "execution_count": 49,
   "metadata": {},
   "outputs": [],
   "source": [
    "# get rid of the space at the end\n",
    "for i in range(0,df.shape[0]):\n",
    "    if df.loc[i,'Player'][-1] == ' ':\n",
    "        df.loc[i,'Player'] = df.loc[i,'Player'][:-1]\n",
    "        "
   ]
  },
  {
   "cell_type": "code",
   "execution_count": 50,
   "metadata": {},
   "outputs": [],
   "source": [
    "# get rid of other column\n",
    "df.drop(['Position','Nationality','Team'],axis=1,inplace=True)"
   ]
  },
  {
   "cell_type": "code",
   "execution_count": 51,
   "metadata": {},
   "outputs": [],
   "source": [
    "AllStar_MVP = df.groupby('Player').count().reset_index()"
   ]
  },
  {
   "cell_type": "code",
   "execution_count": 52,
   "metadata": {},
   "outputs": [],
   "source": [
    "AllStar_MVP.rename(index=str,columns={'Season': 'AllStar_MVP'},inplace=True)"
   ]
  },
  {
   "cell_type": "code",
   "execution_count": 53,
   "metadata": {},
   "outputs": [
    {
     "data": {
      "text/html": [
       "<div>\n",
       "<style scoped>\n",
       "    .dataframe tbody tr th:only-of-type {\n",
       "        vertical-align: middle;\n",
       "    }\n",
       "\n",
       "    .dataframe tbody tr th {\n",
       "        vertical-align: top;\n",
       "    }\n",
       "\n",
       "    .dataframe thead th {\n",
       "        text-align: right;\n",
       "    }\n",
       "</style>\n",
       "<table border=\"1\" class=\"dataframe\">\n",
       "  <thead>\n",
       "    <tr style=\"text-align: right;\">\n",
       "      <th></th>\n",
       "      <th>Player</th>\n",
       "      <th>AllStar_MVP</th>\n",
       "    </tr>\n",
       "  </thead>\n",
       "  <tbody>\n",
       "    <tr>\n",
       "      <th>0</th>\n",
       "      <td>Adrian Smith</td>\n",
       "      <td>1</td>\n",
       "    </tr>\n",
       "    <tr>\n",
       "      <th>1</th>\n",
       "      <td>Allen Iverson</td>\n",
       "      <td>2</td>\n",
       "    </tr>\n",
       "    <tr>\n",
       "      <th>2</th>\n",
       "      <td>Anthony Davis</td>\n",
       "      <td>1</td>\n",
       "    </tr>\n",
       "    <tr>\n",
       "      <th>3</th>\n",
       "      <td>Bill Russell</td>\n",
       "      <td>1</td>\n",
       "    </tr>\n",
       "    <tr>\n",
       "      <th>4</th>\n",
       "      <td>Bill Sharman</td>\n",
       "      <td>1</td>\n",
       "    </tr>\n",
       "  </tbody>\n",
       "</table>\n",
       "</div>"
      ],
      "text/plain": [
       "          Player  AllStar_MVP\n",
       "0   Adrian Smith            1\n",
       "1  Allen Iverson            2\n",
       "2  Anthony Davis            1\n",
       "3   Bill Russell            1\n",
       "4   Bill Sharman            1"
      ]
     },
     "execution_count": 53,
     "metadata": {},
     "output_type": "execute_result"
    }
   ],
   "source": [
    "# The dataframe include the Player's name and the number of times he is awarded all-star MVP\n",
    "AllStar_MVP.head()"
   ]
  },
  {
   "cell_type": "code",
   "execution_count": 54,
   "metadata": {},
   "outputs": [],
   "source": [
    "export_csv = AllStar_MVP.to_csv (r'../data/All-Star-MVP.csv', index = None, header=True)"
   ]
  },
  {
   "cell_type": "markdown",
   "metadata": {},
   "source": [
    "### Defensive Player Of The Year"
   ]
  },
  {
   "cell_type": "markdown",
   "metadata": {},
   "source": [
    "We scrape the content of the wekipedia page and then extract the elements of the table for defensive player of the year."
   ]
  },
  {
   "cell_type": "code",
   "execution_count": 55,
   "metadata": {},
   "outputs": [],
   "source": [
    "url = 'https://en.wikipedia.org/wiki/NBA_Defensive_Player_of_the_Year_Award'\n",
    "page = requests.get(url)\n",
    "doc = lh.fromstring(page.content)\n",
    "tr_elements = doc.xpath('//tr')"
   ]
  },
  {
   "cell_type": "markdown",
   "metadata": {},
   "source": [
    "We then use the length of the elements in each row to identify the part we want."
   ]
  },
  {
   "cell_type": "code",
   "execution_count": 56,
   "metadata": {
    "scrolled": false
   },
   "outputs": [
    {
     "data": {
      "text/plain": [
       "63"
      ]
     },
     "execution_count": 56,
     "metadata": {},
     "output_type": "execute_result"
    }
   ],
   "source": [
    "# total number of rows in the table is 63\n",
    "len(tr_elements)"
   ]
  },
  {
   "cell_type": "code",
   "execution_count": 57,
   "metadata": {},
   "outputs": [
    {
     "name": "stdout",
     "output_type": "stream",
     "text": [
      "[0, 1, 2, 3, 4, 5, 6, 7, 8, 9, 10, 11, 12, 13, 53, 56, 57, 58, 59, 60, 61, 62] are not in the table!\n"
     ]
    }
   ],
   "source": [
    "# there should be 5 elements in each row but sometimes 4 (e.g. 2009 and 2000)\n",
    "list_outside = []\n",
    "for i in range(0,63):\n",
    "    if len(tr_elements[i]) != 5:\n",
    "        list_outside = list_outside + [i]\n",
    "\n",
    "print(str(list_outside)+' are not in the table!')\n",
    "    "
   ]
  },
  {
   "cell_type": "code",
   "execution_count": 58,
   "metadata": {},
   "outputs": [
    {
     "data": {
      "text/plain": [
       "'\\nSeason\\n\\nPlayer\\n\\nPosition\\n\\nNationality\\n\\nTeam\\n'"
      ]
     },
     "execution_count": 58,
     "metadata": {},
     "output_type": "execute_result"
    }
   ],
   "source": [
    "# The header of the table is in row 14\n",
    "tr_elements[14].text_content()"
   ]
  },
  {
   "cell_type": "code",
   "execution_count": 59,
   "metadata": {},
   "outputs": [
    {
     "data": {
      "text/plain": [
       "'\\n2017–18\\n\\nRudy Gobert^\\n\\nCenter\\n\\n\\xa0France\\n\\nUtah Jazz\\n'"
      ]
     },
     "execution_count": 59,
     "metadata": {},
     "output_type": "execute_result"
    }
   ],
   "source": [
    "# The last row of the table in in row 50\n",
    "tr_elements[50].text_content()"
   ]
  },
  {
   "cell_type": "code",
   "execution_count": 60,
   "metadata": {},
   "outputs": [],
   "source": [
    "# keep only from 14 to 50\n",
    "tr_elements = tr_elements[14:51]"
   ]
  },
  {
   "cell_type": "code",
   "execution_count": 61,
   "metadata": {},
   "outputs": [
    {
     "name": "stdout",
     "output_type": "stream",
     "text": [
      "1:\"Season\"\n",
      "2:\"Player\"\n",
      "3:\"Position\"\n",
      "4:\"Nationality\"\n",
      "5:\"Team\"\n"
     ]
    }
   ],
   "source": [
    "# Extract the header and create a list\n",
    "col = []\n",
    "i=0\n",
    "\n",
    "for t in tr_elements[0]:\n",
    "    i = i+1\n",
    "    name = t.text_content().replace('\\n','')\n",
    "    print('%d:\"%s\"' %(i,name))\n",
    "    col.append((name,[]))"
   ]
  },
  {
   "cell_type": "code",
   "execution_count": 62,
   "metadata": {},
   "outputs": [],
   "source": [
    "# Store all the data in the list\n",
    "for j in range(1,len(tr_elements)):\n",
    "    T = tr_elements[j]\n",
    "    i=0\n",
    "    for t in T.iterchildren():\n",
    "        data = t.text_content()\n",
    "        col[i][1].append(data)\n",
    "        i = i+1"
   ]
  },
  {
   "cell_type": "code",
   "execution_count": 63,
   "metadata": {},
   "outputs": [],
   "source": [
    "# create the dictionary out of the list of tuple, 'col'\n",
    "Dict={title:column for (title,column) in col}\n",
    "df=pd.DataFrame(Dict)"
   ]
  },
  {
   "cell_type": "code",
   "execution_count": 64,
   "metadata": {
    "scrolled": true
   },
   "outputs": [
    {
     "data": {
      "text/html": [
       "<div>\n",
       "<style scoped>\n",
       "    .dataframe tbody tr th:only-of-type {\n",
       "        vertical-align: middle;\n",
       "    }\n",
       "\n",
       "    .dataframe tbody tr th {\n",
       "        vertical-align: top;\n",
       "    }\n",
       "\n",
       "    .dataframe thead th {\n",
       "        text-align: right;\n",
       "    }\n",
       "</style>\n",
       "<table border=\"1\" class=\"dataframe\">\n",
       "  <thead>\n",
       "    <tr style=\"text-align: right;\">\n",
       "      <th></th>\n",
       "      <th>Season</th>\n",
       "      <th>Player</th>\n",
       "      <th>Position</th>\n",
       "      <th>Nationality</th>\n",
       "      <th>Team</th>\n",
       "    </tr>\n",
       "  </thead>\n",
       "  <tbody>\n",
       "    <tr>\n",
       "      <th>0</th>\n",
       "      <td>1982–83\\n</td>\n",
       "      <td>Sidney Moncrief\\n</td>\n",
       "      <td>Guard\\n</td>\n",
       "      <td>United States\\n</td>\n",
       "      <td>Milwaukee Bucks\\n</td>\n",
       "    </tr>\n",
       "    <tr>\n",
       "      <th>1</th>\n",
       "      <td>1983–84\\n</td>\n",
       "      <td>Sidney Moncrief (2)\\n</td>\n",
       "      <td>Guard\\n</td>\n",
       "      <td>United States\\n</td>\n",
       "      <td>Milwaukee Bucks\\n</td>\n",
       "    </tr>\n",
       "    <tr>\n",
       "      <th>2</th>\n",
       "      <td>1984–85\\n</td>\n",
       "      <td>Mark Eaton\\n</td>\n",
       "      <td>Center\\n</td>\n",
       "      <td>United States\\n</td>\n",
       "      <td>Utah Jazz\\n</td>\n",
       "    </tr>\n",
       "    <tr>\n",
       "      <th>3</th>\n",
       "      <td>1985–86\\n</td>\n",
       "      <td>Alvin Robertson\\n</td>\n",
       "      <td>Guard\\n</td>\n",
       "      <td>United States\\n</td>\n",
       "      <td>San Antonio Spurs\\n</td>\n",
       "    </tr>\n",
       "    <tr>\n",
       "      <th>4</th>\n",
       "      <td>1986–87\\n</td>\n",
       "      <td>Michael Cooper[a]\\n</td>\n",
       "      <td>Guard/Forward\\n</td>\n",
       "      <td>United States\\n</td>\n",
       "      <td>Los Angeles Lakers\\n</td>\n",
       "    </tr>\n",
       "  </tbody>\n",
       "</table>\n",
       "</div>"
      ],
      "text/plain": [
       "      Season                 Player         Position       Nationality  \\\n",
       "0  1982–83\\n      Sidney Moncrief\\n          Guard\\n   United States\\n   \n",
       "1  1983–84\\n  Sidney Moncrief (2)\\n          Guard\\n   United States\\n   \n",
       "2  1984–85\\n           Mark Eaton\\n         Center\\n   United States\\n   \n",
       "3  1985–86\\n      Alvin Robertson\\n          Guard\\n   United States\\n   \n",
       "4  1986–87\\n    Michael Cooper[a]\\n  Guard/Forward\\n   United States\\n   \n",
       "\n",
       "                   Team  \n",
       "0     Milwaukee Bucks\\n  \n",
       "1     Milwaukee Bucks\\n  \n",
       "2           Utah Jazz\\n  \n",
       "3   San Antonio Spurs\\n  \n",
       "4  Los Angeles Lakers\\n  "
      ]
     },
     "execution_count": 64,
     "metadata": {},
     "output_type": "execute_result"
    }
   ],
   "source": [
    "df.head()"
   ]
  },
  {
   "cell_type": "code",
   "execution_count": 65,
   "metadata": {},
   "outputs": [],
   "source": [
    "# for year, take only the integer part\n",
    "regex = re.compile(r'^(\\d{4})')\n",
    "df['Season'] = df['Season'].apply(lambda x: int(regex.findall(x)[0])+1)"
   ]
  },
  {
   "cell_type": "code",
   "execution_count": 66,
   "metadata": {},
   "outputs": [
    {
     "data": {
      "text/html": [
       "<div>\n",
       "<style scoped>\n",
       "    .dataframe tbody tr th:only-of-type {\n",
       "        vertical-align: middle;\n",
       "    }\n",
       "\n",
       "    .dataframe tbody tr th {\n",
       "        vertical-align: top;\n",
       "    }\n",
       "\n",
       "    .dataframe thead th {\n",
       "        text-align: right;\n",
       "    }\n",
       "</style>\n",
       "<table border=\"1\" class=\"dataframe\">\n",
       "  <thead>\n",
       "    <tr style=\"text-align: right;\">\n",
       "      <th></th>\n",
       "      <th>Season</th>\n",
       "      <th>Player</th>\n",
       "      <th>Position</th>\n",
       "      <th>Nationality</th>\n",
       "      <th>Team</th>\n",
       "    </tr>\n",
       "  </thead>\n",
       "  <tbody>\n",
       "    <tr>\n",
       "      <th>31</th>\n",
       "      <td>2014</td>\n",
       "      <td>Joakim Noah^\\n</td>\n",
       "      <td>Center\\n</td>\n",
       "      <td>France[f]\\n</td>\n",
       "      <td>Chicago Bulls\\n</td>\n",
       "    </tr>\n",
       "    <tr>\n",
       "      <th>32</th>\n",
       "      <td>2015</td>\n",
       "      <td>Kawhi Leonard^\\n</td>\n",
       "      <td>Forward\\n</td>\n",
       "      <td>United States\\n</td>\n",
       "      <td>San Antonio Spurs\\n</td>\n",
       "    </tr>\n",
       "    <tr>\n",
       "      <th>33</th>\n",
       "      <td>2016</td>\n",
       "      <td>Kawhi Leonard^ (2)\\n</td>\n",
       "      <td>Forward\\n</td>\n",
       "      <td>United States\\n</td>\n",
       "      <td>San Antonio Spurs\\n</td>\n",
       "    </tr>\n",
       "    <tr>\n",
       "      <th>34</th>\n",
       "      <td>2017</td>\n",
       "      <td>Draymond Green^[a]\\n</td>\n",
       "      <td>Forward\\n</td>\n",
       "      <td>United States\\n</td>\n",
       "      <td>Golden State Warriors\\n</td>\n",
       "    </tr>\n",
       "    <tr>\n",
       "      <th>35</th>\n",
       "      <td>2018</td>\n",
       "      <td>Rudy Gobert^\\n</td>\n",
       "      <td>Center\\n</td>\n",
       "      <td>France\\n</td>\n",
       "      <td>Utah Jazz\\n</td>\n",
       "    </tr>\n",
       "  </tbody>\n",
       "</table>\n",
       "</div>"
      ],
      "text/plain": [
       "    Season                Player   Position       Nationality  \\\n",
       "31    2014        Joakim Noah^\\n   Center\\n       France[f]\\n   \n",
       "32    2015      Kawhi Leonard^\\n  Forward\\n   United States\\n   \n",
       "33    2016  Kawhi Leonard^ (2)\\n  Forward\\n   United States\\n   \n",
       "34    2017  Draymond Green^[a]\\n  Forward\\n   United States\\n   \n",
       "35    2018        Rudy Gobert^\\n   Center\\n          France\\n   \n",
       "\n",
       "                       Team  \n",
       "31          Chicago Bulls\\n  \n",
       "32      San Antonio Spurs\\n  \n",
       "33      San Antonio Spurs\\n  \n",
       "34  Golden State Warriors\\n  \n",
       "35              Utah Jazz\\n  "
      ]
     },
     "execution_count": 66,
     "metadata": {},
     "output_type": "execute_result"
    }
   ],
   "source": [
    "df.tail()"
   ]
  },
  {
   "cell_type": "code",
   "execution_count": 67,
   "metadata": {},
   "outputs": [],
   "source": [
    "# for the Player, take only the name part\n",
    "df['Player'] = df['Player'].str.replace('*','')\n",
    "df['Player'] = df['Player'].str.replace('^','')\n",
    "df['Player'] = df['Player'].str.replace('\\n','')"
   ]
  },
  {
   "cell_type": "code",
   "execution_count": 68,
   "metadata": {},
   "outputs": [],
   "source": [
    "# get rid of any footnote\n",
    "df['Player'] = df['Player'].apply(lambda x: re.findall(r'[a-zA-Z\\s\\'\\-]+',x)[0])"
   ]
  },
  {
   "cell_type": "code",
   "execution_count": 69,
   "metadata": {},
   "outputs": [],
   "source": [
    "# get rid of the space at the end\n",
    "for i in range(0,df.shape[0]):\n",
    "    if df.loc[i,'Player'][-1] == ' ':\n",
    "        df.loc[i,'Player'] = df.loc[i,'Player'][:-1]\n",
    "        "
   ]
  },
  {
   "cell_type": "code",
   "execution_count": 70,
   "metadata": {},
   "outputs": [],
   "source": [
    "# get rid of other column\n",
    "df.drop(['Position','Nationality','Team'],axis=1,inplace=True)"
   ]
  },
  {
   "cell_type": "code",
   "execution_count": 71,
   "metadata": {},
   "outputs": [],
   "source": [
    "df.rename(index = str, columns = {'Season':'Year'}, inplace = True)"
   ]
  },
  {
   "cell_type": "code",
   "execution_count": 72,
   "metadata": {},
   "outputs": [],
   "source": [
    "# The dataframe include the Player's name and the number of times he is awarded defensive player of the year\n",
    "DPOY = df.groupby('Player').count().reset_index().rename(index = str, columns = {'Year':'DPOY'})"
   ]
  },
  {
   "cell_type": "code",
   "execution_count": 73,
   "metadata": {},
   "outputs": [
    {
     "data": {
      "text/html": [
       "<div>\n",
       "<style scoped>\n",
       "    .dataframe tbody tr th:only-of-type {\n",
       "        vertical-align: middle;\n",
       "    }\n",
       "\n",
       "    .dataframe tbody tr th {\n",
       "        vertical-align: top;\n",
       "    }\n",
       "\n",
       "    .dataframe thead th {\n",
       "        text-align: right;\n",
       "    }\n",
       "</style>\n",
       "<table border=\"1\" class=\"dataframe\">\n",
       "  <thead>\n",
       "    <tr style=\"text-align: right;\">\n",
       "      <th></th>\n",
       "      <th>Player</th>\n",
       "      <th>DPOY</th>\n",
       "    </tr>\n",
       "  </thead>\n",
       "  <tbody>\n",
       "    <tr>\n",
       "      <th>0</th>\n",
       "      <td>Alonzo Mourning</td>\n",
       "      <td>2</td>\n",
       "    </tr>\n",
       "    <tr>\n",
       "      <th>1</th>\n",
       "      <td>Alvin Robertson</td>\n",
       "      <td>1</td>\n",
       "    </tr>\n",
       "    <tr>\n",
       "      <th>2</th>\n",
       "      <td>Ben Wallace</td>\n",
       "      <td>4</td>\n",
       "    </tr>\n",
       "    <tr>\n",
       "      <th>3</th>\n",
       "      <td>David Robinson</td>\n",
       "      <td>1</td>\n",
       "    </tr>\n",
       "    <tr>\n",
       "      <th>4</th>\n",
       "      <td>Dennis Rodman</td>\n",
       "      <td>2</td>\n",
       "    </tr>\n",
       "  </tbody>\n",
       "</table>\n",
       "</div>"
      ],
      "text/plain": [
       "            Player  DPOY\n",
       "0  Alonzo Mourning     2\n",
       "1  Alvin Robertson     1\n",
       "2      Ben Wallace     4\n",
       "3   David Robinson     1\n",
       "4    Dennis Rodman     2"
      ]
     },
     "execution_count": 73,
     "metadata": {},
     "output_type": "execute_result"
    }
   ],
   "source": [
    "DPOY.head()"
   ]
  },
  {
   "cell_type": "code",
   "execution_count": 74,
   "metadata": {},
   "outputs": [],
   "source": [
    "export_csv = DPOY.to_csv (r'../data/DPOY.csv', index = None, header=True)"
   ]
  },
  {
   "cell_type": "markdown",
   "metadata": {},
   "source": [
    "### NBA Teams That Attend Finals And Win Championships"
   ]
  },
  {
   "cell_type": "markdown",
   "metadata": {},
   "source": [
    "Here we present how we construct the data for players whose teams attend finals or even win the championships. It is a three-step process: \n",
    "    (1) We scrape the table for the teams that attend finals from wikipedia, and construct dataframe 'NBA_final' for teams which attend finals and win championships in each year.\n",
    "    (2) We scrape the table for full names for the NBA teams and corresponding abbreviation, and replace the teams' name in 'NBA_final' with abbreviation.\n",
    "    (3) We use the player's seasonal statistics and 'NBA_final' to construct the desired dataframe that include players name and number of times the player's team attend finals and wind the championships."
   ]
  },
  {
   "cell_type": "markdown",
   "metadata": {},
   "source": [
    "#### Step 1: Constuct DataFrame For Teams Which Attend Finals And Win Championships"
   ]
  },
  {
   "cell_type": "code",
   "execution_count": 75,
   "metadata": {},
   "outputs": [],
   "source": [
    "url = 'https://en.wikipedia.org/wiki/List_of_NBA_champions'\n",
    "page = requests.get(url)\n",
    "doc = lh.fromstring(page.content)\n",
    "tr_elements = doc.xpath('//tr')"
   ]
  },
  {
   "cell_type": "markdown",
   "metadata": {},
   "source": [
    "We then use the length of the elements in each row to identify the part we want."
   ]
  },
  {
   "cell_type": "code",
   "execution_count": 76,
   "metadata": {
    "scrolled": false
   },
   "outputs": [
    {
     "data": {
      "text/plain": [
       "154"
      ]
     },
     "execution_count": 76,
     "metadata": {},
     "output_type": "execute_result"
    }
   ],
   "source": [
    "# total number of rows in the table is 154\n",
    "len(tr_elements)"
   ]
  },
  {
   "cell_type": "code",
   "execution_count": 77,
   "metadata": {},
   "outputs": [
    {
     "name": "stdout",
     "output_type": "stream",
     "text": [
      "[0, 1, 2, 3, 4, 5, 6, 7, 8, 9, 10, 11, 85, 86, 87, 88, 89, 90, 91, 92, 93, 94, 95, 96, 97, 98, 99, 100, 101, 102, 103, 104, 105, 106, 107, 108, 109, 110, 111, 112, 113, 114, 115, 116, 117, 118, 119, 120, 121, 122, 123, 124, 125, 126, 127, 128, 129, 130, 131, 132, 133, 134, 135, 136, 137, 138, 139, 140, 141, 142, 143, 144, 145, 146, 147, 148, 149, 150, 151, 152, 153] are not in the table!\n"
     ]
    }
   ],
   "source": [
    "# there should be 7 elements in each row\n",
    "list_outside = []\n",
    "for i in range(0,154):\n",
    "    if len(tr_elements[i]) != 7:\n",
    "        list_outside = list_outside + [i]\n",
    "\n",
    "print(str(list_outside)+' are not in the table!')\n",
    "    "
   ]
  },
  {
   "cell_type": "code",
   "execution_count": 78,
   "metadata": {},
   "outputs": [
    {
     "data": {
      "text/plain": [
       "'\\nYear\\n\\nWestern Champion\\n\\nCoach\\n\\nResult\\n\\nEastern Champion\\n\\nCoach\\n\\nReference\\n'"
      ]
     },
     "execution_count": 78,
     "metadata": {},
     "output_type": "execute_result"
    }
   ],
   "source": [
    "# The header of the table is in row 12\n",
    "tr_elements[12].text_content()"
   ]
  },
  {
   "cell_type": "code",
   "execution_count": 79,
   "metadata": {},
   "outputs": [
    {
     "data": {
      "text/plain": [
       "'\\n2018\\nGolden State Warriors (2) (10, 6–4)\\nSteve Kerr\\n4–0\\nCleveland Cavaliers (4) (5, 1–4)\\nTyronn Lue\\n[91]\\n'"
      ]
     },
     "execution_count": 79,
     "metadata": {},
     "output_type": "execute_result"
    }
   ],
   "source": [
    "# The last row of the table in in row 84\n",
    "tr_elements[84].text_content()"
   ]
  },
  {
   "cell_type": "code",
   "execution_count": 80,
   "metadata": {},
   "outputs": [],
   "source": [
    "# keep only from 12 to 84\n",
    "tr_elements = tr_elements[12:(84+1)]"
   ]
  },
  {
   "cell_type": "code",
   "execution_count": 81,
   "metadata": {},
   "outputs": [
    {
     "name": "stdout",
     "output_type": "stream",
     "text": [
      "1:\"Year\"\n",
      "2:\"Western Champion\"\n",
      "3:\"Coach\"\n",
      "4:\"Result\"\n",
      "5:\"Eastern Champion\"\n",
      "6:\"Coach\"\n",
      "7:\"Reference\"\n"
     ]
    }
   ],
   "source": [
    "# Extract the header and create a list. Please note that since the column name coach appears twice, \n",
    "# we distinguish them by appending the column's name with  the column's number index\n",
    "col = []\n",
    "i=0\n",
    "for t in tr_elements[0]:\n",
    "    i = i+1\n",
    "    name = t.text_content().replace('\\n','')\n",
    "    print('%d:\"%s\"' %(i,name))\n",
    "    col.append((name+str(i),[]))"
   ]
  },
  {
   "cell_type": "code",
   "execution_count": 82,
   "metadata": {},
   "outputs": [],
   "source": [
    "# Store all the data in the list\n",
    "for j in range(1,len(tr_elements)):\n",
    "    T = tr_elements[j]\n",
    "    if len(T) != 7:\n",
    "        break\n",
    "    i=0\n",
    "    for t in T.iterchildren():\n",
    "        data = t.text_content()\n",
    "        col[i][1].append(data)\n",
    "        i = i+1"
   ]
  },
  {
   "cell_type": "code",
   "execution_count": 83,
   "metadata": {},
   "outputs": [],
   "source": [
    "# create the dictionary out of the list of tuple, 'col'\n",
    "Dict={title:column for (title,column) in col}\n",
    "df=pd.DataFrame(Dict)"
   ]
  },
  {
   "cell_type": "code",
   "execution_count": 84,
   "metadata": {
    "scrolled": true
   },
   "outputs": [
    {
     "data": {
      "text/html": [
       "<div>\n",
       "<style scoped>\n",
       "    .dataframe tbody tr th:only-of-type {\n",
       "        vertical-align: middle;\n",
       "    }\n",
       "\n",
       "    .dataframe tbody tr th {\n",
       "        vertical-align: top;\n",
       "    }\n",
       "\n",
       "    .dataframe thead th {\n",
       "        text-align: right;\n",
       "    }\n",
       "</style>\n",
       "<table border=\"1\" class=\"dataframe\">\n",
       "  <thead>\n",
       "    <tr style=\"text-align: right;\">\n",
       "      <th></th>\n",
       "      <th>Year1</th>\n",
       "      <th>Western Champion2</th>\n",
       "      <th>Coach3</th>\n",
       "      <th>Result4</th>\n",
       "      <th>Eastern Champion5</th>\n",
       "      <th>Coach6</th>\n",
       "      <th>Reference7</th>\n",
       "    </tr>\n",
       "  </thead>\n",
       "  <tbody>\n",
       "    <tr>\n",
       "      <th>0</th>\n",
       "      <td>1947</td>\n",
       "      <td>Chicago Stags (1) (1, 0–1)</td>\n",
       "      <td>Harold Olsen</td>\n",
       "      <td>1–4</td>\n",
       "      <td>Philadelphia Warriors (2) (1, 1–0)</td>\n",
       "      <td>Eddie Gottlieb</td>\n",
       "      <td>[14]\\n</td>\n",
       "    </tr>\n",
       "    <tr>\n",
       "      <th>1</th>\n",
       "      <td>1948</td>\n",
       "      <td>Baltimore Bullets (2) (1, 1–0)</td>\n",
       "      <td>Buddy Jeannette</td>\n",
       "      <td>4–2</td>\n",
       "      <td>Philadelphia Warriors (1) (2, 1–1)</td>\n",
       "      <td>Eddie Gottlieb</td>\n",
       "      <td>[15]\\n</td>\n",
       "    </tr>\n",
       "    <tr>\n",
       "      <th>2</th>\n",
       "      <td>1949</td>\n",
       "      <td>Minneapolis Lakers (2) (1, 1–0)</td>\n",
       "      <td>John Kundla</td>\n",
       "      <td>4–2</td>\n",
       "      <td>Washington Capitols (1) (1, 0–1)</td>\n",
       "      <td>Red Auerbach</td>\n",
       "      <td>[16]\\n</td>\n",
       "    </tr>\n",
       "    <tr>\n",
       "      <th>3</th>\n",
       "      <td>1950</td>\n",
       "      <td>Minneapolis Lakers (1) [a] (2, 2–0)</td>\n",
       "      <td>John Kundla</td>\n",
       "      <td>4–2</td>\n",
       "      <td>Syracuse Nationals (1) (1, 0–1)</td>\n",
       "      <td>Al Cervi</td>\n",
       "      <td>[17][18]\\n</td>\n",
       "    </tr>\n",
       "    <tr>\n",
       "      <th>4</th>\n",
       "      <td>1951</td>\n",
       "      <td>Rochester Royals (2) (1, 1–0)</td>\n",
       "      <td>Les Harrison</td>\n",
       "      <td>4–3</td>\n",
       "      <td>New York Knicks (3) (1, 0–1)</td>\n",
       "      <td>Joe Lapchick</td>\n",
       "      <td>[19]\\n</td>\n",
       "    </tr>\n",
       "  </tbody>\n",
       "</table>\n",
       "</div>"
      ],
      "text/plain": [
       "  Year1                    Western Champion2           Coach3 Result4  \\\n",
       "0  1947           Chicago Stags (1) (1, 0–1)     Harold Olsen     1–4   \n",
       "1  1948       Baltimore Bullets (2) (1, 1–0)  Buddy Jeannette     4–2   \n",
       "2  1949      Minneapolis Lakers (2) (1, 1–0)      John Kundla     4–2   \n",
       "3  1950  Minneapolis Lakers (1) [a] (2, 2–0)      John Kundla     4–2   \n",
       "4  1951        Rochester Royals (2) (1, 1–0)     Les Harrison     4–3   \n",
       "\n",
       "                    Eastern Champion5          Coach6  Reference7  \n",
       "0  Philadelphia Warriors (2) (1, 1–0)  Eddie Gottlieb      [14]\\n  \n",
       "1  Philadelphia Warriors (1) (2, 1–1)  Eddie Gottlieb      [15]\\n  \n",
       "2    Washington Capitols (1) (1, 0–1)    Red Auerbach      [16]\\n  \n",
       "3     Syracuse Nationals (1) (1, 0–1)        Al Cervi  [17][18]\\n  \n",
       "4        New York Knicks (3) (1, 0–1)    Joe Lapchick      [19]\\n  "
      ]
     },
     "execution_count": 84,
     "metadata": {},
     "output_type": "execute_result"
    }
   ],
   "source": [
    "df.head()"
   ]
  },
  {
   "cell_type": "code",
   "execution_count": 85,
   "metadata": {},
   "outputs": [],
   "source": [
    "# drop information that we don't need and replace the column names\n",
    "df.drop(['Coach3','Coach6','Reference7'],axis=1,inplace=True)\n",
    "df.rename(columns={'Year1':'Year', 'Western Champion2':'W', 'Result4':'Results','Eastern Champion5': 'E'},inplace=True)"
   ]
  },
  {
   "cell_type": "code",
   "execution_count": 86,
   "metadata": {},
   "outputs": [],
   "source": [
    "# Clean Year\n",
    "regex = re.compile(r'^(\\d{4})\\S*$')\n",
    "df['Year'] = df['Year'].apply(lambda x: int(regex.findall(x)[0]))"
   ]
  },
  {
   "cell_type": "code",
   "execution_count": 87,
   "metadata": {},
   "outputs": [],
   "source": [
    "# Clean W and E\n",
    "regex = re.compile(r'^([a-zA-Z.\\s]+)')\n",
    "df['W'] = df['W'].apply(lambda x: regex.findall(x)[0])\n",
    "df['E'] = df['E'].apply(lambda x: regex.findall(x)[0])\n",
    "\n",
    "# drop the last white space\n",
    "df['W'] = df['W'].apply(lambda x: x[:-1] if x[-1]==' ' else x[:])\n",
    "df['E'] = df['E'].apply(lambda x: x[:-1] if x[-1]==' ' else x[:])"
   ]
  },
  {
   "cell_type": "code",
   "execution_count": 88,
   "metadata": {},
   "outputs": [],
   "source": [
    "# create new columns, 'W Win' and 'E Win' according to 'Results'\n",
    "regex = re.compile(r'^(\\d)\\S(\\d)*')\n",
    "df['W Win'] = df['Results'].apply(lambda x: int(regex.findall(x)[0][0]))\n",
    "df['E Win'] = df['Results'].apply(lambda x: int(regex.findall(x)[0][1]))"
   ]
  },
  {
   "cell_type": "code",
   "execution_count": 89,
   "metadata": {},
   "outputs": [],
   "source": [
    "# Create new columns 'Champion,' based on 'W Win' and 'E Win'\n",
    "df['Champion'] = df.apply(lambda x: x['W'] if x['W Win'] > x['E Win'] else x['E'],axis=1)"
   ]
  },
  {
   "cell_type": "code",
   "execution_count": 90,
   "metadata": {},
   "outputs": [
    {
     "data": {
      "text/html": [
       "<div>\n",
       "<style scoped>\n",
       "    .dataframe tbody tr th:only-of-type {\n",
       "        vertical-align: middle;\n",
       "    }\n",
       "\n",
       "    .dataframe tbody tr th {\n",
       "        vertical-align: top;\n",
       "    }\n",
       "\n",
       "    .dataframe thead th {\n",
       "        text-align: right;\n",
       "    }\n",
       "</style>\n",
       "<table border=\"1\" class=\"dataframe\">\n",
       "  <thead>\n",
       "    <tr style=\"text-align: right;\">\n",
       "      <th></th>\n",
       "      <th>Year</th>\n",
       "      <th>W</th>\n",
       "      <th>E</th>\n",
       "      <th>Champion</th>\n",
       "    </tr>\n",
       "  </thead>\n",
       "  <tbody>\n",
       "    <tr>\n",
       "      <th>0</th>\n",
       "      <td>1947</td>\n",
       "      <td>Chicago Stags</td>\n",
       "      <td>Philadelphia Warriors</td>\n",
       "      <td>Philadelphia Warriors</td>\n",
       "    </tr>\n",
       "    <tr>\n",
       "      <th>1</th>\n",
       "      <td>1948</td>\n",
       "      <td>Baltimore Bullets</td>\n",
       "      <td>Philadelphia Warriors</td>\n",
       "      <td>Baltimore Bullets</td>\n",
       "    </tr>\n",
       "    <tr>\n",
       "      <th>2</th>\n",
       "      <td>1949</td>\n",
       "      <td>Minneapolis Lakers</td>\n",
       "      <td>Washington Capitols</td>\n",
       "      <td>Minneapolis Lakers</td>\n",
       "    </tr>\n",
       "    <tr>\n",
       "      <th>3</th>\n",
       "      <td>1950</td>\n",
       "      <td>Minneapolis Lakers</td>\n",
       "      <td>Syracuse Nationals</td>\n",
       "      <td>Minneapolis Lakers</td>\n",
       "    </tr>\n",
       "    <tr>\n",
       "      <th>4</th>\n",
       "      <td>1951</td>\n",
       "      <td>Rochester Royals</td>\n",
       "      <td>New York Knicks</td>\n",
       "      <td>Rochester Royals</td>\n",
       "    </tr>\n",
       "  </tbody>\n",
       "</table>\n",
       "</div>"
      ],
      "text/plain": [
       "   Year                   W                      E               Champion\n",
       "0  1947       Chicago Stags  Philadelphia Warriors  Philadelphia Warriors\n",
       "1  1948   Baltimore Bullets  Philadelphia Warriors      Baltimore Bullets\n",
       "2  1949  Minneapolis Lakers    Washington Capitols     Minneapolis Lakers\n",
       "3  1950  Minneapolis Lakers     Syracuse Nationals     Minneapolis Lakers\n",
       "4  1951    Rochester Royals        New York Knicks       Rochester Royals"
      ]
     },
     "execution_count": 90,
     "metadata": {},
     "output_type": "execute_result"
    }
   ],
   "source": [
    "# drop columns 'Results,' 'W Win,' and 'E Win'\n",
    "df.drop(['Results','W Win','E Win'],axis=1,inplace = True)\n",
    "df.head()"
   ]
  },
  {
   "cell_type": "code",
   "execution_count": 91,
   "metadata": {},
   "outputs": [],
   "source": [
    "NBA_final = df.reset_index().copy()"
   ]
  },
  {
   "cell_type": "markdown",
   "metadata": {},
   "source": [
    "#### Step 2: Scrape The Table For Name-Abbreviation Conversion"
   ]
  },
  {
   "cell_type": "code",
   "execution_count": 92,
   "metadata": {},
   "outputs": [],
   "source": [
    "url = 'http://www.shrpsports.com/nba/explain.htm'\n",
    "page = requests.get(url)\n",
    "doc = lh.fromstring(page.content)\n",
    "tr_elements = doc.xpath('//tr')"
   ]
  },
  {
   "cell_type": "code",
   "execution_count": 93,
   "metadata": {
    "scrolled": false
   },
   "outputs": [
    {
     "data": {
      "text/plain": [
       "178"
      ]
     },
     "execution_count": 93,
     "metadata": {},
     "output_type": "execute_result"
    }
   ],
   "source": [
    "# total number of rows in the table is 178\n",
    "len(tr_elements)"
   ]
  },
  {
   "cell_type": "code",
   "execution_count": 94,
   "metadata": {},
   "outputs": [
    {
     "name": "stdout",
     "output_type": "stream",
     "text": [
      "[0, 1, 2, 3, 4, 5, 6, 7, 8, 9, 10, 11, 12, 13, 14, 15, 16, 17, 18, 19, 20, 21, 22, 23, 24, 25, 26, 27, 28, 29, 30, 31, 32, 33, 34, 35, 36, 37, 38, 39, 40, 41, 42, 43, 44, 45, 46, 47, 48, 49, 50, 51, 52, 53, 54, 55, 56, 57, 58, 59, 60, 61, 62, 63, 64, 65, 66, 67, 68, 69, 70, 71, 72, 73, 74, 75, 76, 77, 78, 79, 80, 81, 82, 83, 84, 85, 86, 87, 88, 89, 90, 91, 92, 93, 94, 95, 96, 97, 98, 99, 100, 101, 102, 103, 104] are not in the table!\n"
     ]
    }
   ],
   "source": [
    "# there should be 3 elements in each row\n",
    "list_outside = []\n",
    "for i in range(0,178):\n",
    "    if len(tr_elements[i]) != 3:\n",
    "        list_outside = list_outside + [i]\n",
    "\n",
    "print(str(list_outside)+' are not in the table!')\n",
    "    "
   ]
  },
  {
   "cell_type": "code",
   "execution_count": 95,
   "metadata": {},
   "outputs": [
    {
     "data": {
      "text/plain": [
       "'\\nAtlanta      AtlAtlanta Hawks (1968-69 - present)'"
      ]
     },
     "execution_count": 95,
     "metadata": {},
     "output_type": "execute_result"
    }
   ],
   "source": [
    "# The header of the table is in row 3\n",
    "tr_elements[105].text_content()"
   ]
  },
  {
   "cell_type": "code",
   "execution_count": 96,
   "metadata": {},
   "outputs": [
    {
     "data": {
      "text/plain": [
       "'\\nWaterloo     WatWaterloo Hawks (1949-50)'"
      ]
     },
     "execution_count": 96,
     "metadata": {},
     "output_type": "execute_result"
    }
   ],
   "source": [
    "# The last row of the table in in row 84\n",
    "tr_elements[177].text_content()"
   ]
  },
  {
   "cell_type": "code",
   "execution_count": 97,
   "metadata": {},
   "outputs": [],
   "source": [
    "# keep only from 105 to 177\n",
    "tr_elements = tr_elements[105:(177+1)]"
   ]
  },
  {
   "cell_type": "code",
   "execution_count": 98,
   "metadata": {},
   "outputs": [],
   "source": [
    "# The website doesn't have header, define by myself\n",
    "col = []\n",
    "col.append(('Long Abb',[]))\n",
    "col.append(('Abb',[]))\n",
    "col.append(('Name',[]))"
   ]
  },
  {
   "cell_type": "code",
   "execution_count": 99,
   "metadata": {},
   "outputs": [],
   "source": [
    "# Store all the data in the list\n",
    "for j in range(0,len(tr_elements)):\n",
    "    T = tr_elements[j]\n",
    "    i=0\n",
    "    for t in T.iterchildren():\n",
    "        data = t.text_content()\n",
    "        col[i][1].append(data)\n",
    "        i = i+1"
   ]
  },
  {
   "cell_type": "code",
   "execution_count": 100,
   "metadata": {},
   "outputs": [],
   "source": [
    "# create the dictionary out of the list of tuple, 'col'\n",
    "Dict={title:column for (title,column) in col}\n",
    "Team_Abb=pd.DataFrame(Dict)"
   ]
  },
  {
   "cell_type": "code",
   "execution_count": 101,
   "metadata": {},
   "outputs": [
    {
     "data": {
      "text/html": [
       "<div>\n",
       "<style scoped>\n",
       "    .dataframe tbody tr th:only-of-type {\n",
       "        vertical-align: middle;\n",
       "    }\n",
       "\n",
       "    .dataframe tbody tr th {\n",
       "        vertical-align: top;\n",
       "    }\n",
       "\n",
       "    .dataframe thead th {\n",
       "        text-align: right;\n",
       "    }\n",
       "</style>\n",
       "<table border=\"1\" class=\"dataframe\">\n",
       "  <thead>\n",
       "    <tr style=\"text-align: right;\">\n",
       "      <th></th>\n",
       "      <th>Long Abb</th>\n",
       "      <th>Abb</th>\n",
       "      <th>Name</th>\n",
       "    </tr>\n",
       "  </thead>\n",
       "  <tbody>\n",
       "    <tr>\n",
       "      <th>0</th>\n",
       "      <td>Atlanta</td>\n",
       "      <td>Atl</td>\n",
       "      <td>Atlanta Hawks (1968-69 - present)</td>\n",
       "    </tr>\n",
       "    <tr>\n",
       "      <th>1</th>\n",
       "      <td>Anderson</td>\n",
       "      <td>And</td>\n",
       "      <td>Anderson Packers (1949-50)</td>\n",
       "    </tr>\n",
       "    <tr>\n",
       "      <th>2</th>\n",
       "      <td>Bal Bullets</td>\n",
       "      <td>BlB</td>\n",
       "      <td>Baltimore Bullets (1st team) (1947-48 - 1953-54)</td>\n",
       "    </tr>\n",
       "    <tr>\n",
       "      <th>3</th>\n",
       "      <td>Baltimore</td>\n",
       "      <td>Bal</td>\n",
       "      <td>Baltimore Bullets (2nd team) (1963-64 - 1972-73)</td>\n",
       "    </tr>\n",
       "    <tr>\n",
       "      <th>4</th>\n",
       "      <td>Boston</td>\n",
       "      <td>Bos</td>\n",
       "      <td>Boston Celtics (1946-47 - present)</td>\n",
       "    </tr>\n",
       "  </tbody>\n",
       "</table>\n",
       "</div>"
      ],
      "text/plain": [
       "        Long Abb  Abb                                              Name\n",
       "0  Atlanta        Atl                 Atlanta Hawks (1968-69 - present)\n",
       "1  Anderson       And                        Anderson Packers (1949-50)\n",
       "2  Bal Bullets    BlB  Baltimore Bullets (1st team) (1947-48 - 1953-54)\n",
       "3  Baltimore      Bal  Baltimore Bullets (2nd team) (1963-64 - 1972-73)\n",
       "4  Boston         Bos                Boston Celtics (1946-47 - present)"
      ]
     },
     "execution_count": 101,
     "metadata": {},
     "output_type": "execute_result"
    }
   ],
   "source": [
    "Team_Abb.head()"
   ]
  },
  {
   "cell_type": "code",
   "execution_count": 102,
   "metadata": {},
   "outputs": [],
   "source": [
    "# Drop 'Long Abb'\n",
    "Team_Abb.drop(['Long Abb'],axis=1,inplace=True)"
   ]
  },
  {
   "cell_type": "code",
   "execution_count": 103,
   "metadata": {},
   "outputs": [
    {
     "data": {
      "text/html": [
       "<div>\n",
       "<style scoped>\n",
       "    .dataframe tbody tr th:only-of-type {\n",
       "        vertical-align: middle;\n",
       "    }\n",
       "\n",
       "    .dataframe tbody tr th {\n",
       "        vertical-align: top;\n",
       "    }\n",
       "\n",
       "    .dataframe thead th {\n",
       "        text-align: right;\n",
       "    }\n",
       "</style>\n",
       "<table border=\"1\" class=\"dataframe\">\n",
       "  <thead>\n",
       "    <tr style=\"text-align: right;\">\n",
       "      <th></th>\n",
       "      <th>Abb</th>\n",
       "      <th>Name</th>\n",
       "    </tr>\n",
       "  </thead>\n",
       "  <tbody>\n",
       "    <tr>\n",
       "      <th>0</th>\n",
       "      <td>ATL</td>\n",
       "      <td>Atlanta Hawks (1968-69 - present)</td>\n",
       "    </tr>\n",
       "    <tr>\n",
       "      <th>1</th>\n",
       "      <td>AND</td>\n",
       "      <td>Anderson Packers (1949-50)</td>\n",
       "    </tr>\n",
       "    <tr>\n",
       "      <th>2</th>\n",
       "      <td>BLB</td>\n",
       "      <td>Baltimore Bullets (1st team) (1947-48 - 1953-54)</td>\n",
       "    </tr>\n",
       "    <tr>\n",
       "      <th>3</th>\n",
       "      <td>BAL</td>\n",
       "      <td>Baltimore Bullets (2nd team) (1963-64 - 1972-73)</td>\n",
       "    </tr>\n",
       "    <tr>\n",
       "      <th>4</th>\n",
       "      <td>BOS</td>\n",
       "      <td>Boston Celtics (1946-47 - present)</td>\n",
       "    </tr>\n",
       "  </tbody>\n",
       "</table>\n",
       "</div>"
      ],
      "text/plain": [
       "   Abb                                              Name\n",
       "0  ATL                 Atlanta Hawks (1968-69 - present)\n",
       "1  AND                        Anderson Packers (1949-50)\n",
       "2  BLB  Baltimore Bullets (1st team) (1947-48 - 1953-54)\n",
       "3  BAL  Baltimore Bullets (2nd team) (1963-64 - 1972-73)\n",
       "4  BOS                Boston Celtics (1946-47 - present)"
      ]
     },
     "execution_count": 103,
     "metadata": {},
     "output_type": "execute_result"
    }
   ],
   "source": [
    "# Make all the Abbreviation uppercase\n",
    "Team_Abb['Abb'] = Team_Abb['Abb'].apply(lambda x: x.upper())\n",
    "Team_Abb['Abb'] = Team_Abb['Abb'].apply(lambda x: x[:-1] if x[-1]==' ' else x[:])\n",
    "Team_Abb.head()"
   ]
  },
  {
   "cell_type": "code",
   "execution_count": 104,
   "metadata": {},
   "outputs": [],
   "source": [
    "# take only the team's name\n",
    "regex = re.compile(r'^([a-zA-Z.\\s\\-]+)')\n",
    "Team_Abb['Name'] = Team_Abb['Name'].apply(lambda x: regex.findall(x)[0])\n",
    "# drop the last white space\n",
    "Team_Abb['Name'] = Team_Abb['Name'].apply(lambda x: x[:-1] if x[-1]==' ' else x[:])"
   ]
  },
  {
   "cell_type": "markdown",
   "metadata": {},
   "source": [
    "To exploit dataframe 'Team_Abb' for converting the teams' names in dataframe 'NBA_final', we first compare if there is any team in 'NBA_final' not in 'Team_Abb' and deal with the entry."
   ]
  },
  {
   "cell_type": "code",
   "execution_count": 105,
   "metadata": {},
   "outputs": [
    {
     "name": "stdout",
     "output_type": "stream",
     "text": [
      "{'Fort Wayne Pistons', 'St. Louis Hawks', 'New York Knicks', 'Portland Trail Blazers', 'Oklahoma City Thunder'}\n"
     ]
    }
   ],
   "source": [
    "NBA_final_team_set = set(NBA_final['W'].tolist()+NBA_final['E'].tolist())\n",
    "Team_Abb_Name_set = set(Team_Abb['Name'].tolist())\n",
    "print(NBA_final_team_set.difference(Team_Abb_Name_set))"
   ]
  },
  {
   "cell_type": "code",
   "execution_count": 106,
   "metadata": {},
   "outputs": [
    {
     "name": "stdout",
     "output_type": "stream",
     "text": [
      "set()\n"
     ]
    }
   ],
   "source": [
    "# We find the corresponding team and correct the name in dataframe 'Team_Abb'\n",
    "Team_Abb.at[Team_Abb.index[Team_Abb['Name'] == 'New York Knick'],'Name'] = 'New York Knicks'\n",
    "Team_Abb.at[Team_Abb.index[Team_Abb['Name'] == 'Portland TrailBlazers'],'Name'] = 'Portland Trail Blazers'\n",
    "Team_Abb.at[Team_Abb.index[Team_Abb['Name'] == 'Ft Wayne Pistons'],'Name'] = 'Fort Wayne Pistons'\n",
    "Team_Abb.at[Team_Abb.index[Team_Abb['Name'] == 'Oklahoma City'],'Name'] = 'Oklahoma City Thunder'\n",
    "Team_Abb.at[Team_Abb.index[Team_Abb['Name'] == 'St Louis Hawks'],'Name'] = 'St. Louis Hawks'\n",
    "Team_Abb_Name_set = set(Team_Abb['Name'].tolist())\n",
    "print(NBA_final_team_set.difference(Team_Abb_Name_set))"
   ]
  },
  {
   "cell_type": "markdown",
   "metadata": {},
   "source": [
    "To make the conversion from teams' full names to the corresponding abbreviations, we seperate the names that appear only once in NBA history and the ones that apprear more than onece, and establish a dictionary for the first one but deal with the latter by hand."
   ]
  },
  {
   "cell_type": "code",
   "execution_count": 107,
   "metadata": {},
   "outputs": [
    {
     "name": "stdout",
     "output_type": "stream",
     "text": [
      "Recurring team:['Baltimore Bullets', 'Denver Nuggets']\n"
     ]
    }
   ],
   "source": [
    "# Teams that appear more than once\n",
    "temp = (Team_Abb.groupby('Name').count()>1)\n",
    "team_recurring_list =  temp.index[temp.Abb].tolist()\n",
    "print('Recurring team:' + str(team_recurring_list))\n",
    "\n",
    "# Teams that only appear once\n",
    "team_once_list =list(Team_Abb_Name_set)\n",
    "for x in team_recurring_list:\n",
    "    team_once_list.remove(x) "
   ]
  },
  {
   "cell_type": "code",
   "execution_count": 108,
   "metadata": {},
   "outputs": [],
   "source": [
    "# Baltimore Bullets appear twice\n",
    "Team_Abb_recuring_index = pd.Index([])\n",
    "for x in team_recurring_list:\n",
    "    Team_Abb_recuring_index = Team_Abb_recuring_index.append(Team_Abb.index[(Team_Abb['Name'] == x)])\n",
    "    \n",
    "Team_Abb_once_index = Team_Abb.index.drop(Team_Abb_recuring_index)\n",
    "Team_Abb_recuring = Team_Abb.iloc[Team_Abb_recuring_index].copy()\n",
    "Team_Abb_once = Team_Abb.iloc[Team_Abb_once_index].copy()"
   ]
  },
  {
   "cell_type": "code",
   "execution_count": 109,
   "metadata": {},
   "outputs": [],
   "source": [
    "# For the team whose name only appear once\n",
    "dict_temp = Team_Abb_once.set_index('Name').T.to_dict('list')\n",
    "NBA_final.replace(dict_temp,inplace=True)"
   ]
  },
  {
   "cell_type": "code",
   "execution_count": 110,
   "metadata": {},
   "outputs": [
    {
     "data": {
      "text/html": [
       "<div>\n",
       "<style scoped>\n",
       "    .dataframe tbody tr th:only-of-type {\n",
       "        vertical-align: middle;\n",
       "    }\n",
       "\n",
       "    .dataframe tbody tr th {\n",
       "        vertical-align: top;\n",
       "    }\n",
       "\n",
       "    .dataframe thead th {\n",
       "        text-align: right;\n",
       "    }\n",
       "</style>\n",
       "<table border=\"1\" class=\"dataframe\">\n",
       "  <thead>\n",
       "    <tr style=\"text-align: right;\">\n",
       "      <th></th>\n",
       "      <th>index</th>\n",
       "      <th>Year</th>\n",
       "      <th>W</th>\n",
       "      <th>E</th>\n",
       "      <th>Champion</th>\n",
       "    </tr>\n",
       "  </thead>\n",
       "  <tbody>\n",
       "    <tr>\n",
       "      <th>1</th>\n",
       "      <td>1</td>\n",
       "      <td>1948</td>\n",
       "      <td>Baltimore Bullets</td>\n",
       "      <td>PHW</td>\n",
       "      <td>Baltimore Bullets</td>\n",
       "    </tr>\n",
       "    <tr>\n",
       "      <th>24</th>\n",
       "      <td>24</td>\n",
       "      <td>1971</td>\n",
       "      <td>MIL</td>\n",
       "      <td>Baltimore Bullets</td>\n",
       "      <td>MIL</td>\n",
       "    </tr>\n",
       "  </tbody>\n",
       "</table>\n",
       "</div>"
      ],
      "text/plain": [
       "    index  Year                  W                  E           Champion\n",
       "1       1  1948  Baltimore Bullets                PHW  Baltimore Bullets\n",
       "24     24  1971                MIL  Baltimore Bullets                MIL"
      ]
     },
     "execution_count": 110,
     "metadata": {},
     "output_type": "execute_result"
    }
   ],
   "source": [
    "# For the 'Baltimore Bullets'\n",
    "# BLB before 1960, BAL after 1960\n",
    "NBA_final[(NBA_final['W'] == 'Baltimore Bullets') |(NBA_final['E'] == 'Baltimore Bullets') | (NBA_final['Champion'] == 'Baltimore Bullets')]"
   ]
  },
  {
   "cell_type": "code",
   "execution_count": 111,
   "metadata": {},
   "outputs": [],
   "source": [
    "# replace the frist row with BLB and the 24th row with BAL\n",
    "NBA_final.at[1,'W'] = 'BLB'\n",
    "NBA_final.at[1,'Champion'] = 'BLB'\n",
    "NBA_final.at[24,'E'] = 'BAL'"
   ]
  },
  {
   "cell_type": "code",
   "execution_count": 112,
   "metadata": {},
   "outputs": [
    {
     "data": {
      "text/html": [
       "<div>\n",
       "<style scoped>\n",
       "    .dataframe tbody tr th:only-of-type {\n",
       "        vertical-align: middle;\n",
       "    }\n",
       "\n",
       "    .dataframe tbody tr th {\n",
       "        vertical-align: top;\n",
       "    }\n",
       "\n",
       "    .dataframe thead th {\n",
       "        text-align: right;\n",
       "    }\n",
       "</style>\n",
       "<table border=\"1\" class=\"dataframe\">\n",
       "  <thead>\n",
       "    <tr style=\"text-align: right;\">\n",
       "      <th></th>\n",
       "      <th>index</th>\n",
       "      <th>Year</th>\n",
       "      <th>W</th>\n",
       "      <th>E</th>\n",
       "      <th>Champion</th>\n",
       "    </tr>\n",
       "  </thead>\n",
       "  <tbody>\n",
       "  </tbody>\n",
       "</table>\n",
       "</div>"
      ],
      "text/plain": [
       "Empty DataFrame\n",
       "Columns: [index, Year, W, E, Champion]\n",
       "Index: []"
      ]
     },
     "execution_count": 112,
     "metadata": {},
     "output_type": "execute_result"
    }
   ],
   "source": [
    "# Fpr the 'Denver Nuggets'\n",
    "# never attended NBA finals\n",
    "NBA_final[(NBA_final['W'] == 'Denver Nuggets') |(NBA_final['E'] == 'Denver Nuggets') | (NBA_final['Champion'] == 'Denver Nuggets')]"
   ]
  },
  {
   "cell_type": "markdown",
   "metadata": {},
   "source": [
    "Thus far, we have made the data frame NBA_final with column 'Year', 'W' (stands for Western Champion), 'E' (stands for Eastern Champion), and 'Champion' (stands for 'Championship'). All the teams are labeled using the abbreviations we scrape online."
   ]
  },
  {
   "cell_type": "markdown",
   "metadata": {},
   "source": [
    "#### Constuct The Data Frame For Players"
   ]
  },
  {
   "cell_type": "markdown",
   "metadata": {},
   "source": [
    "We now use the seaonal statistics data, Seasons_stats.csv, to construct the data frame recording the number of times that the players' team attend the final or win the championship."
   ]
  },
  {
   "cell_type": "code",
   "execution_count": 113,
   "metadata": {},
   "outputs": [],
   "source": [
    "# import seasonal data\n",
    "raw_season_stats = pd.read_csv('../data/Seasons_Stats.csv')\n",
    "raw_season_stats.drop(raw_season_stats.columns[0],axis=1,inplace=True)\n",
    "# delete *\n",
    "raw_season_stats['Player'] = raw_season_stats['Player'].str.replace('*','')\n",
    "# delete blank columns\n",
    "raw_season_stats.drop(['blanl','blank2'],axis=1,inplace = True)\n",
    "# Create new feature 'birth_year' in All_season_stats, in order to distinguish the players with the same legal names\n",
    "raw_season_stats['Birth Year'] = raw_season_stats['Year'] - raw_season_stats['Age']"
   ]
  },
  {
   "cell_type": "markdown",
   "metadata": {},
   "source": [
    "However, we find that there are discrepancies between the abbreviations in the online-list and those in the Seasons_stats.csv, which we are going to fix."
   ]
  },
  {
   "cell_type": "code",
   "execution_count": 114,
   "metadata": {},
   "outputs": [
    {
     "name": "stdout",
     "output_type": "stream",
     "text": [
      "   Abb                   Name\n",
      "23  GS  Golden State Warriors\n",
      "   Abb             Name\n",
      "38  NJ  New Jersey Nets\n",
      "   Abb             Name\n",
      "43  NY  New York Knicks\n",
      "   Abb               Name\n",
      "55  SA  San Antonio Spurs\n",
      "   Abb                    Name\n",
      "57  SF  San Francisco Warriors\n"
     ]
    }
   ],
   "source": [
    "# The list of team abbrev. in raw-season_Tm\n",
    "raw_season_Tm_set = set(raw_season_stats['Tm'].dropna())\n",
    "# The list of team abbrev. in NBA final\n",
    "NBA_final_Tm_set = set(NBA_final['W'].tolist()+NBA_final['E'].tolist())\n",
    "# The difference\n",
    "NBA_final_Tm_difference=sorted(list(NBA_final_Tm_set.difference(raw_season_Tm_set)))\n",
    "for x in NBA_final_Tm_difference:\n",
    "    print(Team_Abb[Team_Abb['Abb'] == x])"
   ]
  },
  {
   "cell_type": "code",
   "execution_count": 115,
   "metadata": {},
   "outputs": [
    {
     "name": "stdout",
     "output_type": "stream",
     "text": [
      "[]\n"
     ]
    }
   ],
   "source": [
    "# choose from above\n",
    "# 'GS' should be 'GSW'\n",
    "# 'NJ'           'NJN'\n",
    "# 'NY'           'NYK'\n",
    "# 'SA'           'SAS'\n",
    "# 'SF'           'SFW'\n",
    "NBA_final.replace({'GS':'GSW', 'NJ': 'NJN', 'NY': 'NYK', 'SA': 'SAS', 'SF':'SFW'},inplace=True)\n",
    "# double check there is no missing Abb \n",
    "print(sorted(list(set(NBA_final['W'].tolist()+NBA_final['E'].tolist()).difference(raw_season_Tm_set))))"
   ]
  },
  {
   "cell_type": "code",
   "execution_count": 116,
   "metadata": {},
   "outputs": [],
   "source": [
    "# import the career_stats\n",
    "player_stats = pd.read_csv('../data/player_stats.csv')"
   ]
  },
  {
   "cell_type": "code",
   "execution_count": 117,
   "metadata": {},
   "outputs": [],
   "source": [
    "# define the data frame for the features, 'Final' and 'Champion'\n",
    "df_feature = player_stats[['Player','Birth Year']].copy()\n",
    "df_feature['Final'] = 0\n",
    "df_feature['Champion'] = 0"
   ]
  },
  {
   "cell_type": "code",
   "execution_count": 118,
   "metadata": {},
   "outputs": [],
   "source": [
    "for year in range(1947,2018):\n",
    "    Tm_W = NBA_final.at[NBA_final['Year'].index[NBA_final['Year']== year][0],'W']\n",
    "    Tm_E = NBA_final.at[NBA_final['Year'].index[NBA_final['Year']== year][0],'E']\n",
    "    Tm_Champ = NBA_final.at[NBA_final['Year'].index[NBA_final['Year']== year][0],'Champion']\n",
    "    \n",
    "    # for Western Champion\n",
    "    temp = raw_season_stats[(raw_season_stats['Year'] == year) & (raw_season_stats['Tm'] == Tm_W)][['Player','Birth Year']]\n",
    "    for (x,y) in zip(temp['Player'],temp['Birth Year']):\n",
    "        temp_index = (df_feature['Player'] == x) & (df_feature['Birth Year'] == y)\n",
    "        if temp_index.sum()>0: \n",
    "            df_feature.at[df_feature.index[temp_index][0],'Final'] +=1\n",
    "        \n",
    "    # for Eastern Champion\n",
    "    temp = raw_season_stats[(raw_season_stats['Year'] == year) & (raw_season_stats['Tm'] == Tm_E)][['Player','Birth Year']]\n",
    "    for (x,y) in zip(temp['Player'],temp['Birth Year']):\n",
    "        temp_index = (df_feature['Player'] == x) & (df_feature['Birth Year'] == y)\n",
    "        if temp_index.sum()>0: \n",
    "            df_feature.at[df_feature.index[temp_index][0],'Final'] +=1\n",
    "    \n",
    "    \n",
    "    # for Champion\n",
    "    temp = raw_season_stats[(raw_season_stats['Year'] == year) & (raw_season_stats['Tm'] == Tm_Champ)][['Player','Birth Year']]\n",
    "    for (x,y) in zip(temp['Player'],temp['Birth Year']):\n",
    "        temp_index = (df_feature['Player'] == x) & (df_feature['Birth Year'] == y)\n",
    "        if temp_index.sum()>0: \n",
    "            df_feature.at[df_feature.index[temp_index][0],'Champion'] +=1\n",
    "    "
   ]
  },
  {
   "cell_type": "code",
   "execution_count": 119,
   "metadata": {},
   "outputs": [
    {
     "data": {
      "text/html": [
       "<div>\n",
       "<style scoped>\n",
       "    .dataframe tbody tr th:only-of-type {\n",
       "        vertical-align: middle;\n",
       "    }\n",
       "\n",
       "    .dataframe tbody tr th {\n",
       "        vertical-align: top;\n",
       "    }\n",
       "\n",
       "    .dataframe thead th {\n",
       "        text-align: right;\n",
       "    }\n",
       "</style>\n",
       "<table border=\"1\" class=\"dataframe\">\n",
       "  <thead>\n",
       "    <tr style=\"text-align: right;\">\n",
       "      <th></th>\n",
       "      <th>Player</th>\n",
       "      <th>Birth Year</th>\n",
       "      <th>Final</th>\n",
       "      <th>Champion</th>\n",
       "    </tr>\n",
       "  </thead>\n",
       "  <tbody>\n",
       "    <tr>\n",
       "      <th>1445</th>\n",
       "      <td>Kareem Abdul-Jabbar</td>\n",
       "      <td>1948.0</td>\n",
       "      <td>10</td>\n",
       "      <td>6</td>\n",
       "    </tr>\n",
       "  </tbody>\n",
       "</table>\n",
       "</div>"
      ],
      "text/plain": [
       "                   Player  Birth Year  Final  Champion\n",
       "1445  Kareem Abdul-Jabbar      1948.0     10         6"
      ]
     },
     "execution_count": 119,
     "metadata": {},
     "output_type": "execute_result"
    }
   ],
   "source": [
    "df_feature[(df_feature['Player']=='Kareem Abdul-Jabbar')&(player_stats['Birth Year']==1948)]"
   ]
  },
  {
   "cell_type": "code",
   "execution_count": 120,
   "metadata": {},
   "outputs": [],
   "source": [
    "export_csv = df_feature.to_csv (r'../data/Final-and-Champion.csv', index = None, header=True)"
   ]
  },
  {
   "cell_type": "markdown",
   "metadata": {},
   "source": [
    "# Second Part"
   ]
  },
  {
   "cell_type": "markdown",
   "metadata": {},
   "source": [
    "## Using Beautifulsoup"
   ]
  },
  {
   "cell_type": "code",
   "execution_count": 121,
   "metadata": {},
   "outputs": [],
   "source": [
    "# We Will use requests to get the HTML source code from Wikipedia\n",
    "# and use BeautifulSoup to parse the HTML.\n",
    "from bs4 import BeautifulSoup\n",
    "\n",
    "# This produces a dataframe from a single wikitable on url\n",
    "# of a particular tableClass with cols = numcols.\n",
    "\n",
    "def import_wikitable(url, numcols, tableClass):\n",
    "    website_url = requests.get(url)\n",
    "    soup = BeautifulSoup(website_url.text, 'lxml')\n",
    "    # By noting the class of the table in the source code,\n",
    "    # and the fact that it is the only table we pick it out \n",
    "    # using find()\n",
    "    My_table = soup.find('table',{'class':tableClass})\n",
    "    \n",
    "    # Creating lists for each of the columns I know to be in my \n",
    "    # wikitable.\n",
    "    a = {}\n",
    "    k = 0\n",
    "    while k < numcols:\n",
    "        # Dynamically create key\n",
    "        key = 'ABCDEFGHIJKLMNOPQRSTUVWXYZ'[k]\n",
    "        # Calculate value\n",
    "        value = []\n",
    "        a[key] = value \n",
    "        k += 1\n",
    "\n",
    "    # Using HTML tags for rows <tr> and elements <td> to iterate\n",
    "    # through each row of data and append data elements to \n",
    "    # their appropriate lists:\n",
    "\n",
    "    for row in My_table.findAll('tr'):\n",
    "        #print(row)\n",
    "        cells = row.findAll(['td','th'])\n",
    "        if len(cells) > 0: # Only extract table body \n",
    "            k = 0\n",
    "            for x in a:\n",
    "                a[x].append(cells[k].find(text=True))\n",
    "                k = k+1\n",
    "    \n",
    "    # We should be able to read the header of the table and \n",
    "    # assign the proper header names, but I'm not going to right now\n",
    "    # Now create a dataframe to export\n",
    "    \n",
    "    df = pd.DataFrame(a['A'] ,columns = ['A'] )\n",
    "    a.pop('A')\n",
    "    for x in a:\n",
    "        df[x] = a[x] \n",
    "    \n",
    "    df.columns = df.iloc[0]\n",
    "    \n",
    "    columnNames = [];\n",
    "    for x in df.columns:\n",
    "        columnNames.append(x[0:-1])\n",
    "\n",
    "    df.columns = columnNames\n",
    "    return df.drop(0)\n",
    "    "
   ]
  },
  {
   "cell_type": "code",
   "execution_count": 122,
   "metadata": {},
   "outputs": [],
   "source": [
    "# Here I call the function on several wikipedia tables.\n",
    "HOFTable = import_wikitable('https://en.wikipedia.org/wiki/List_of_players_in_the_Naismith_Memorial_Basketball_Hall_of_Fame',\n",
    "                            5,\n",
    "                            'wikitable sortable')\n",
    "\n",
    "AllStarTable = import_wikitable('https://en.wikipedia.org/wiki/List_of_NBA_All-Stars',\n",
    "                                5,\n",
    "                                'wikitable sortable')\n",
    "\n",
    "AllTeamsTable = import_wikitable('https://en.wikipedia.org/wiki/All-NBA_Team',\n",
    "                                 7,\n",
    "                                 'wikitable sortable')\n"
   ]
  },
  {
   "cell_type": "code",
   "execution_count": 123,
   "metadata": {},
   "outputs": [],
   "source": [
    "# The MVP table is a little tricky, so we need to do some manipulations to get it sorted out\n",
    "\n",
    "MVPTable = import_wikitable('https://en.wikipedia.org/wiki/NBA_Most_Valuable_Player_Award',\n",
    "                            5,\n",
    "                            'wikitable plainrowheaders sortable')\n",
    "\n",
    "# This just counts the multiplicity of all entries in a list and \n",
    "# returns a dictionary of those multiplicities keyed by the list values\n",
    "def multiplicity(list):\n",
    "    out = {}\n",
    "    for y in list:\n",
    "        indices = [i for i, x in enumerate(list) if x == y]\n",
    "        out[y] = len(indices)\n",
    "    return(out)\n",
    "\n",
    "y = pd.DataFrame.from_dict(multiplicity(MVPTable.drop([\"Position\", \"Season\", \"Nationality\", \"Team\"], axis = 1)[\"Player\"].tolist()), orient = 'index')\n",
    "\n",
    "y.index.name = 'Player'\n",
    "\n",
    "y = y.rename(index=str, columns={\"Player\": \"Player\", 0: \"MVPs\"})\n",
    "\n",
    "MVPTable = y.reset_index()\n",
    "\n",
    "# Here I fix an issue in the MVP data in which Kareem's first MVP is under the name Lew Alcindor\n",
    "\n",
    "#len(set(MVPTable['Player'].tolist()))\n",
    "MVPTable.loc[MVPTable['Player'] == 'Lew Alcindor', 'Player'] = 'Kareem Abdul-Jabbar'\n"
   ]
  },
  {
   "cell_type": "code",
   "execution_count": 124,
   "metadata": {},
   "outputs": [],
   "source": [
    "# We loop over the dict of tables to save each one to its own CSV file.\n",
    "\n",
    "tables = {\"HOFTable\":HOFTable, \"MVPTable\":MVPTable, \"AllStarTable\":AllStarTable, \"AllTeamsTable\":AllTeamsTable}\n",
    "\n",
    "for x in tables:\n",
    "    tables[x].to_csv('../data/' + x + '.csv', index = False, sep = ',')"
   ]
  }
 ],
 "metadata": {
  "kernelspec": {
   "display_name": "Python 3",
   "language": "python",
   "name": "python3"
  },
  "language_info": {
   "codemirror_mode": {
    "name": "ipython",
    "version": 3
   },
   "file_extension": ".py",
   "mimetype": "text/x-python",
   "name": "python",
   "nbconvert_exporter": "python",
   "pygments_lexer": "ipython3",
   "version": "3.7.0"
  }
 },
 "nbformat": 4,
 "nbformat_minor": 2
}
