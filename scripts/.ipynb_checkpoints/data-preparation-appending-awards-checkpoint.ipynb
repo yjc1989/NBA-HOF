{
 "cells": [
  {
   "cell_type": "markdown",
   "metadata": {},
   "source": [
    "# Introduction"
   ]
  },
  {
   "cell_type": "markdown",
   "metadata": {},
   "source": [
    "In this notebook, we present how we append the features for seasonal awards scraped from websites to the player's career statistics. Specifically, we include all star MVP, final MVP, defense player of the year, players whose team win division championships or final championships, all star, all teams, and MVP."
   ]
  },
  {
   "cell_type": "markdown",
   "metadata": {},
   "source": [
    "# Appending Features"
   ]
  },
  {
   "cell_type": "markdown",
   "metadata": {},
   "source": [
    "### Importing Packages"
   ]
  },
  {
   "cell_type": "code",
   "execution_count": 2,
   "metadata": {},
   "outputs": [
    {
     "name": "stdout",
     "output_type": "stream",
     "text": [
      "0.23.4\n"
     ]
    }
   ],
   "source": [
    "#matplotlib inline\n",
    "\n",
    "import numpy as np\n",
    "import pandas as pd\n",
    "from matplotlib import pyplot\n",
    "import unidecode\n",
    "import seaborn as sns\n",
    "\n",
    "print(pd.__version__)"
   ]
  },
  {
   "cell_type": "markdown",
   "metadata": {},
   "source": [
    "### Importing Dataset"
   ]
  },
  {
   "cell_type": "code",
   "execution_count": 3,
   "metadata": {},
   "outputs": [],
   "source": [
    "player_stats = pd.read_csv('../data/player_stats.csv')"
   ]
  },
  {
   "cell_type": "markdown",
   "metadata": {},
   "source": [
    "We explore the features and find that there are several players who have won seasonal awards and also have the same legal names with other players. In order to properly append those features automatically, we assume that the player's who is a Hall of Fame inductee is also likely to win seasonal awards. Finding the feature most correlated with 'HOF,' we assume this feature is also highly correlated with seasonal awards and use it to distinguish between players have the same legal names."
   ]
  },
  {
   "cell_type": "code",
   "execution_count": 4,
   "metadata": {},
   "outputs": [
    {
     "data": {
      "text/plain": [
       "VORP    0.436834\n",
       "dtype: float64"
      ]
     },
     "execution_count": 4,
     "metadata": {},
     "output_type": "execute_result"
    }
   ],
   "source": [
    "X = player_stats.drop([\"Player\",\"HOF\"], axis = 1)\n",
    "X = (X - X.mean())/X.std()\n",
    "X.corrwith(player_stats['HOF']).nlargest(n=1)"
   ]
  },
  {
   "cell_type": "code",
   "execution_count": 5,
   "metadata": {},
   "outputs": [],
   "source": [
    "def add_features(df,df_feature,feature):\n",
    "    # function that automatrically appending features to dataframe df\n",
    "    # df has features: 'Player', 'Birth Year'\n",
    "    # df_feature: 'Player', feature (the name of the feature), and may have 'Birth Year'\n",
    "    \n",
    "    # check if all the entries in 'Player' column in df_feature can be found on the 'Player' column in df_feature \n",
    "    # A player who is in df_feature but not in df_feature could either be\n",
    "    #      (1) the player played before 1982 or \n",
    "    #      (2) there is an error in the code \n",
    "    list_phantom_player = list(set(df_feature['Player'].tolist())-set(df['Player'].tolist()))\n",
    "    if list_phantom_player:\n",
    "        print('There are phantom players as below\\n')\n",
    "        print(list_phantom_player)\n",
    "        print('\\n')\n",
    "    \n",
    "    if 'Birth Year' in list(df_feature.columns):\n",
    "        # if 'Birth Year' is in df_feature, we create a dictionary with keys from ('Player','Birth Year') \n",
    "        # and values from 'feature.' This way the players can be identified without the help of 'VORP'\n",
    "        d = df_feature.set_index(['Player','Birth Year']).to_dict()[feature]\n",
    "        \n",
    "        # Create a new column in df for the new feature indexed by 'Player' and 'Birth Year.'\n",
    "        df[feature] = pd.Series(list(zip(df['Player'],df['Birth Year']))).map(d)\n",
    "        df[feature] = df[feature].fillna(value = 0) #  Fill new NaN values with 0.\n",
    "        \n",
    "    else:\n",
    "        # We index the data frame by 'Player' to make matching the new data to the old possible.\n",
    "        # We create a dictionary with keys from 'Player' and values from 'feature'\n",
    "\n",
    "        d = df_feature.set_index('Player').to_dict()[feature]\n",
    "\n",
    "        # Create a new column in df for the new feature indexed by 'Player.'\n",
    "        df[feature] = df['Player'].map(d)\n",
    "        df[feature] = df[feature].fillna(value = 0) #  Fill new NaN values with 0.\n",
    "\n",
    "        # To avoid giving accolades to the son of the player who deserves them, \n",
    "        # we discriminate between players with the same name by giving the award \n",
    "        # to whoever has highest 'VORP'. \n",
    "\n",
    "        player_list = df_feature['Player'].tolist()\n",
    "        for name in player_list:\n",
    "            temp = (df['Player']==name)  \n",
    "            if sum(df['Player']==name)>1: \n",
    "                # We print out players who have the same legal names and one of them won the awards as a quick check\n",
    "                print('The repeated name is {}, repeated {} times\\n'.format(name,sum(df['Player']==name)))\n",
    "                repeated_name_index = df.index[temp]\n",
    "                most_likely_index = df.iloc[repeated_name_index]['VORP'].idxmax(axis=0)\n",
    "                for i in repeated_name_index:\n",
    "                    if i != most_likely_index:\n",
    "                        df.at[i,feature]=0\n",
    "           \n",
    "    return df\n",
    "    "
   ]
  },
  {
   "cell_type": "markdown",
   "metadata": {},
   "source": [
    "### All Star MVP"
   ]
  },
  {
   "cell_type": "markdown",
   "metadata": {},
   "source": [
    "We now append all star MVP to the dataframe as 'AllStar_MVP.'"
   ]
  },
  {
   "cell_type": "code",
   "execution_count": 6,
   "metadata": {},
   "outputs": [
    {
     "name": "stdout",
     "output_type": "stream",
     "text": [
      "There are phantom players as below\n",
      "\n",
      "['Bill Russell', 'Elgin Baylor', 'Bob Pettit', 'Oscar Robertson', 'Rick Barry', 'George Mikan', 'Wilt Chamberlain', 'Nate Archibald', 'Paul Arizin', 'Hal Greer', 'Adrian Smith', 'Lenny Wilkens', 'Jerry Lucas', 'Jerry West', 'Dave Bing', 'Bill Sharman', 'Walt Frazier', 'Bob Cousy', 'Willis Reed', 'Ed Macauley']\n",
      "\n",
      "\n",
      "The repeated name is Glen Rice, repeated 2 times\n",
      "\n"
     ]
    }
   ],
   "source": [
    "AllStar_MVP = pd.read_csv('../data/All-Star-MVP.csv')\n",
    "AllStar_MVP['Player']= AllStar_MVP['Player'].str.replace('Lew Alcindor','Kareem Abdul-Jabbar')\n",
    "df_new = add_features(player_stats, AllStar_MVP,'AllStar_MVP')"
   ]
  },
  {
   "cell_type": "code",
   "execution_count": 7,
   "metadata": {},
   "outputs": [
    {
     "data": {
      "text/html": [
       "<div>\n",
       "<style scoped>\n",
       "    .dataframe tbody tr th:only-of-type {\n",
       "        vertical-align: middle;\n",
       "    }\n",
       "\n",
       "    .dataframe tbody tr th {\n",
       "        vertical-align: top;\n",
       "    }\n",
       "\n",
       "    .dataframe thead th {\n",
       "        text-align: right;\n",
       "    }\n",
       "</style>\n",
       "<table border=\"1\" class=\"dataframe\">\n",
       "  <thead>\n",
       "    <tr style=\"text-align: right;\">\n",
       "      <th></th>\n",
       "      <th>VORP</th>\n",
       "      <th>Birth Year</th>\n",
       "      <th>AllStar_MVP</th>\n",
       "    </tr>\n",
       "  </thead>\n",
       "  <tbody>\n",
       "    <tr>\n",
       "      <th>978</th>\n",
       "      <td>22.0</td>\n",
       "      <td>1968.0</td>\n",
       "      <td>1.0</td>\n",
       "    </tr>\n",
       "    <tr>\n",
       "      <th>979</th>\n",
       "      <td>-0.2</td>\n",
       "      <td>1991.0</td>\n",
       "      <td>0.0</td>\n",
       "    </tr>\n",
       "  </tbody>\n",
       "</table>\n",
       "</div>"
      ],
      "text/plain": [
       "     VORP  Birth Year  AllStar_MVP\n",
       "978  22.0      1968.0          1.0\n",
       "979  -0.2      1991.0          0.0"
      ]
     },
     "execution_count": 7,
     "metadata": {},
     "output_type": "execute_result"
    }
   ],
   "source": [
    "df_new.query('Player == \"Glen Rice\"')[['VORP','Birth Year', 'AllStar_MVP']]"
   ]
  },
  {
   "cell_type": "markdown",
   "metadata": {},
   "source": [
    "## Final MVP"
   ]
  },
  {
   "cell_type": "markdown",
   "metadata": {},
   "source": [
    "We now append final MVP to the dataframe as 'Final_MVP.'"
   ]
  },
  {
   "cell_type": "code",
   "execution_count": 8,
   "metadata": {},
   "outputs": [
    {
     "name": "stdout",
     "output_type": "stream",
     "text": [
      "There are phantom players as below\n",
      "\n",
      "['Rick Barry', 'Wilt Chamberlain', 'Jerry West', 'Wes Unseld', 'Jo Jo White', 'John Havlicek', 'Willis Reed']\n",
      "\n",
      "\n"
     ]
    }
   ],
   "source": [
    "Final_MVP = pd.read_csv('../data/Final-MVP.csv')\n",
    "# give 'Kareem Abdul-Jabbar' credit of 'Lew Alcindor'\n",
    "K_index = Final_MVP.index[Final_MVP['Player'] == 'Kareem Abdul-Jabbar'] \n",
    "L_index = Final_MVP.index[Final_MVP['Player'] == 'Lew Alcindor'] \n",
    "Final_MVP.at[K_index[0],'Final_MVP'] = Final_MVP.at[K_index[0],'Final_MVP'] + Final_MVP.at[L_index[0],'Final_MVP']\n",
    "Final_MVP.drop(L_index,inplace = True)\n",
    "df_new = add_features(df_new, Final_MVP,'Final_MVP')"
   ]
  },
  {
   "cell_type": "markdown",
   "metadata": {},
   "source": [
    "## Defensive Player Of The Year"
   ]
  },
  {
   "cell_type": "markdown",
   "metadata": {},
   "source": [
    "We now append defensive player of the year to the dataframe as 'DPOY.'"
   ]
  },
  {
   "cell_type": "code",
   "execution_count": 9,
   "metadata": {},
   "outputs": [
    {
     "name": "stdout",
     "output_type": "stream",
     "text": [
      "The repeated name is Gary Payton, repeated 2 times\n",
      "\n"
     ]
    }
   ],
   "source": [
    "DPOY = pd.read_csv('../data/DPOY.csv')\n",
    "# replace the name 'Ron Artest' with 'Metta World Peace'\n",
    "DPOY['Player'] = DPOY['Player'].str.replace('Ron Artest','Metta World Peace')\n",
    "df_new = add_features(df_new, DPOY,'DPOY')"
   ]
  },
  {
   "cell_type": "code",
   "execution_count": 10,
   "metadata": {},
   "outputs": [
    {
     "data": {
      "text/html": [
       "<div>\n",
       "<style scoped>\n",
       "    .dataframe tbody tr th:only-of-type {\n",
       "        vertical-align: middle;\n",
       "    }\n",
       "\n",
       "    .dataframe tbody tr th {\n",
       "        vertical-align: top;\n",
       "    }\n",
       "\n",
       "    .dataframe thead th {\n",
       "        text-align: right;\n",
       "    }\n",
       "</style>\n",
       "<table border=\"1\" class=\"dataframe\">\n",
       "  <thead>\n",
       "    <tr style=\"text-align: right;\">\n",
       "      <th></th>\n",
       "      <th>VORP</th>\n",
       "      <th>DPOY</th>\n",
       "    </tr>\n",
       "  </thead>\n",
       "  <tbody>\n",
       "    <tr>\n",
       "      <th>940</th>\n",
       "      <td>63.0</td>\n",
       "      <td>1.0</td>\n",
       "    </tr>\n",
       "    <tr>\n",
       "      <th>941</th>\n",
       "      <td>-0.1</td>\n",
       "      <td>0.0</td>\n",
       "    </tr>\n",
       "  </tbody>\n",
       "</table>\n",
       "</div>"
      ],
      "text/plain": [
       "     VORP  DPOY\n",
       "940  63.0   1.0\n",
       "941  -0.1   0.0"
      ]
     },
     "execution_count": 10,
     "metadata": {},
     "output_type": "execute_result"
    }
   ],
   "source": [
    "df_new.query('Player == \"Gary Payton\"')[['VORP','DPOY']]"
   ]
  },
  {
   "cell_type": "markdown",
   "metadata": {},
   "source": [
    "## The player whose team attended Finals or won Championships "
   ]
  },
  {
   "cell_type": "markdown",
   "metadata": {},
   "source": [
    "We now append player's team which attended finals as 'Final,' and player's team which won the championships as 'Champion.'"
   ]
  },
  {
   "cell_type": "code",
   "execution_count": 11,
   "metadata": {},
   "outputs": [],
   "source": [
    "Final_Champion = pd.read_csv('../data/Final-and-Champion.csv')\n",
    "df_new = add_features(df_new, Final_Champion,'Final')\n",
    "df_new = add_features(df_new, Final_Champion,'Champion')"
   ]
  },
  {
   "cell_type": "markdown",
   "metadata": {},
   "source": [
    "### AllStar"
   ]
  },
  {
   "cell_type": "markdown",
   "metadata": {},
   "source": [
    "We now append all star as 'AllStar.'\n",
    "Note that, in the scraped data for the all star, players whose names have special characters got messed up. We find those names and change them by hand."
   ]
  },
  {
   "cell_type": "code",
   "execution_count": 12,
   "metadata": {
    "scrolled": false
   },
   "outputs": [
    {
     "name": "stdout",
     "output_type": "stream",
     "text": [
      "There are phantom players as below\n",
      "\n",
      "['Fred Scolari', 'Sidney Wicks', 'Wes Unseld', 'Rudy Tomjanovich', 'Bob Boozer', 'Dolph Schayes', 'Bob Davies', 'Pete Maravich', 'Joe Caldwell', 'Alex Groza', 'Nate Archibald', 'Jack Molinas', 'Dick Van Arsdale', 'Tom Meschery', 'Joe Fulks', 'B. J. Armstrong', 'Jim Pollard', 'Adrian Smith', 'Chet Walker', 'Johnny Kerr', 'Slater Martin', 'Paul Silas', 'Maurice Stokes', 'Dave Bing', 'Bill Sharman', 'Tom Gola', 'Guy Rodgers', 'John Havlicek', 'Red Rocha', 'Paul Walther', 'Connie Hawkins', 'Walt Frazier', 'Lucious Jackson', 'Jon McGlocklin', 'Gene Shue', 'Penny Hardaway', 'Mel Hutchins', 'Elgin Baylor', 'Geoff Petrie', 'Walter Dukes', 'Clyde Lee', 'Earl Monroe', 'Bob Harrison', 'Jim Price', 'John Block', 'Dick Barnett', 'Frank Selvy', 'Micheal Ray Richardson', 'Norm Van Lier', 'Willie Naulls', 'Hal Greer', 'Don Ohl', 'Len Chappell', 'Lenny Wilkens', 'Vern Mikkelsen', 'Lee Shaffer', 'Max Zaslofsky', 'Wayne Embry', 'Billy Cunningham', 'Jack George', 'Phil Chenier', 'Dick Garmaker', 'Nick Van Exel', 'Dick McGuire', 'Frank Brian', 'Rudy LaRusso', 'Bob Cousy', 'Terry Dischinger', 'Jimmy Walker', 'Bill Bridges', 'Gus Johnson', 'Chuck Noble', 'Paul Seymour', 'Jack Marin', 'George Yardley', 'Bob Pettit', 'Jack Twyman', 'Nate Thurmond', 'Arnie Risen', 'Rick Barry', 'Jack Coleman', 'Neil Johnston', 'George Mikan', 'Bob Rule', 'Bill Bradley', 'Bailey Howell', 'Clyde Lovellette', 'Harry Gallatin', 'Larry Foust', 'A. C. Green', 'Flynn Robinson', 'Austin Carr', 'Gail Goodrich', 'Woody Sauldsberry', 'Jo Jo White', 'Don Kojis', 'Richie Regan', 'Walt Bellamy', 'Walt Hazzard', 'Darrall Imhoff', 'Jeff Mullins', 'Carl Braun', 'Doug Collins', 'Don Barksdale', 'Joe Barry Carroll', 'Billy Gabor', 'Bobby Wanzer', 'Andy Phillip', 'Nathaniel Clifton', 'Bill Russell', 'Larry Costello', 'Bob Kauffman', 'Cliff Hagan', 'Tom Van Arsdale', 'Butch Beard', 'Oscar Robertson', 'Charlie Scott', 'Eddie Miles', 'Don Sunderlage', 'Wilt Chamberlain', 'Jim King', 'Paul Arizin', 'Archie Clark', 'Vince Boryla', 'Dwight Eddleman', 'Richie Guerin', 'Johnny Green', 'Leo Barnhorst', 'Ben Simmons', 'Sam Jones', 'Tom Heinsohn', 'Lou Hudson', 'Bob Love', 'Jerry Lucas', 'Curtis Rowe', 'Jerry West', 'Rod Hundley', 'Fred Schaus', 'Ray Felix', 'Ken Sears', 'Cazzie Russell', 'Ralph Beard', 'Dave DeBusschere', 'Zelmo Beaty', 'Willis Reed', 'Jerry Sloan', 'Ed Macauley']\n",
      "\n",
      "\n",
      "The repeated name is Patrick Ewing, repeated 2 times\n",
      "\n",
      "The repeated name is Gary Payton, repeated 2 times\n",
      "\n",
      "The repeated name is Tim Hardaway, repeated 2 times\n",
      "\n",
      "The repeated name is Bobby Jones, repeated 2 times\n",
      "\n",
      "The repeated name is Larry Nance, repeated 2 times\n",
      "\n",
      "The repeated name is Glen Rice, repeated 2 times\n",
      "\n",
      "The repeated name is Eddie Johnson, repeated 2 times\n",
      "\n",
      "The repeated name is Glenn Robinson, repeated 2 times\n",
      "\n"
     ]
    }
   ],
   "source": [
    "AllStar = pd.read_csv('../data/AllStarTable.csv', encoding='UTF-8')\n",
    "\n",
    "# This maps special, accented characters to their closest latin character.\n",
    "AllStar['Player'] = AllStar['Player'].apply(unidecode.unidecode)\n",
    "\n",
    "df_new = add_features(df_new, AllStar,'#')\n",
    "df_new.rename(index=str, columns = {\"#\": \"AllStar\"}, inplace = True);"
   ]
  },
  {
   "cell_type": "code",
   "execution_count": 13,
   "metadata": {},
   "outputs": [
    {
     "data": {
      "text/html": [
       "<div>\n",
       "<style scoped>\n",
       "    .dataframe tbody tr th:only-of-type {\n",
       "        vertical-align: middle;\n",
       "    }\n",
       "\n",
       "    .dataframe tbody tr th {\n",
       "        vertical-align: top;\n",
       "    }\n",
       "\n",
       "    .dataframe thead th {\n",
       "        text-align: right;\n",
       "    }\n",
       "</style>\n",
       "<table border=\"1\" class=\"dataframe\">\n",
       "  <thead>\n",
       "    <tr style=\"text-align: right;\">\n",
       "      <th></th>\n",
       "      <th>GS</th>\n",
       "      <th>Birth Year</th>\n",
       "      <th>AllStar</th>\n",
       "    </tr>\n",
       "  </thead>\n",
       "  <tbody>\n",
       "    <tr>\n",
       "      <th>978</th>\n",
       "      <td>876.0</td>\n",
       "      <td>1968.0</td>\n",
       "      <td>3.0</td>\n",
       "    </tr>\n",
       "    <tr>\n",
       "      <th>979</th>\n",
       "      <td>1.0</td>\n",
       "      <td>1991.0</td>\n",
       "      <td>0.0</td>\n",
       "    </tr>\n",
       "  </tbody>\n",
       "</table>\n",
       "</div>"
      ],
      "text/plain": [
       "        GS  Birth Year  AllStar\n",
       "978  876.0      1968.0      3.0\n",
       "979    1.0      1991.0      0.0"
      ]
     },
     "execution_count": 13,
     "metadata": {},
     "output_type": "execute_result"
    }
   ],
   "source": [
    "df_new.query('Player == \"Glen Rice\"')[['GS','Birth Year', 'AllStar']]"
   ]
  },
  {
   "cell_type": "markdown",
   "metadata": {},
   "source": [
    "### All Teams"
   ]
  },
  {
   "cell_type": "markdown",
   "metadata": {},
   "source": [
    "We now append all teams as feature 'AllTeams.'"
   ]
  },
  {
   "cell_type": "code",
   "execution_count": 14,
   "metadata": {},
   "outputs": [
    {
     "name": "stdout",
     "output_type": "stream",
     "text": [
      "There are phantom players as below\n",
      "\n",
      "['Wilt Chamberlain', 'Bill Russell', 'Elgin Baylor', 'Jerry West', 'Bob Pettit', 'John Havlicek', 'Bob Cousy', 'Dolph Schayes', 'Oscar Robertson']\n",
      "\n",
      "\n",
      "There are phantom players as below\n",
      "\n",
      "['Wilt Chamberlain', 'Bill Russell', 'Elgin Baylor', 'Jerry West', 'Bob Pettit', 'John Havlicek', 'Bob Cousy', 'Dolph Schayes', 'Oscar Robertson']\n",
      "\n",
      "\n",
      "There are phantom players as below\n",
      "\n",
      "['Wilt Chamberlain', 'Bill Russell', 'Elgin Baylor', 'Jerry West', 'Bob Pettit', 'John Havlicek', 'Bob Cousy', 'Dolph Schayes', 'Oscar Robertson']\n",
      "\n",
      "\n"
     ]
    }
   ],
   "source": [
    "AllTeams = pd.read_csv('../data/AllTeamsTable.csv',encoding='latin-1')\n",
    "AllTeams.head(2)\n",
    "\n",
    "features = [\"First team\", \"Second team\", \"Third team\"]\n",
    "for feature in features:\n",
    "    df_new = add_features(df_new, AllTeams, feature)"
   ]
  },
  {
   "cell_type": "markdown",
   "metadata": {},
   "source": [
    "### MVP"
   ]
  },
  {
   "cell_type": "markdown",
   "metadata": {},
   "source": [
    "We now append feature MVP as 'MVP.'"
   ]
  },
  {
   "cell_type": "code",
   "execution_count": 15,
   "metadata": {},
   "outputs": [
    {
     "name": "stdout",
     "output_type": "stream",
     "text": [
      "There are phantom players as below\n",
      "\n",
      "['Wilt Chamberlain', 'Bill Russell', 'Wes Unseld', 'Bob Pettit', 'Bob Cousy', 'Willis Reed', 'Oscar Robertson']\n",
      "\n",
      "\n"
     ]
    }
   ],
   "source": [
    "MVP = pd.read_csv('../data/MVPTable.csv',encoding='latin-1')\n",
    "# give 'Kareem Abdul-Jabbar' credit of 'Lew Alcindor'\n",
    "K_index = MVP.index[MVP['Player'] == 'Kareem Abdul-Jabbar'] \n",
    "L_index = MVP.index[MVP['Player'] == 'Lew Alcindor'] \n",
    "if list(L_index):\n",
    "    MVP.at[K_index[0],'MVPs'] = MVP.at[K_index[0],'MVPs'] + MVP.at[L_index[0],'MVPs']\n",
    "    MVP.drop(L_index,inplace = True)\n",
    "df_new = add_features(df_new, MVP, \"MVPs\")"
   ]
  },
  {
   "cell_type": "code",
   "execution_count": 16,
   "metadata": {},
   "outputs": [
    {
     "data": {
      "text/html": [
       "<div>\n",
       "<style scoped>\n",
       "    .dataframe tbody tr th:only-of-type {\n",
       "        vertical-align: middle;\n",
       "    }\n",
       "\n",
       "    .dataframe tbody tr th {\n",
       "        vertical-align: top;\n",
       "    }\n",
       "\n",
       "    .dataframe thead th {\n",
       "        text-align: right;\n",
       "    }\n",
       "</style>\n",
       "<table border=\"1\" class=\"dataframe\">\n",
       "  <thead>\n",
       "    <tr style=\"text-align: right;\">\n",
       "      <th></th>\n",
       "      <th>Player</th>\n",
       "      <th>Birth Year</th>\n",
       "      <th>G</th>\n",
       "      <th>GS</th>\n",
       "      <th>MP</th>\n",
       "      <th>FG</th>\n",
       "      <th>FGA</th>\n",
       "      <th>FG%</th>\n",
       "      <th>3P</th>\n",
       "      <th>3PA</th>\n",
       "      <th>...</th>\n",
       "      <th>AllStar_MVP</th>\n",
       "      <th>Final_MVP</th>\n",
       "      <th>DPOY</th>\n",
       "      <th>Final</th>\n",
       "      <th>Champion</th>\n",
       "      <th>AllStar</th>\n",
       "      <th>First team</th>\n",
       "      <th>Second team</th>\n",
       "      <th>Third team</th>\n",
       "      <th>MVPs</th>\n",
       "    </tr>\n",
       "  </thead>\n",
       "  <tbody>\n",
       "    <tr>\n",
       "      <th>0</th>\n",
       "      <td>A.C. Green</td>\n",
       "      <td>1964.0</td>\n",
       "      <td>1278.0</td>\n",
       "      <td>832.0</td>\n",
       "      <td>36552.0</td>\n",
       "      <td>4544.0</td>\n",
       "      <td>9202.0</td>\n",
       "      <td>0.493806</td>\n",
       "      <td>124.0</td>\n",
       "      <td>489.0</td>\n",
       "      <td>...</td>\n",
       "      <td>0.0</td>\n",
       "      <td>0.0</td>\n",
       "      <td>0.0</td>\n",
       "      <td>5</td>\n",
       "      <td>3</td>\n",
       "      <td>0.0</td>\n",
       "      <td>0.0</td>\n",
       "      <td>0.0</td>\n",
       "      <td>0.0</td>\n",
       "      <td>0.0</td>\n",
       "    </tr>\n",
       "    <tr>\n",
       "      <th>1</th>\n",
       "      <td>A.J. Bramlett</td>\n",
       "      <td>1977.0</td>\n",
       "      <td>8.0</td>\n",
       "      <td>0.0</td>\n",
       "      <td>61.0</td>\n",
       "      <td>4.0</td>\n",
       "      <td>21.0</td>\n",
       "      <td>0.190476</td>\n",
       "      <td>0.0</td>\n",
       "      <td>0.0</td>\n",
       "      <td>...</td>\n",
       "      <td>0.0</td>\n",
       "      <td>0.0</td>\n",
       "      <td>0.0</td>\n",
       "      <td>0</td>\n",
       "      <td>0</td>\n",
       "      <td>0.0</td>\n",
       "      <td>0.0</td>\n",
       "      <td>0.0</td>\n",
       "      <td>0.0</td>\n",
       "      <td>0.0</td>\n",
       "    </tr>\n",
       "    <tr>\n",
       "      <th>2</th>\n",
       "      <td>A.J. English</td>\n",
       "      <td>1968.0</td>\n",
       "      <td>151.0</td>\n",
       "      <td>18.0</td>\n",
       "      <td>3108.0</td>\n",
       "      <td>617.0</td>\n",
       "      <td>1418.0</td>\n",
       "      <td>0.435120</td>\n",
       "      <td>9.0</td>\n",
       "      <td>65.0</td>\n",
       "      <td>...</td>\n",
       "      <td>0.0</td>\n",
       "      <td>0.0</td>\n",
       "      <td>0.0</td>\n",
       "      <td>0</td>\n",
       "      <td>0</td>\n",
       "      <td>0.0</td>\n",
       "      <td>0.0</td>\n",
       "      <td>0.0</td>\n",
       "      <td>0.0</td>\n",
       "      <td>0.0</td>\n",
       "    </tr>\n",
       "    <tr>\n",
       "      <th>3</th>\n",
       "      <td>A.J. Guyton</td>\n",
       "      <td>1979.0</td>\n",
       "      <td>80.0</td>\n",
       "      <td>14.0</td>\n",
       "      <td>1246.0</td>\n",
       "      <td>166.0</td>\n",
       "      <td>440.0</td>\n",
       "      <td>0.377273</td>\n",
       "      <td>73.0</td>\n",
       "      <td>193.0</td>\n",
       "      <td>...</td>\n",
       "      <td>0.0</td>\n",
       "      <td>0.0</td>\n",
       "      <td>0.0</td>\n",
       "      <td>0</td>\n",
       "      <td>0</td>\n",
       "      <td>0.0</td>\n",
       "      <td>0.0</td>\n",
       "      <td>0.0</td>\n",
       "      <td>0.0</td>\n",
       "      <td>0.0</td>\n",
       "    </tr>\n",
       "    <tr>\n",
       "      <th>4</th>\n",
       "      <td>A.J. Hammons</td>\n",
       "      <td>1993.0</td>\n",
       "      <td>22.0</td>\n",
       "      <td>0.0</td>\n",
       "      <td>163.0</td>\n",
       "      <td>17.0</td>\n",
       "      <td>42.0</td>\n",
       "      <td>0.404762</td>\n",
       "      <td>5.0</td>\n",
       "      <td>10.0</td>\n",
       "      <td>...</td>\n",
       "      <td>0.0</td>\n",
       "      <td>0.0</td>\n",
       "      <td>0.0</td>\n",
       "      <td>0</td>\n",
       "      <td>0</td>\n",
       "      <td>0.0</td>\n",
       "      <td>0.0</td>\n",
       "      <td>0.0</td>\n",
       "      <td>0.0</td>\n",
       "      <td>0.0</td>\n",
       "    </tr>\n",
       "  </tbody>\n",
       "</table>\n",
       "<p>5 rows × 61 columns</p>\n",
       "</div>"
      ],
      "text/plain": [
       "          Player  Birth Year       G     GS       MP      FG     FGA  \\\n",
       "0     A.C. Green      1964.0  1278.0  832.0  36552.0  4544.0  9202.0   \n",
       "1  A.J. Bramlett      1977.0     8.0    0.0     61.0     4.0    21.0   \n",
       "2   A.J. English      1968.0   151.0   18.0   3108.0   617.0  1418.0   \n",
       "3    A.J. Guyton      1979.0    80.0   14.0   1246.0   166.0   440.0   \n",
       "4   A.J. Hammons      1993.0    22.0    0.0    163.0    17.0    42.0   \n",
       "\n",
       "        FG%     3P    3PA  ...   AllStar_MVP  Final_MVP  DPOY  Final  \\\n",
       "0  0.493806  124.0  489.0  ...           0.0        0.0   0.0      5   \n",
       "1  0.190476    0.0    0.0  ...           0.0        0.0   0.0      0   \n",
       "2  0.435120    9.0   65.0  ...           0.0        0.0   0.0      0   \n",
       "3  0.377273   73.0  193.0  ...           0.0        0.0   0.0      0   \n",
       "4  0.404762    5.0   10.0  ...           0.0        0.0   0.0      0   \n",
       "\n",
       "   Champion  AllStar  First team  Second team  Third team  MVPs  \n",
       "0         3      0.0         0.0          0.0         0.0   0.0  \n",
       "1         0      0.0         0.0          0.0         0.0   0.0  \n",
       "2         0      0.0         0.0          0.0         0.0   0.0  \n",
       "3         0      0.0         0.0          0.0         0.0   0.0  \n",
       "4         0      0.0         0.0          0.0         0.0   0.0  \n",
       "\n",
       "[5 rows x 61 columns]"
      ]
     },
     "execution_count": 16,
     "metadata": {},
     "output_type": "execute_result"
    }
   ],
   "source": [
    "df_new.head()"
   ]
  },
  {
   "cell_type": "markdown",
   "metadata": {},
   "source": [
    "### Check The Correlation Between Awards And VORP"
   ]
  },
  {
   "cell_type": "code",
   "execution_count": 17,
   "metadata": {},
   "outputs": [
    {
     "data": {
      "text/plain": [
       "HOF            0.436834\n",
       "AllStar_MVP    0.473098\n",
       "Final_MVP      0.449949\n",
       "DPOY           0.273940\n",
       "Final          0.427286\n",
       "Champion       0.352213\n",
       "AllStar        0.753804\n",
       "First team     0.487816\n",
       "Second team    0.410567\n",
       "Third team     0.366637\n",
       "MVPs           0.442968\n",
       "dtype: float64"
      ]
     },
     "execution_count": 17,
     "metadata": {},
     "output_type": "execute_result"
    }
   ],
   "source": [
    "# Check the correlations with stats and awards \n",
    "# to inform decision about which stat to 'trigger' \n",
    "# the second part of the add_feature() function.\n",
    "\n",
    "awards_table = df_new[df_new.columns[-11:]] \n",
    "awards = df_new.columns[-11:] \n",
    "\n",
    "awards_table.corrwith(df_new['VORP'])"
   ]
  },
  {
   "cell_type": "code",
   "execution_count": 18,
   "metadata": {},
   "outputs": [],
   "source": [
    "# Save the new dataframe to \n",
    "df_new.to_csv('../data/player_stats_and_awards.csv', index = False, sep = ',')"
   ]
  }
 ],
 "metadata": {
  "anaconda-cloud": {},
  "kernelspec": {
   "display_name": "Python 3",
   "language": "python",
   "name": "python3"
  },
  "language_info": {
   "codemirror_mode": {
    "name": "ipython",
    "version": 3
   },
   "file_extension": ".py",
   "mimetype": "text/x-python",
   "name": "python",
   "nbconvert_exporter": "python",
   "pygments_lexer": "ipython3",
   "version": "3.7.0"
  }
 },
 "nbformat": 4,
 "nbformat_minor": 2
}
