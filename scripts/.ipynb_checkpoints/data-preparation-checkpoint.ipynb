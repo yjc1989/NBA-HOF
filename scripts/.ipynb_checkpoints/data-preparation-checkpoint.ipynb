{
 "cells": [
  {
   "cell_type": "markdown",
   "metadata": {},
   "source": [
    "# Introduction"
   ]
  },
  {
   "cell_type": "markdown",
   "metadata": {},
   "source": [
    "In this notebook, we present how we prepare the clean data set for analysis. We first prepare players' carear statistics based on seasonal statistics downloaded from kaggle. We then include features including Hall of Fame inductees, championships, and seasonal awards."
   ]
  },
  {
   "cell_type": "markdown",
   "metadata": {},
   "source": [
    "# Prepare Data Frame For Career Statistics"
   ]
  },
  {
   "cell_type": "markdown",
   "metadata": {},
   "source": [
    "In this section, we present how we prepare NBA players' career statistics from seasonal statistics data."
   ]
  },
  {
   "cell_type": "markdown",
   "metadata": {},
   "source": [
    "### Importing Packages"
   ]
  },
  {
   "cell_type": "code",
   "execution_count": 1,
   "metadata": {},
   "outputs": [],
   "source": [
    "import numpy as np\n",
    "import pandas as pd\n",
    "from matplotlib import pyplot\n",
    "import seaborn as sns"
   ]
  },
  {
   "cell_type": "markdown",
   "metadata": {},
   "source": [
    "### Importing dataset"
   ]
  },
  {
   "cell_type": "markdown",
   "metadata": {},
   "source": [
    "We first import the seasonal statistics data downed from kaggle and perform a rough cleansing. "
   ]
  },
  {
   "cell_type": "code",
   "execution_count": 2,
   "metadata": {},
   "outputs": [],
   "source": [
    "# The dataset 'Seasons_Stats.csv' is from https://www.kaggle.com/drgilermo/nba-players-stats\n",
    "raw_seasonal_stats = pd.read_csv('../data/Seasons_Stats.csv',index_col=False)\n",
    "\n",
    "# drop the first columns which is only the index\n",
    "raw_seasonal_stats.drop(raw_seasonal_stats.columns[0],axis=1,inplace=True)\n",
    "\n",
    "# delete *\n",
    "raw_seasonal_stats['Player'] = raw_seasonal_stats['Player'].str.replace('*','')\n",
    "\n",
    "# delete blank columns\n",
    "raw_seasonal_stats.drop(['blanl','blank2'],axis=1,inplace = True)"
   ]
  },
  {
   "cell_type": "code",
   "execution_count": 3,
   "metadata": {},
   "outputs": [
    {
     "name": "stdout",
     "output_type": "stream",
     "text": [
      "--------information for seasonal_stats----------\n",
      "<class 'pandas.core.frame.DataFrame'>\n",
      "RangeIndex: 24691 entries, 0 to 24690\n",
      "Data columns (total 50 columns):\n",
      "Year      24624 non-null float64\n",
      "Player    24624 non-null object\n",
      "Pos       24624 non-null object\n",
      "Age       24616 non-null float64\n",
      "Tm        24624 non-null object\n",
      "G         24624 non-null float64\n",
      "GS        18233 non-null float64\n",
      "MP        24138 non-null float64\n",
      "PER       24101 non-null float64\n",
      "TS%       24538 non-null float64\n",
      "3PAr      18839 non-null float64\n",
      "FTr       24525 non-null float64\n",
      "ORB%      20792 non-null float64\n",
      "DRB%      20792 non-null float64\n",
      "TRB%      21571 non-null float64\n",
      "AST%      22555 non-null float64\n",
      "STL%      20792 non-null float64\n",
      "BLK%      20792 non-null float64\n",
      "TOV%      19582 non-null float64\n",
      "USG%      19640 non-null float64\n",
      "OWS       24585 non-null float64\n",
      "DWS       24585 non-null float64\n",
      "WS        24585 non-null float64\n",
      "WS/48     24101 non-null float64\n",
      "OBPM      20797 non-null float64\n",
      "DBPM      20797 non-null float64\n",
      "BPM       20797 non-null float64\n",
      "VORP      20797 non-null float64\n",
      "FG        24624 non-null float64\n",
      "FGA       24624 non-null float64\n",
      "FG%       24525 non-null float64\n",
      "3P        18927 non-null float64\n",
      "3PA       18927 non-null float64\n",
      "3P%       15416 non-null float64\n",
      "2P        24624 non-null float64\n",
      "2PA       24624 non-null float64\n",
      "2P%       24496 non-null float64\n",
      "eFG%      24525 non-null float64\n",
      "FT        24624 non-null float64\n",
      "FTA       24624 non-null float64\n",
      "FT%       23766 non-null float64\n",
      "ORB       20797 non-null float64\n",
      "DRB       20797 non-null float64\n",
      "TRB       24312 non-null float64\n",
      "AST       24624 non-null float64\n",
      "STL       20797 non-null float64\n",
      "BLK       20797 non-null float64\n",
      "TOV       19645 non-null float64\n",
      "PF        24624 non-null float64\n",
      "PTS       24624 non-null float64\n",
      "dtypes: float64(47), object(3)\n",
      "memory usage: 9.4+ MB\n"
     ]
    }
   ],
   "source": [
    "print('--------information for seasonal_stats----------')\n",
    "raw_seasonal_stats.info()"
   ]
  },
  {
   "cell_type": "markdown",
   "metadata": {},
   "source": [
    "This dataset includes statistics from 1950 season to 2017 season. During this period, there are many players having the same legal names, many of them fathers and sons. To construct career statistics, we need to have the ability to distinguish each player. Motivated by the father and son situation, we create a new feature 'Birth Year' to distinguish players who have the same legal names."
   ]
  },
  {
   "cell_type": "code",
   "execution_count": 4,
   "metadata": {},
   "outputs": [],
   "source": [
    "# Create new feature 'birth_year' in All_season_stats, in order to distinguish the players with the same legal names\n",
    "raw_seasonal_stats['Birth Year'] = raw_seasonal_stats['Year'] - raw_seasonal_stats['Age'] "
   ]
  },
  {
   "cell_type": "markdown",
   "metadata": {},
   "source": [
    "After reviewing the data for 1950 season, we find that there are (1) multiple entries for a single player if the player had been traded during the season, (2) there are many missing data. In the following, we are going to deal with these two problems one-by-one."
   ]
  },
  {
   "cell_type": "code",
   "execution_count": 5,
   "metadata": {},
   "outputs": [
    {
     "data": {
      "text/html": [
       "<div>\n",
       "<style scoped>\n",
       "    .dataframe tbody tr th:only-of-type {\n",
       "        vertical-align: middle;\n",
       "    }\n",
       "\n",
       "    .dataframe tbody tr th {\n",
       "        vertical-align: top;\n",
       "    }\n",
       "\n",
       "    .dataframe thead th {\n",
       "        text-align: right;\n",
       "    }\n",
       "</style>\n",
       "<table border=\"1\" class=\"dataframe\">\n",
       "  <thead>\n",
       "    <tr style=\"text-align: right;\">\n",
       "      <th></th>\n",
       "      <th>Year</th>\n",
       "      <th>Player</th>\n",
       "      <th>Pos</th>\n",
       "      <th>Age</th>\n",
       "      <th>Tm</th>\n",
       "      <th>G</th>\n",
       "      <th>GS</th>\n",
       "      <th>MP</th>\n",
       "      <th>PER</th>\n",
       "      <th>TS%</th>\n",
       "      <th>...</th>\n",
       "      <th>ORB</th>\n",
       "      <th>DRB</th>\n",
       "      <th>TRB</th>\n",
       "      <th>AST</th>\n",
       "      <th>STL</th>\n",
       "      <th>BLK</th>\n",
       "      <th>TOV</th>\n",
       "      <th>PF</th>\n",
       "      <th>PTS</th>\n",
       "      <th>Birth Year</th>\n",
       "    </tr>\n",
       "  </thead>\n",
       "  <tbody>\n",
       "    <tr>\n",
       "      <th>0</th>\n",
       "      <td>1950.0</td>\n",
       "      <td>Curly Armstrong</td>\n",
       "      <td>G-F</td>\n",
       "      <td>31.0</td>\n",
       "      <td>FTW</td>\n",
       "      <td>63.0</td>\n",
       "      <td>NaN</td>\n",
       "      <td>NaN</td>\n",
       "      <td>NaN</td>\n",
       "      <td>0.368</td>\n",
       "      <td>...</td>\n",
       "      <td>NaN</td>\n",
       "      <td>NaN</td>\n",
       "      <td>NaN</td>\n",
       "      <td>176.0</td>\n",
       "      <td>NaN</td>\n",
       "      <td>NaN</td>\n",
       "      <td>NaN</td>\n",
       "      <td>217.0</td>\n",
       "      <td>458.0</td>\n",
       "      <td>1919.0</td>\n",
       "    </tr>\n",
       "    <tr>\n",
       "      <th>1</th>\n",
       "      <td>1950.0</td>\n",
       "      <td>Cliff Barker</td>\n",
       "      <td>SG</td>\n",
       "      <td>29.0</td>\n",
       "      <td>INO</td>\n",
       "      <td>49.0</td>\n",
       "      <td>NaN</td>\n",
       "      <td>NaN</td>\n",
       "      <td>NaN</td>\n",
       "      <td>0.435</td>\n",
       "      <td>...</td>\n",
       "      <td>NaN</td>\n",
       "      <td>NaN</td>\n",
       "      <td>NaN</td>\n",
       "      <td>109.0</td>\n",
       "      <td>NaN</td>\n",
       "      <td>NaN</td>\n",
       "      <td>NaN</td>\n",
       "      <td>99.0</td>\n",
       "      <td>279.0</td>\n",
       "      <td>1921.0</td>\n",
       "    </tr>\n",
       "    <tr>\n",
       "      <th>2</th>\n",
       "      <td>1950.0</td>\n",
       "      <td>Leo Barnhorst</td>\n",
       "      <td>SF</td>\n",
       "      <td>25.0</td>\n",
       "      <td>CHS</td>\n",
       "      <td>67.0</td>\n",
       "      <td>NaN</td>\n",
       "      <td>NaN</td>\n",
       "      <td>NaN</td>\n",
       "      <td>0.394</td>\n",
       "      <td>...</td>\n",
       "      <td>NaN</td>\n",
       "      <td>NaN</td>\n",
       "      <td>NaN</td>\n",
       "      <td>140.0</td>\n",
       "      <td>NaN</td>\n",
       "      <td>NaN</td>\n",
       "      <td>NaN</td>\n",
       "      <td>192.0</td>\n",
       "      <td>438.0</td>\n",
       "      <td>1925.0</td>\n",
       "    </tr>\n",
       "    <tr>\n",
       "      <th>3</th>\n",
       "      <td>1950.0</td>\n",
       "      <td>Ed Bartels</td>\n",
       "      <td>F</td>\n",
       "      <td>24.0</td>\n",
       "      <td>TOT</td>\n",
       "      <td>15.0</td>\n",
       "      <td>NaN</td>\n",
       "      <td>NaN</td>\n",
       "      <td>NaN</td>\n",
       "      <td>0.312</td>\n",
       "      <td>...</td>\n",
       "      <td>NaN</td>\n",
       "      <td>NaN</td>\n",
       "      <td>NaN</td>\n",
       "      <td>20.0</td>\n",
       "      <td>NaN</td>\n",
       "      <td>NaN</td>\n",
       "      <td>NaN</td>\n",
       "      <td>29.0</td>\n",
       "      <td>63.0</td>\n",
       "      <td>1926.0</td>\n",
       "    </tr>\n",
       "    <tr>\n",
       "      <th>4</th>\n",
       "      <td>1950.0</td>\n",
       "      <td>Ed Bartels</td>\n",
       "      <td>F</td>\n",
       "      <td>24.0</td>\n",
       "      <td>DNN</td>\n",
       "      <td>13.0</td>\n",
       "      <td>NaN</td>\n",
       "      <td>NaN</td>\n",
       "      <td>NaN</td>\n",
       "      <td>0.308</td>\n",
       "      <td>...</td>\n",
       "      <td>NaN</td>\n",
       "      <td>NaN</td>\n",
       "      <td>NaN</td>\n",
       "      <td>20.0</td>\n",
       "      <td>NaN</td>\n",
       "      <td>NaN</td>\n",
       "      <td>NaN</td>\n",
       "      <td>27.0</td>\n",
       "      <td>59.0</td>\n",
       "      <td>1926.0</td>\n",
       "    </tr>\n",
       "  </tbody>\n",
       "</table>\n",
       "<p>5 rows × 51 columns</p>\n",
       "</div>"
      ],
      "text/plain": [
       "     Year           Player  Pos   Age   Tm     G  GS  MP  PER    TS%  \\\n",
       "0  1950.0  Curly Armstrong  G-F  31.0  FTW  63.0 NaN NaN  NaN  0.368   \n",
       "1  1950.0     Cliff Barker   SG  29.0  INO  49.0 NaN NaN  NaN  0.435   \n",
       "2  1950.0    Leo Barnhorst   SF  25.0  CHS  67.0 NaN NaN  NaN  0.394   \n",
       "3  1950.0       Ed Bartels    F  24.0  TOT  15.0 NaN NaN  NaN  0.312   \n",
       "4  1950.0       Ed Bartels    F  24.0  DNN  13.0 NaN NaN  NaN  0.308   \n",
       "\n",
       "      ...      ORB  DRB  TRB    AST  STL  BLK  TOV     PF    PTS  Birth Year  \n",
       "0     ...      NaN  NaN  NaN  176.0  NaN  NaN  NaN  217.0  458.0      1919.0  \n",
       "1     ...      NaN  NaN  NaN  109.0  NaN  NaN  NaN   99.0  279.0      1921.0  \n",
       "2     ...      NaN  NaN  NaN  140.0  NaN  NaN  NaN  192.0  438.0      1925.0  \n",
       "3     ...      NaN  NaN  NaN   20.0  NaN  NaN  NaN   29.0   63.0      1926.0  \n",
       "4     ...      NaN  NaN  NaN   20.0  NaN  NaN  NaN   27.0   59.0      1926.0  \n",
       "\n",
       "[5 rows x 51 columns]"
      ]
     },
     "execution_count": 5,
     "metadata": {},
     "output_type": "execute_result"
    }
   ],
   "source": [
    "raw_seasonal_stats.query('Year == 1950').head()"
   ]
  },
  {
   "cell_type": "markdown",
   "metadata": {},
   "source": [
    "### Consolidate multiple entries for players traded during the season"
   ]
  },
  {
   "cell_type": "markdown",
   "metadata": {},
   "source": [
    "For players traded during the season, their seasonal statistics is recorded under entry with feature 'Tm' labeled 'TOT.' In the following, we search for entries whose 'Tm' is labeled as 'TOT' in season by season and delete the other entries for the same players."
   ]
  },
  {
   "cell_type": "code",
   "execution_count": 6,
   "metadata": {},
   "outputs": [],
   "source": [
    "# Create new dataframe All_season_stats\n",
    "# eliminae multple entry for a sginel player in one season, keeping only the TOT stats\n",
    "column_list = list(raw_seasonal_stats)\n",
    "temp_seasonal_stats = pd.DataFrame(columns=column_list)\n",
    "\n",
    "for year in range(1950,2018):\n",
    "    temp = raw_seasonal_stats.query('Year == ' + str(year))\n",
    "    # find the entries with 'Tm' labeled as 'TOT'\n",
    "    repeated_name_index = temp.index[temp.Tm == 'TOT'].tolist()\n",
    "    total_list = temp.index.tolist()\n",
    "    # drop the other entries with the same plaer sname and Birth Year\n",
    "    drop_list = []\n",
    "    for i in repeated_name_index:\n",
    "        temp_list = temp.index[(temp.Player == temp.loc[i].Player) & (temp['Birth Year'] == temp.loc[i,'Birth Year']) & (temp.Tm != 'TOT')].tolist()\n",
    "        if temp_list:\n",
    "            # check if the repeated entries are for the same player in different teams rather then a different person\n",
    "            if (sum(temp.loc[temp_list,'G']) != temp.loc[i,'G']):\n",
    "                print('Year = '+ str(year) +': there are Players not distinguishable by names and birth year!')\n",
    "                print(str(i)+','+temp.loc[i].Player)\n",
    "                print(temp_list)\n",
    "            else:\n",
    "                drop_list = drop_list + temp_list\n",
    "\n",
    "    keep_list = sorted(list(set(total_list).difference(set(drop_list))))\n",
    "    single_season_states = temp.loc[keep_list]\n",
    "    # Check if all the repeated entries are deleted\n",
    "    if (single_season_states.groupby(['Player','Birth Year']).Tm.count()>1).sum() > 0:\n",
    "        print('There are error in the codes!')\n",
    "\n",
    "    temp_seasonal_stats = temp_seasonal_stats.append(single_season_states)\n",
    "    \n",
    "temp_seasonal_stats.reset_index(drop = True,inplace=True)\n"
   ]
  },
  {
   "cell_type": "code",
   "execution_count": 7,
   "metadata": {},
   "outputs": [],
   "source": [
    "# rename temp_seasonal_stats as seasonal_stats\n",
    "seasonal_stats= temp_seasonal_stats.copy()"
   ]
  },
  {
   "cell_type": "code",
   "execution_count": 8,
   "metadata": {},
   "outputs": [
    {
     "data": {
      "text/html": [
       "<div>\n",
       "<style scoped>\n",
       "    .dataframe tbody tr th:only-of-type {\n",
       "        vertical-align: middle;\n",
       "    }\n",
       "\n",
       "    .dataframe tbody tr th {\n",
       "        vertical-align: top;\n",
       "    }\n",
       "\n",
       "    .dataframe thead th {\n",
       "        text-align: right;\n",
       "    }\n",
       "</style>\n",
       "<table border=\"1\" class=\"dataframe\">\n",
       "  <thead>\n",
       "    <tr style=\"text-align: right;\">\n",
       "      <th></th>\n",
       "      <th>Year</th>\n",
       "      <th>Player</th>\n",
       "      <th>Pos</th>\n",
       "      <th>Age</th>\n",
       "      <th>Tm</th>\n",
       "      <th>G</th>\n",
       "      <th>GS</th>\n",
       "      <th>MP</th>\n",
       "      <th>PER</th>\n",
       "      <th>TS%</th>\n",
       "      <th>...</th>\n",
       "      <th>ORB</th>\n",
       "      <th>DRB</th>\n",
       "      <th>TRB</th>\n",
       "      <th>AST</th>\n",
       "      <th>STL</th>\n",
       "      <th>BLK</th>\n",
       "      <th>TOV</th>\n",
       "      <th>PF</th>\n",
       "      <th>PTS</th>\n",
       "      <th>Birth Year</th>\n",
       "    </tr>\n",
       "  </thead>\n",
       "  <tbody>\n",
       "    <tr>\n",
       "      <th>0</th>\n",
       "      <td>1950.0</td>\n",
       "      <td>Curly Armstrong</td>\n",
       "      <td>G-F</td>\n",
       "      <td>31.0</td>\n",
       "      <td>FTW</td>\n",
       "      <td>63.0</td>\n",
       "      <td>NaN</td>\n",
       "      <td>NaN</td>\n",
       "      <td>NaN</td>\n",
       "      <td>0.368</td>\n",
       "      <td>...</td>\n",
       "      <td>NaN</td>\n",
       "      <td>NaN</td>\n",
       "      <td>NaN</td>\n",
       "      <td>176.0</td>\n",
       "      <td>NaN</td>\n",
       "      <td>NaN</td>\n",
       "      <td>NaN</td>\n",
       "      <td>217.0</td>\n",
       "      <td>458.0</td>\n",
       "      <td>1919.0</td>\n",
       "    </tr>\n",
       "    <tr>\n",
       "      <th>1</th>\n",
       "      <td>1950.0</td>\n",
       "      <td>Cliff Barker</td>\n",
       "      <td>SG</td>\n",
       "      <td>29.0</td>\n",
       "      <td>INO</td>\n",
       "      <td>49.0</td>\n",
       "      <td>NaN</td>\n",
       "      <td>NaN</td>\n",
       "      <td>NaN</td>\n",
       "      <td>0.435</td>\n",
       "      <td>...</td>\n",
       "      <td>NaN</td>\n",
       "      <td>NaN</td>\n",
       "      <td>NaN</td>\n",
       "      <td>109.0</td>\n",
       "      <td>NaN</td>\n",
       "      <td>NaN</td>\n",
       "      <td>NaN</td>\n",
       "      <td>99.0</td>\n",
       "      <td>279.0</td>\n",
       "      <td>1921.0</td>\n",
       "    </tr>\n",
       "    <tr>\n",
       "      <th>2</th>\n",
       "      <td>1950.0</td>\n",
       "      <td>Leo Barnhorst</td>\n",
       "      <td>SF</td>\n",
       "      <td>25.0</td>\n",
       "      <td>CHS</td>\n",
       "      <td>67.0</td>\n",
       "      <td>NaN</td>\n",
       "      <td>NaN</td>\n",
       "      <td>NaN</td>\n",
       "      <td>0.394</td>\n",
       "      <td>...</td>\n",
       "      <td>NaN</td>\n",
       "      <td>NaN</td>\n",
       "      <td>NaN</td>\n",
       "      <td>140.0</td>\n",
       "      <td>NaN</td>\n",
       "      <td>NaN</td>\n",
       "      <td>NaN</td>\n",
       "      <td>192.0</td>\n",
       "      <td>438.0</td>\n",
       "      <td>1925.0</td>\n",
       "    </tr>\n",
       "    <tr>\n",
       "      <th>3</th>\n",
       "      <td>1950.0</td>\n",
       "      <td>Ed Bartels</td>\n",
       "      <td>F</td>\n",
       "      <td>24.0</td>\n",
       "      <td>TOT</td>\n",
       "      <td>15.0</td>\n",
       "      <td>NaN</td>\n",
       "      <td>NaN</td>\n",
       "      <td>NaN</td>\n",
       "      <td>0.312</td>\n",
       "      <td>...</td>\n",
       "      <td>NaN</td>\n",
       "      <td>NaN</td>\n",
       "      <td>NaN</td>\n",
       "      <td>20.0</td>\n",
       "      <td>NaN</td>\n",
       "      <td>NaN</td>\n",
       "      <td>NaN</td>\n",
       "      <td>29.0</td>\n",
       "      <td>63.0</td>\n",
       "      <td>1926.0</td>\n",
       "    </tr>\n",
       "    <tr>\n",
       "      <th>4</th>\n",
       "      <td>1950.0</td>\n",
       "      <td>Ralph Beard</td>\n",
       "      <td>G</td>\n",
       "      <td>22.0</td>\n",
       "      <td>INO</td>\n",
       "      <td>60.0</td>\n",
       "      <td>NaN</td>\n",
       "      <td>NaN</td>\n",
       "      <td>NaN</td>\n",
       "      <td>0.422</td>\n",
       "      <td>...</td>\n",
       "      <td>NaN</td>\n",
       "      <td>NaN</td>\n",
       "      <td>NaN</td>\n",
       "      <td>233.0</td>\n",
       "      <td>NaN</td>\n",
       "      <td>NaN</td>\n",
       "      <td>NaN</td>\n",
       "      <td>132.0</td>\n",
       "      <td>895.0</td>\n",
       "      <td>1928.0</td>\n",
       "    </tr>\n",
       "  </tbody>\n",
       "</table>\n",
       "<p>5 rows × 51 columns</p>\n",
       "</div>"
      ],
      "text/plain": [
       "     Year           Player  Pos   Age   Tm     G  GS  MP  PER    TS%  \\\n",
       "0  1950.0  Curly Armstrong  G-F  31.0  FTW  63.0 NaN NaN  NaN  0.368   \n",
       "1  1950.0     Cliff Barker   SG  29.0  INO  49.0 NaN NaN  NaN  0.435   \n",
       "2  1950.0    Leo Barnhorst   SF  25.0  CHS  67.0 NaN NaN  NaN  0.394   \n",
       "3  1950.0       Ed Bartels    F  24.0  TOT  15.0 NaN NaN  NaN  0.312   \n",
       "4  1950.0      Ralph Beard    G  22.0  INO  60.0 NaN NaN  NaN  0.422   \n",
       "\n",
       "      ...      ORB  DRB  TRB    AST  STL  BLK  TOV     PF    PTS  Birth Year  \n",
       "0     ...      NaN  NaN  NaN  176.0  NaN  NaN  NaN  217.0  458.0      1919.0  \n",
       "1     ...      NaN  NaN  NaN  109.0  NaN  NaN  NaN   99.0  279.0      1921.0  \n",
       "2     ...      NaN  NaN  NaN  140.0  NaN  NaN  NaN  192.0  438.0      1925.0  \n",
       "3     ...      NaN  NaN  NaN   20.0  NaN  NaN  NaN   29.0   63.0      1926.0  \n",
       "4     ...      NaN  NaN  NaN  233.0  NaN  NaN  NaN  132.0  895.0      1928.0  \n",
       "\n",
       "[5 rows x 51 columns]"
      ]
     },
     "execution_count": 8,
     "metadata": {},
     "output_type": "execute_result"
    }
   ],
   "source": [
    "seasonal_stats.head()"
   ]
  },
  {
   "cell_type": "markdown",
   "metadata": {},
   "source": [
    "### Treating Missing Data"
   ]
  },
  {
   "cell_type": "markdown",
   "metadata": {},
   "source": [
    "We now explore the missing data in the seasonal_stats. There are many missing data before year 1982, possibly becuase some statistics were established or not recoded at that time. For example, the 3-point line was added in 1979 resulting in the game we now recognize as basketball, and marking the Modern NBA era. If we choose only to include data from this era we can still retain 72% of player careers. Therefore, we drop the data before year 1982."
   ]
  },
  {
   "cell_type": "code",
   "execution_count": 9,
   "metadata": {},
   "outputs": [
    {
     "data": {
      "text/plain": [
       "<matplotlib.axes._subplots.AxesSubplot at 0x2cdf8b63b00>"
      ]
     },
     "execution_count": 9,
     "metadata": {},
     "output_type": "execute_result"
    },
    {
     "data": {
      "image/png": "[encoded data removed]",
      "text/plain": [
       "<Figure size 432x288 with 1 Axes>"
      ]
     },
     "metadata": {
      "needs_background": "light"
     },
     "output_type": "display_data"
    }
   ],
   "source": [
    "# the missing data are labeld in yellow\n",
    "sns.heatmap(seasonal_stats.isnull(),yticklabels=False,cbar=False,cmap='viridis')"
   ]
  },
  {
   "cell_type": "code",
   "execution_count": 10,
   "metadata": {},
   "outputs": [],
   "source": [
    "# Drop any data before year 1982 and store the data as part_season_stats\n",
    "part_season_stats = seasonal_stats.query('Year>1981')"
   ]
  },
  {
   "cell_type": "code",
   "execution_count": 11,
   "metadata": {},
   "outputs": [
    {
     "data": {
      "text/plain": [
       "<matplotlib.axes._subplots.AxesSubplot at 0x2cdf9672fd0>"
      ]
     },
     "execution_count": 11,
     "metadata": {},
     "output_type": "execute_result"
    },
    {
     "data": {
      "image/png": "[encoded data removed]",
      "text/plain": [
       "<Figure size 432x288 with 1 Axes>"
      ]
     },
     "metadata": {
      "needs_background": "light"
     },
     "output_type": "display_data"
    }
   ],
   "source": [
    "sns.heatmap(part_season_stats.iloc[:,1:20].isnull(),yticklabels=False,cbar=False,cmap='viridis')"
   ]
  },
  {
   "cell_type": "code",
   "execution_count": 12,
   "metadata": {},
   "outputs": [
    {
     "data": {
      "text/plain": [
       "<matplotlib.axes._subplots.AxesSubplot at 0x2cdf9c68b70>"
      ]
     },
     "execution_count": 12,
     "metadata": {},
     "output_type": "execute_result"
    },
    {
     "data": {
      "image/png": "[encoded data removed]",
      "text/plain": [
       "<Figure size 432x288 with 1 Axes>"
      ]
     },
     "metadata": {
      "needs_background": "light"
     },
     "output_type": "display_data"
    }
   ],
   "source": [
    "sns.heatmap(part_season_stats.iloc[:,21:].isnull(),yticklabels=False,cbar=False,cmap='viridis')"
   ]
  },
  {
   "cell_type": "markdown",
   "metadata": {},
   "source": [
    "To study the null elements, we write the following functions and analyze the null elements one by one. We find that null elements are directly related to the elements that used as denominators in calculation and set those null elements to zero."
   ]
  },
  {
   "cell_type": "code",
   "execution_count": 13,
   "metadata": {},
   "outputs": [],
   "source": [
    "# show the null elements for part_season_stats\n",
    "def show_null_elements(df):\n",
    "    temp = df.isnull().sum()\n",
    "    sig = 0\n",
    "    for x in list(temp.index):\n",
    "        if temp.iloc[:][x] > 0:\n",
    "            sig=1\n",
    "            print(x + ' has ' + str(temp.iloc[:][x]) + ' Null Elements')\n",
    "            \n",
    "    if sig == 0:\n",
    "        print('There are no null elements')\n"
   ]
  },
  {
   "cell_type": "code",
   "execution_count": 14,
   "metadata": {},
   "outputs": [
    {
     "name": "stdout",
     "output_type": "stream",
     "text": [
      "PER has 3 Null Elements\n",
      "TS% has 37 Null Elements\n",
      "3PAr has 44 Null Elements\n",
      "FTr has 44 Null Elements\n",
      "ORB% has 3 Null Elements\n",
      "DRB% has 3 Null Elements\n",
      "TRB% has 3 Null Elements\n",
      "AST% has 3 Null Elements\n",
      "STL% has 3 Null Elements\n",
      "BLK% has 3 Null Elements\n",
      "TOV% has 29 Null Elements\n",
      "USG% has 3 Null Elements\n",
      "WS/48 has 3 Null Elements\n",
      "FG% has 44 Null Elements\n",
      "3P% has 2448 Null Elements\n",
      "2P% has 59 Null Elements\n",
      "eFG% has 44 Null Elements\n",
      "FT% has 408 Null Elements\n"
     ]
    }
   ],
   "source": [
    "show_null_elements(part_season_stats)"
   ]
  },
  {
   "cell_type": "markdown",
   "metadata": {},
   "source": [
    "Here we show that 'MP' == 0 is the reason that 'PER','TS%','ORB%','DRB%','TRB%','AST%','STL%','BLK%','USG%', and 'WS/48' are 'NaN,' and replace 'NaN' with 0. "
   ]
  },
  {
   "cell_type": "code",
   "execution_count": 15,
   "metadata": {},
   "outputs": [
    {
     "name": "stdout",
     "output_type": "stream",
     "text": [
      "              Player   MP  PER  TS%  ORB%  DRB%  TRB%  AST%  STL%  BLK%  USG%  \\\n",
      "15090    Alex Scales  0.0  NaN  NaN   NaN   NaN   NaN   NaN   NaN   NaN   NaN   \n",
      "16636  JamesOn Curry  0.0  NaN  NaN   NaN   NaN   NaN   NaN   NaN   NaN   NaN   \n",
      "18120   Damion James  0.0  NaN  NaN   NaN   NaN   NaN   NaN   NaN   NaN   NaN   \n",
      "\n",
      "       WS/48  \n",
      "15090    NaN  \n",
      "16636    NaN  \n",
      "18120    NaN  \n",
      "              Player   MP  PER  TS%  ORB%  DRB%  TRB%  AST%  STL%  BLK%  USG%  \\\n",
      "15090    Alex Scales  0.0  NaN  NaN   NaN   NaN   NaN   NaN   NaN   NaN   NaN   \n",
      "16636  JamesOn Curry  0.0  NaN  NaN   NaN   NaN   NaN   NaN   NaN   NaN   NaN   \n",
      "18120   Damion James  0.0  NaN  NaN   NaN   NaN   NaN   NaN   NaN   NaN   NaN   \n",
      "\n",
      "       WS/48  \n",
      "15090    NaN  \n",
      "16636    NaN  \n",
      "18120    NaN  \n"
     ]
    }
   ],
   "source": [
    "# if ['PER','TS%','ORB%','DRB%','TRB%','AST%','STL%','BLK%','USG%','WS/48'] == NaN, MP is zero \n",
    "print(part_season_stats[part_season_stats['PER'].isnull()].loc[:,['Player','MP','PER','TS%','ORB%','DRB%','TRB%','AST%','STL%','BLK%','USG%','WS/48']]) # it looks like PER == NaN because MP is zero\n",
    "# MP is zero iff ['PER','TS%','ORB%','DRB%','TRB%','AST%','STL%','BLK%','USG%','WS/48'] == NaN \n",
    "print(part_season_stats[part_season_stats['MP']==0].loc[:,['Player','MP','PER','TS%','ORB%','DRB%','TRB%','AST%','STL%','BLK%','USG%','WS/48']]) "
   ]
  },
  {
   "cell_type": "code",
   "execution_count": 16,
   "metadata": {},
   "outputs": [
    {
     "name": "stdout",
     "output_type": "stream",
     "text": [
      "       PER  TS%  ORB%  DRB%  TRB%  AST%  STL%  BLK%  USG%  WS/48\n",
      "15090  0.0  0.0   0.0   0.0   0.0   0.0   0.0   0.0   0.0    0.0\n",
      "16636  0.0  0.0   0.0   0.0   0.0   0.0   0.0   0.0   0.0    0.0\n",
      "18120  0.0  0.0   0.0   0.0   0.0   0.0   0.0   0.0   0.0    0.0\n",
      "TS% has 34 Null Elements\n",
      "3PAr has 44 Null Elements\n",
      "FTr has 44 Null Elements\n",
      "TOV% has 29 Null Elements\n",
      "FG% has 44 Null Elements\n",
      "3P% has 2448 Null Elements\n",
      "2P% has 59 Null Elements\n",
      "eFG% has 44 Null Elements\n",
      "FT% has 408 Null Elements\n"
     ]
    }
   ],
   "source": [
    "MP_0_index = part_season_stats.index[part_season_stats['MP']==0].tolist();\n",
    "columns = ['PER','TS%','ORB%','DRB%','TRB%','AST%','STL%','BLK%','USG%','WS/48']\n",
    "for i in MP_0_index:\n",
    "    for x in columns:\n",
    "        part_season_stats.at[i,x] = 0 \n",
    "\n",
    "print(part_season_stats.loc[MP_0_index,columns])\n",
    "show_null_elements(part_season_stats)"
   ]
  },
  {
   "cell_type": "markdown",
   "metadata": {},
   "source": [
    "Here we show that '3PAr','FTr','FG%','3P%','2P%','eFG%', and 'FT%' are null elements because the corresponding denominator 'FGA','FGA','FGA','3PA','2PA','FGA', and 'FTA' are zero."
   ]
  },
  {
   "cell_type": "code",
   "execution_count": 17,
   "metadata": {},
   "outputs": [
    {
     "name": "stdout",
     "output_type": "stream",
     "text": [
      "3PAr and FGA: give identical results!\n",
      "FTr and FGA: give identical results!\n",
      "FG% and FGA: give identical results!\n",
      "3P% and 3PA: give identical results!\n",
      "2P% and 2PA: give identical results!\n",
      "eFG% and FGA: give identical results!\n",
      "FT% and FTA: give identical results!\n",
      "\n",
      "\n",
      "TS% has 34 Null Elements\n",
      "TOV% has 29 Null Elements\n"
     ]
    }
   ],
   "source": [
    "# the rate or percentage is NaN because the corresponding denomenator is zero\n",
    "# ['3PAr','FTr','FG%','3P%','2P%','eFG%','FT%']\n",
    "columns1 = ['3PAr','FTr','FG%','3P%','2P%','eFG%','FT%']\n",
    "columns2 = ['FGA','FGA','FGA','3PA','2PA','FGA','FTA']\n",
    "\n",
    "for x1 in columns1:\n",
    "    x2 = columns2[columns1.index(x1)]\n",
    "    null_set = set(part_season_stats.index[part_season_stats[x1].isnull()].tolist())\n",
    "    zero_set = set(part_season_stats.index[part_season_stats[x2]==0].tolist())\n",
    "    if null_set == zero_set:\n",
    "        print(x1 + ' and ' + x2 + ': give identical results!')\n",
    "    else:\n",
    "        print(x1 + ' and ' + x2 + ': give different results!')\n",
    "        \n",
    "print('\\n')\n",
    "\n",
    "for x in columns1:\n",
    "    null_index = part_season_stats.index[part_season_stats[x].isnull()].tolist()\n",
    "    for i in null_index:\n",
    "        part_season_stats.at[i,x] = 0 \n",
    "\n",
    "show_null_elements(part_season_stats)"
   ]
  },
  {
   "cell_type": "markdown",
   "metadata": {},
   "source": [
    "Here we show that 'TS% is null iff 'FGA' == 0, 'FTA' == 0, and 'MP'!=0 and that 'TOV% is null iff 'FGA' == 0, 'FTA' == 0, and 'TOV'==0. "
   ]
  },
  {
   "cell_type": "code",
   "execution_count": 18,
   "metadata": {},
   "outputs": [
    {
     "name": "stdout",
     "output_type": "stream",
     "text": [
      "The two sets are the same: True\n",
      "The two sets are the same: True\n",
      "\n",
      "\n",
      "There are no null elements\n"
     ]
    }
   ],
   "source": [
    "# 'TS% is null iff 'FGA' == 0, 'FTA' == 0, and 'MP'!=0\n",
    "null_set = set(part_season_stats.index[part_season_stats['TS%'].isnull()].tolist())\n",
    "FGA_zero_set = set(part_season_stats.index[part_season_stats['FGA']==0].tolist())\n",
    "FTA_zero_set = set(part_season_stats.index[part_season_stats['FTA']==0].tolist())\n",
    "MP_nonzero_set = set(part_season_stats.index[part_season_stats['MP']!=0].tolist())\n",
    "zero_set = FGA_zero_set.intersection(FTA_zero_set,MP_nonzero_set)\n",
    "\n",
    "print('The two sets are the same: '+str(null_set == zero_set))\n",
    "\n",
    "# 'TOV% is null iff 'FGA' == 0, 'FTA' == 0, and 'TOV'==0\n",
    "null_set = set(part_season_stats.index[part_season_stats['TOV%'].isnull()].tolist())\n",
    "FGA_zero_set = set(part_season_stats.index[part_season_stats['FGA']==0].tolist())\n",
    "FTA_zero_set = set(part_season_stats.index[part_season_stats['FTA']==0].tolist())\n",
    "TOV_zero_set = set(part_season_stats.index[part_season_stats['TOV']==0].tolist())\n",
    "zero_set = FGA_zero_set.intersection(FTA_zero_set,TOV_zero_set)\n",
    "\n",
    "print('The two sets are the same: '+str(null_set == zero_set))\n",
    "\n",
    "for x in ['TS%','TOV%']:\n",
    "    null_index = part_season_stats.index[part_season_stats[x].isnull()].tolist()\n",
    "    for i in null_index:\n",
    "        part_season_stats.at[i,x] = 0 \n",
    "\n",
    "print('\\n')\n",
    "show_null_elements(part_season_stats)"
   ]
  },
  {
   "cell_type": "markdown",
   "metadata": {},
   "source": [
    "### Construct Data Frame For Career Statistics"
   ]
  },
  {
   "cell_type": "markdown",
   "metadata": {
    "collapsed": true
   },
   "source": [
    "We first construct features 'Year_start' and 'Year_end' out of seasonal_stats so that the features would be accurate for players who have played before 1982."
   ]
  },
  {
   "cell_type": "code",
   "execution_count": 19,
   "metadata": {},
   "outputs": [
    {
     "data": {
      "text/html": [
       "<div>\n",
       "<style scoped>\n",
       "    .dataframe tbody tr th:only-of-type {\n",
       "        vertical-align: middle;\n",
       "    }\n",
       "\n",
       "    .dataframe tbody tr th {\n",
       "        vertical-align: top;\n",
       "    }\n",
       "\n",
       "    .dataframe thead th {\n",
       "        text-align: right;\n",
       "    }\n",
       "</style>\n",
       "<table border=\"1\" class=\"dataframe\">\n",
       "  <thead>\n",
       "    <tr style=\"text-align: right;\">\n",
       "      <th></th>\n",
       "      <th>Player</th>\n",
       "      <th>Birth Year</th>\n",
       "      <th>Year_start</th>\n",
       "      <th>Year_end</th>\n",
       "    </tr>\n",
       "  </thead>\n",
       "  <tbody>\n",
       "    <tr>\n",
       "      <th>0</th>\n",
       "      <td>A.C. Green</td>\n",
       "      <td>1964.0</td>\n",
       "      <td>1986.0</td>\n",
       "      <td>2001.0</td>\n",
       "    </tr>\n",
       "    <tr>\n",
       "      <th>1</th>\n",
       "      <td>A.J. Bramlett</td>\n",
       "      <td>1977.0</td>\n",
       "      <td>2000.0</td>\n",
       "      <td>2000.0</td>\n",
       "    </tr>\n",
       "    <tr>\n",
       "      <th>2</th>\n",
       "      <td>A.J. English</td>\n",
       "      <td>1968.0</td>\n",
       "      <td>1991.0</td>\n",
       "      <td>1992.0</td>\n",
       "    </tr>\n",
       "    <tr>\n",
       "      <th>3</th>\n",
       "      <td>A.J. Guyton</td>\n",
       "      <td>1979.0</td>\n",
       "      <td>2001.0</td>\n",
       "      <td>2003.0</td>\n",
       "    </tr>\n",
       "    <tr>\n",
       "      <th>4</th>\n",
       "      <td>A.J. Hammons</td>\n",
       "      <td>1993.0</td>\n",
       "      <td>2017.0</td>\n",
       "      <td>2017.0</td>\n",
       "    </tr>\n",
       "  </tbody>\n",
       "</table>\n",
       "</div>"
      ],
      "text/plain": [
       "          Player  Birth Year  Year_start  Year_end\n",
       "0     A.C. Green      1964.0      1986.0    2001.0\n",
       "1  A.J. Bramlett      1977.0      2000.0    2000.0\n",
       "2   A.J. English      1968.0      1991.0    1992.0\n",
       "3    A.J. Guyton      1979.0      2001.0    2003.0\n",
       "4   A.J. Hammons      1993.0      2017.0    2017.0"
      ]
     },
     "execution_count": 19,
     "metadata": {},
     "output_type": "execute_result"
    }
   ],
   "source": [
    "# The features for 'Year_start' and 'Year_end'\n",
    "year_features = seasonal_stats.groupby(['Player','Birth Year'])['Year'].agg(['min','max']).reset_index().rename(index=str, columns={'min':'Year_start','max':'Year_end'})\n",
    "year_features.head()"
   ]
  },
  {
   "cell_type": "markdown",
   "metadata": {},
   "source": [
    "We then construct the player's career statistics out of seasonal statistics. However, for players who have played before 1982, some of the statistics would be inaccurate because of missing data. "
   ]
  },
  {
   "cell_type": "code",
   "execution_count": 20,
   "metadata": {},
   "outputs": [],
   "source": [
    "def career_func(df):\n",
    "    # \n",
    "    df_new = pd.DataFrame()\n",
    "    # total game\n",
    "    df_new[['G']] = df[['G']].sum() \n",
    "    # total game start\n",
    "    df_new[['GS']] = df[['GS']].sum() \n",
    "    # total minute played\n",
    "    df_new['MP'] = df[['MP']].sum()  # minute per game df_new['MP'] = df.apply(lambda x: x['MP'].sum()/x['G'].sum()) \n",
    "    # 'FG': Field Goal\n",
    "    df_new['FG'] = df[['FG']].sum();\n",
    "    # 'FGA': Field Goal Attempt\n",
    "    df_new['FGA'] = df[['FGA']].sum();\n",
    "    # 'FG%': Field Goal Percentage; the formula is FG / FGA. \n",
    "    df_new['FG%'] = df.apply(lambda x: x['FG'].sum()/x['FGA'].sum() if x['FGA'].sum() > 0 else 0)\n",
    "    # '3P': 3-Point Field Goals \n",
    "    df_new['3P'] = df[['3P']].sum();\n",
    "    # '3PA': 3-Point Field Goal attempt\n",
    "    df_new['3PA'] = df[['3PA']].sum();\n",
    "    # '3P%': 3-point Field Goal Percentage\n",
    "    df_new['3P%'] = df.apply(lambda x: x['3P'].sum()/x['3PA'].sum() if x['3PA'].sum() >0 else 0)\n",
    "    # '2P': 2-Point Field Goals\n",
    "    df_new['2P'] = df[['2P']].sum();\n",
    "    # '2PA': 2-Point Field Goal attempt\n",
    "    df_new['2PA'] = df[['2PA']].sum();\n",
    "    # '2P%': 2-point Field Goal Percentage\n",
    "    df_new['2P%'] = df.apply(lambda x: x['2P'].sum()/x['2PA'].sum() if x['2PA'].sum() >0 else 0)\n",
    "    # 'eFG%': Effective Field Goal Percentage; the formula is (FG + 0.5 * 3P) / FGA.\n",
    "    df_new['eFG%'] = df.apply(lambda x: (x['FG'].sum() + 0.5*x['3P'].sum())/x['FGA'].sum() if x['FGA'].sum() >0 else 0)\n",
    "    # 'FT': Free Throws \n",
    "    df_new['FT'] = df[['FT']].sum();\n",
    "    # 'FTA': Free Throws Attempt\n",
    "    df_new['FTA'] = df[['FTA']].sum();\n",
    "    # 'FT%': Free Throws Percentage\n",
    "    df_new['FT%'] = df.apply(lambda x: x['FT'].sum()/x['FTA'].sum() if x['FTA'].sum() >0 else 0)\n",
    "    # 'ORB': Offensive Rebound\n",
    "    df_new['ORB'] = df[['ORB']].sum();\n",
    "    # 'DRB': defensive Rebound\n",
    "    df_new['DRB'] = df[['DRB']].sum();\n",
    "    # 'TRB': total rebound \n",
    "    df_new['TRB'] = df[['TRB']].sum();\n",
    "    # 'AST': Assist\n",
    "    df_new['AST'] = df[['AST']].sum();\n",
    "    # 'STL': Steal\n",
    "    df_new['STL'] = df[['STL']].sum();\n",
    "    # 'BLK': Block\n",
    "    df_new['BLK'] = df[['BLK']].sum();\n",
    "    # 'TOV': turnover\n",
    "    df_new['TOV'] = df[['TOV']].sum();\n",
    "    # 'PF': personal foul\n",
    "    df_new['PF'] = df[['PF']].sum();\n",
    "    # 'PTS': total points\n",
    "    df_new['PTS'] = df[['PTS']].sum();\n",
    "       \n",
    "    # 'PER': Player Efficiency Rating\n",
    "    df_new['PER'] = df.apply(lambda x: (x['MP']*x['PER']).sum()/x['MP'].sum() if x['MP'].sum()>0 else 0) \n",
    "     # 'TS%': True Shooting Percentage; the formula is PTS / (2 * TSA); True Shooting Attempts; the formula is FGA + 0.44 * FTA.\n",
    "    df_new['TS%'] = df.apply(lambda x: (x['PTS'].sum())/(2*(x['FGA']+0.44*x['FTA']).sum()) if (x['FGA']+0.44*x['FTA']).sum()>0 else 0)\n",
    "    # '3PAr': 3PAr = (3PA / FGA)\n",
    "    df_new['3PAr'] = df.apply(lambda x: x['3PA'].sum()/x['FGA'].sum() if x['FGA'].sum() >0 else 0)\n",
    "    # 'FTr':  FTr = (FTA / FGA) \n",
    "    df_new['FTr'] = df.apply(lambda x: x['FTA'].sum()/x['FGA'].sum() if x['FGA'].sum() >0 else 0)\n",
    "    # 'ORB%': Offensive Rebound Percentage \n",
    "    df_new['ORB%'] = df.apply(lambda x: (x['MP']*x['ORB%']).sum()/x['MP'].sum() if x['MP'].sum()>0 else 0) \n",
    "    # 'DRB%': Defensive Rebound Percentage\n",
    "    df_new['DRB%'] = df.apply(lambda x: (x['MP']*x['DRB%']).sum()/x['MP'].sum() if x['MP'].sum()>0 else 0) \n",
    "    # 'TRB%': Total Rebound Percentage\n",
    "    df_new['TRB%'] = df.apply(lambda x: (x['MP']*x['TRB%']).sum()/x['MP'].sum() if x['MP'].sum()>0 else 0) \n",
    "    # 'AST%': Assist Percentage\n",
    "    df_new['AST%'] = df.apply(lambda x: (x['MP']*x['AST%']).sum()/x['MP'].sum() if x['MP'].sum()>0 else 0) \n",
    "    # 'STL%': Steal Percentage\n",
    "    df_new['STL%'] = df.apply(lambda x: (x['MP']*x['STL%']).sum()/x['MP'].sum() if x['MP'].sum()>0 else 0) \n",
    "    # 'BLK%': Block Percentage\n",
    "    df_new['BLK%'] = df.apply(lambda x: (x['MP']*x['BLK%']).sum()/x['MP'].sum() if x['MP'].sum()>0 else 0) \n",
    "    # 'TOV%': Turnover Percentage\n",
    "    df_new['TOV%'] = df.apply(lambda x: (x['MP']*x['TOV%']).sum()/x['MP'].sum() if x['MP'].sum()>0 else 0) \n",
    "    # 'USG%': Usage Percentage\n",
    "    df_new['USG%'] = df.apply(lambda x: (x['MP']*x['USG%']).sum()/x['MP'].sum() if x['MP'].sum()>0 else 0) \n",
    "    # 'OWS': Offensive Win Shares\n",
    "    df_new['OWS'] = df['OWS'].sum()\n",
    "    # 'DWS': Defensive Win Shares\n",
    "    df_new['DWS'] = df['DWS'].sum()\n",
    "    # 'WS': Win Shares\n",
    "    df_new['WS'] = df['WS'].sum()   \n",
    "    # 'WS/48': Win Shares per 48 minuts \n",
    "    df_new['WS/48'] = df.apply(lambda x: (x['MP']*x['WS/48']).sum()/x['MP'].sum() if x['MP'].sum()>0 else 0) \n",
    "    # 'OBPM': Offensive Box Plus/Minus\n",
    "    df_new['OBPM'] = df.apply(lambda x: (x['MP']*x['OBPM']).sum()/x['MP'].sum() if x['MP'].sum()>0 else 0) \n",
    "    # 'DBPM': defensive Box Plus/Minus\n",
    "    df_new['DBPM'] = df.apply(lambda x: (x['MP']*x['DBPM']).sum()/x['MP'].sum() if x['MP'].sum()>0 else 0) \n",
    "    # 'BPM': Box Plus/Minus\n",
    "    df_new['BPM'] = df.apply(lambda x: (x['MP']*x['BPM']).sum()/x['MP'].sum() if x['MP'].sum()>0 else 0) \n",
    "    # 'VORP': Value over Replacement Player (VORP)\n",
    "    df_new['VORP'] = df['VORP'].sum()\n",
    "    \n",
    "    return df_new\n",
    "    "
   ]
  },
  {
   "cell_type": "code",
   "execution_count": 21,
   "metadata": {},
   "outputs": [],
   "source": [
    "# Use the above function to correctly aggregate all the basketball stats.\n",
    "career_stats = career_func(part_season_stats.groupby(['Player','Birth Year']))\n",
    "career_stats.reset_index(inplace=True);\n",
    "\n",
    "# include the 'Year_start' and 'Year_end' features\n",
    "for feature in ['Year_start', 'Year_end']: \n",
    "    d = year_features.set_index(['Player','Birth Year']).to_dict()[feature]\n",
    "    # Create a new column in df for the new feature indexed by 'Player' and 'Birth Year'\n",
    "    career_stats[feature] = pd.Series(list(zip(career_stats['Player'],career_stats['Birth Year']))).map(d)\n",
    "    career_stats[feature] = career_stats[feature].fillna(value = 0) #  Fill new NaN values with 0.\n",
    "    \n",
    "# 'Length': Length of career\n",
    "career_stats['Length'] = career_stats['Year_end'] - career_stats['Year_start']+1 "
   ]
  },
  {
   "cell_type": "markdown",
   "metadata": {},
   "source": [
    "The dataframe career_stats is now ready for including new features such as Hall of Fame inductees."
   ]
  },
  {
   "cell_type": "markdown",
   "metadata": {},
   "source": [
    "### Hall of Fame Inductees"
   ]
  },
  {
   "cell_type": "markdown",
   "metadata": {},
   "source": [
    "We first import the list of Hall of Fame inductees from the data scraped from the web"
   ]
  },
  {
   "cell_type": "code",
   "execution_count": 22,
   "metadata": {},
   "outputs": [],
   "source": [
    "raw_HOF_data = pd.read_csv('../data/Hall-of-Fame.csv')"
   ]
  },
  {
   "cell_type": "markdown",
   "metadata": {},
   "source": [
    "We then delete the white space in the inductees' name if any."
   ]
  },
  {
   "cell_type": "code",
   "execution_count": 23,
   "metadata": {},
   "outputs": [],
   "source": [
    "HOF_Inductees_list = raw_HOF_data.Inductees.tolist()\n",
    "for index in range(0,len(HOF_Inductees_list)):\n",
    "    if HOF_Inductees_list[index][0] == \" \":\n",
    "        HOF_Inductees_list[index] = HOF_Inductees_list[index][1:]\n"
   ]
  },
  {
   "cell_type": "markdown",
   "metadata": {},
   "source": [
    "Append the feature, 'HOF,' which is 1 if the player is an Hall of Fame inductees or 0 otherwise. Here we again have to distinguish the players who have the same legal names."
   ]
  },
  {
   "cell_type": "code",
   "execution_count": 27,
   "metadata": {},
   "outputs": [
    {
     "name": "stdout",
     "output_type": "stream",
     "text": [
      "# of HOF Inductees have the same name: 0\n",
      "940       Gary Payton\n",
      "941       Gary Payton\n",
      "2029    Patrick Ewing\n",
      "2030    Patrick Ewing\n",
      "Name: Player, dtype: object\n",
      "             Player  Birth Year       G      GS       MP      FG      FGA  \\\n",
      "940     Gary Payton      1969.0  1335.0  1233.0  47117.0  8708.0  18698.0   \n",
      "941     Gary Payton      1993.0     6.0     0.0     99.0     8.0     22.0   \n",
      "2029  Patrick Ewing      1963.0  1183.0  1122.0  40594.0  9702.0  19241.0   \n",
      "2030  Patrick Ewing      1985.0     7.0     0.0     19.0     0.0      5.0   \n",
      "\n",
      "           FG%      3P     3PA ...      WS     WS/48      OBPM      DBPM  \\\n",
      "940   0.465718  1132.0  3570.0 ...   145.5  0.148208  3.331662 -0.027924   \n",
      "941   0.363636     1.0     9.0 ...    -0.2 -0.074000 -7.300000  0.600000   \n",
      "2029  0.504236    19.0   125.0 ...   126.5  0.149495 -0.522863  2.498377   \n",
      "2030  0.000000     0.0     2.0 ...    -0.1 -0.158000 -8.700000 -0.600000   \n",
      "\n",
      "           BPM  VORP  Year_start  Year_end  Length  HOF  \n",
      "940   3.303738  63.0      1991.0    2007.0    17.0    1  \n",
      "941  -6.700000  -0.1      2017.0    2017.0     1.0    0  \n",
      "2029  2.004249  41.0      1986.0    2002.0    17.0    1  \n",
      "2030 -9.300000   0.0      2011.0    2011.0     1.0    0  \n",
      "\n",
      "[4 rows x 51 columns]\n"
     ]
    }
   ],
   "source": [
    "# Check: there are no HOF Inductees have the same names\n",
    "print('# of HOF Inductees have the same name: '+ str(raw_HOF_data.Inductees.duplicated().sum()))\n",
    "# Check if there are people with the same name as the HOF Inductees\n",
    "#HOF_Inductees_list = raw_HOF_data.Inductees.tolist()\n",
    "HOF_Inductee_names = career_stats.Player[career_stats.Player.isin(HOF_Inductees_list)]\n",
    "print(HOF_Inductee_names[HOF_Inductee_names.duplicated(keep = False)])\n",
    "# need to work on Gary Payton {940; 941} and Patrick Ewing {2029; 2030}\n",
    "HOF_Inductee_names_duplicated = HOF_Inductee_names.index[HOF_Inductee_names.duplicated(keep = False)].tolist()\n",
    "print(career_stats.loc[HOF_Inductee_names_duplicated])\n",
    "raw_HOF_data[(raw_HOF_data.Inductees == 'Gary Payton') | (raw_HOF_data.Inductees == 'Patrick Ewing')]\n",
    "\n",
    "# According the HOF data the HOF Inductees are \n",
    "# 'Gary Payton' (940) and 'Patrick Ewing' (2029)\n",
    "HOF_index = list(career_stats.index[career_stats.Player.isin(HOF_Inductees_list)].drop([941,2030]))\n",
    "career_stats['HOF'] = 0\n",
    "career_stats.loc[HOF_index,'HOF'] = 1\n"
   ]
  },
  {
   "cell_type": "code",
   "execution_count": 25,
   "metadata": {},
   "outputs": [
    {
     "data": {
      "text/html": [
       "<div>\n",
       "<style scoped>\n",
       "    .dataframe tbody tr th:only-of-type {\n",
       "        vertical-align: middle;\n",
       "    }\n",
       "\n",
       "    .dataframe tbody tr th {\n",
       "        vertical-align: top;\n",
       "    }\n",
       "\n",
       "    .dataframe thead th {\n",
       "        text-align: right;\n",
       "    }\n",
       "</style>\n",
       "<table border=\"1\" class=\"dataframe\">\n",
       "  <thead>\n",
       "    <tr style=\"text-align: right;\">\n",
       "      <th></th>\n",
       "      <th>Player</th>\n",
       "      <th>Birth Year</th>\n",
       "      <th>G</th>\n",
       "      <th>GS</th>\n",
       "      <th>MP</th>\n",
       "      <th>FG</th>\n",
       "      <th>FGA</th>\n",
       "      <th>FG%</th>\n",
       "      <th>3P</th>\n",
       "      <th>3PA</th>\n",
       "      <th>...</th>\n",
       "      <th>WS</th>\n",
       "      <th>WS/48</th>\n",
       "      <th>OBPM</th>\n",
       "      <th>DBPM</th>\n",
       "      <th>BPM</th>\n",
       "      <th>VORP</th>\n",
       "      <th>Year_start</th>\n",
       "      <th>Year_end</th>\n",
       "      <th>Length</th>\n",
       "      <th>HOF</th>\n",
       "    </tr>\n",
       "  </thead>\n",
       "  <tbody>\n",
       "    <tr>\n",
       "      <th>0</th>\n",
       "      <td>A.C. Green</td>\n",
       "      <td>1964.0</td>\n",
       "      <td>1278.0</td>\n",
       "      <td>832.0</td>\n",
       "      <td>36552.0</td>\n",
       "      <td>4544.0</td>\n",
       "      <td>9202.0</td>\n",
       "      <td>0.493806</td>\n",
       "      <td>124.0</td>\n",
       "      <td>489.0</td>\n",
       "      <td>...</td>\n",
       "      <td>99.4</td>\n",
       "      <td>0.130629</td>\n",
       "      <td>-0.045705</td>\n",
       "      <td>0.458221</td>\n",
       "      <td>0.412785</td>\n",
       "      <td>22.5</td>\n",
       "      <td>1986.0</td>\n",
       "      <td>2001.0</td>\n",
       "      <td>16.0</td>\n",
       "      <td>0</td>\n",
       "    </tr>\n",
       "    <tr>\n",
       "      <th>1</th>\n",
       "      <td>A.J. Bramlett</td>\n",
       "      <td>1977.0</td>\n",
       "      <td>8.0</td>\n",
       "      <td>0.0</td>\n",
       "      <td>61.0</td>\n",
       "      <td>4.0</td>\n",
       "      <td>21.0</td>\n",
       "      <td>0.190476</td>\n",
       "      <td>0.0</td>\n",
       "      <td>0.0</td>\n",
       "      <td>...</td>\n",
       "      <td>-0.2</td>\n",
       "      <td>-0.129000</td>\n",
       "      <td>-10.500000</td>\n",
       "      <td>-6.300000</td>\n",
       "      <td>-16.800000</td>\n",
       "      <td>-0.2</td>\n",
       "      <td>2000.0</td>\n",
       "      <td>2000.0</td>\n",
       "      <td>1.0</td>\n",
       "      <td>0</td>\n",
       "    </tr>\n",
       "    <tr>\n",
       "      <th>2</th>\n",
       "      <td>A.J. English</td>\n",
       "      <td>1968.0</td>\n",
       "      <td>151.0</td>\n",
       "      <td>18.0</td>\n",
       "      <td>3108.0</td>\n",
       "      <td>617.0</td>\n",
       "      <td>1418.0</td>\n",
       "      <td>0.435120</td>\n",
       "      <td>9.0</td>\n",
       "      <td>65.0</td>\n",
       "      <td>...</td>\n",
       "      <td>1.1</td>\n",
       "      <td>0.017107</td>\n",
       "      <td>-2.232143</td>\n",
       "      <td>-2.889286</td>\n",
       "      <td>-5.121429</td>\n",
       "      <td>-2.4</td>\n",
       "      <td>1991.0</td>\n",
       "      <td>1992.0</td>\n",
       "      <td>2.0</td>\n",
       "      <td>0</td>\n",
       "    </tr>\n",
       "    <tr>\n",
       "      <th>3</th>\n",
       "      <td>A.J. Guyton</td>\n",
       "      <td>1979.0</td>\n",
       "      <td>80.0</td>\n",
       "      <td>14.0</td>\n",
       "      <td>1246.0</td>\n",
       "      <td>166.0</td>\n",
       "      <td>440.0</td>\n",
       "      <td>0.377273</td>\n",
       "      <td>73.0</td>\n",
       "      <td>193.0</td>\n",
       "      <td>...</td>\n",
       "      <td>0.3</td>\n",
       "      <td>0.009785</td>\n",
       "      <td>-1.023034</td>\n",
       "      <td>-4.411557</td>\n",
       "      <td>-5.434591</td>\n",
       "      <td>-1.0</td>\n",
       "      <td>2001.0</td>\n",
       "      <td>2003.0</td>\n",
       "      <td>3.0</td>\n",
       "      <td>0</td>\n",
       "    </tr>\n",
       "    <tr>\n",
       "      <th>4</th>\n",
       "      <td>A.J. Hammons</td>\n",
       "      <td>1993.0</td>\n",
       "      <td>22.0</td>\n",
       "      <td>0.0</td>\n",
       "      <td>163.0</td>\n",
       "      <td>17.0</td>\n",
       "      <td>42.0</td>\n",
       "      <td>0.404762</td>\n",
       "      <td>5.0</td>\n",
       "      <td>10.0</td>\n",
       "      <td>...</td>\n",
       "      <td>0.0</td>\n",
       "      <td>-0.001000</td>\n",
       "      <td>-7.500000</td>\n",
       "      <td>1.900000</td>\n",
       "      <td>-5.600000</td>\n",
       "      <td>-0.1</td>\n",
       "      <td>2017.0</td>\n",
       "      <td>2017.0</td>\n",
       "      <td>1.0</td>\n",
       "      <td>0</td>\n",
       "    </tr>\n",
       "  </tbody>\n",
       "</table>\n",
       "<p>5 rows × 51 columns</p>\n",
       "</div>"
      ],
      "text/plain": [
       "          Player  Birth Year       G     GS       MP      FG     FGA  \\\n",
       "0     A.C. Green      1964.0  1278.0  832.0  36552.0  4544.0  9202.0   \n",
       "1  A.J. Bramlett      1977.0     8.0    0.0     61.0     4.0    21.0   \n",
       "2   A.J. English      1968.0   151.0   18.0   3108.0   617.0  1418.0   \n",
       "3    A.J. Guyton      1979.0    80.0   14.0   1246.0   166.0   440.0   \n",
       "4   A.J. Hammons      1993.0    22.0    0.0    163.0    17.0    42.0   \n",
       "\n",
       "        FG%     3P    3PA ...     WS     WS/48       OBPM      DBPM  \\\n",
       "0  0.493806  124.0  489.0 ...   99.4  0.130629  -0.045705  0.458221   \n",
       "1  0.190476    0.0    0.0 ...   -0.2 -0.129000 -10.500000 -6.300000   \n",
       "2  0.435120    9.0   65.0 ...    1.1  0.017107  -2.232143 -2.889286   \n",
       "3  0.377273   73.0  193.0 ...    0.3  0.009785  -1.023034 -4.411557   \n",
       "4  0.404762    5.0   10.0 ...    0.0 -0.001000  -7.500000  1.900000   \n",
       "\n",
       "         BPM  VORP  Year_start  Year_end  Length  HOF  \n",
       "0   0.412785  22.5      1986.0    2001.0    16.0    0  \n",
       "1 -16.800000  -0.2      2000.0    2000.0     1.0    0  \n",
       "2  -5.121429  -2.4      1991.0    1992.0     2.0    0  \n",
       "3  -5.434591  -1.0      2001.0    2003.0     3.0    0  \n",
       "4  -5.600000  -0.1      2017.0    2017.0     1.0    0  \n",
       "\n",
       "[5 rows x 51 columns]"
      ]
     },
     "execution_count": 25,
     "metadata": {},
     "output_type": "execute_result"
    }
   ],
   "source": [
    "career_stats.head()"
   ]
  },
  {
   "cell_type": "markdown",
   "metadata": {},
   "source": [
    "Save the dataframe career_stats to player_stats.csv"
   ]
  },
  {
   "cell_type": "code",
   "execution_count": 26,
   "metadata": {},
   "outputs": [],
   "source": [
    "career_stats.to_csv('../data/player_stats.csv', index = False, sep = ',')"
   ]
  }
 ],
 "metadata": {
  "kernelspec": {
   "display_name": "Python 3",
   "language": "python",
   "name": "python3"
  },
  "language_info": {
   "codemirror_mode": {
    "name": "ipython",
    "version": 3
   },
   "file_extension": ".py",
   "mimetype": "text/x-python",
   "name": "python",
   "nbconvert_exporter": "python",
   "pygments_lexer": "ipython3",
   "version": "3.7.0"
  }
 },
 "nbformat": 4,
 "nbformat_minor": 2
}
